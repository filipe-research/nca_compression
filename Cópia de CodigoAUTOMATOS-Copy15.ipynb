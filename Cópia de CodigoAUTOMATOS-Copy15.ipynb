{
 "cells": [
  {
   "cell_type": "code",
   "execution_count": 1,
   "metadata": {
    "colab": {
     "base_uri": "https://localhost:8080/"
    },
    "executionInfo": {
     "elapsed": 1890,
     "status": "ok",
     "timestamp": 1710864975645,
     "user": {
      "displayName": "FILIPE CORDEIRO",
      "userId": "06393699062473933828"
     },
     "user_tz": 180
    },
    "id": "g_K6j13HfVLO",
    "outputId": "ad882db7-b9df-4dca-b1ae-624e7b694a9c",
    "tags": []
   },
   "outputs": [
    {
     "name": "stdout",
     "output_type": "stream",
     "text": [
      "Cloning into 'Growing-Neural-Cellular-Automata'...\n",
      "remote: Enumerating objects: 57, done.\u001b[K\n",
      "remote: Counting objects: 100% (19/19), done.\u001b[K\n",
      "remote: Compressing objects: 100% (15/15), done.\u001b[K\n",
      "remote: Total 57 (delta 10), reused 4 (delta 4), pack-reused 38\u001b[K\n",
      "Receiving objects: 100% (57/57), 3.60 MiB | 1.11 MiB/s, done.\n",
      "Resolving deltas: 100% (20/20), done.\n",
      "/home/pesquisavcl/pesquisa/filipe/automatos/Growing-Neural-Cellular-Automata\n"
     ]
    }
   ],
   "source": [
    "!git clone https://github.com/chenmingxiang110/Growing-Neural-Cellular-Automata.git\n",
    "\n"
   ]
  },
  {
   "cell_type": "code",
   "execution_count": 1,
   "metadata": {
    "tags": []
   },
   "outputs": [
    {
     "name": "stdout",
     "output_type": "stream",
     "text": [
      "/home/pesquisavcl/pesquisa/filipe/automatos/Growing-Neural-Cellular-Automata\n"
     ]
    }
   ],
   "source": [
    "%cd Growing-Neural-Cellular-Automata"
   ]
  },
  {
   "cell_type": "code",
   "execution_count": 2,
   "metadata": {
    "colab": {
     "base_uri": "https://localhost:8080/"
    },
    "executionInfo": {
     "elapsed": 6349,
     "status": "ok",
     "timestamp": 1710853282462,
     "user": {
      "displayName": "FILIPE CORDEIRO",
      "userId": "06393699062473933828"
     },
     "user_tz": 180
    },
    "id": "V2l4tEhsfWBq",
    "outputId": "2515503e-f00d-4ab3-98ac-1627b9238628",
    "tags": []
   },
   "outputs": [
    {
     "name": "stdout",
     "output_type": "stream",
     "text": [
      "12.1\n"
     ]
    }
   ],
   "source": [
    "\n",
    "%matplotlib inline\n",
    "import time\n",
    "import imageio\n",
    "import cv2\n",
    "import numpy as np\n",
    "import matplotlib.pyplot as plt\n",
    "import torch\n",
    "import torch.nn as nn\n",
    "import torch.optim as optim\n",
    "import torch.nn.functional as F\n",
    "\n",
    "from IPython.display import clear_output\n",
    "\n",
    "from lib.CAModel import CAModel, LCAModel, CCAModel\n",
    "from lib.utils_vis import SamplePool, to_alpha, to_rgb, get_living_mask, make_seed, make_circle_masks\n",
    "import torch\n",
    "\n",
    "print(torch.version.cuda)"
   ]
  },
  {
   "cell_type": "code",
   "execution_count": 3,
   "metadata": {
    "executionInfo": {
     "elapsed": 436,
     "status": "ok",
     "timestamp": 1710854551966,
     "user": {
      "displayName": "FILIPE CORDEIRO",
      "userId": "06393699062473933828"
     },
     "user_tz": 180
    },
    "id": "YnuxU3XPfXID",
    "tags": []
   },
   "outputs": [],
   "source": [
    "def load_emoji(index, path=\"C:/Users/andre/OneDrive/Imagens/gato_png.png\", target_size=40):\n",
    "    #im = imageio.imread(path)\n",
    "    im = imageio.imread(path, pilmode='RGBA')  #FILIPE\n",
    "    \n",
    "    #emoji = np.array(im[:, index*40:(index+1)*40].astype(np.float32))\n",
    "    emoji = np.array(im.astype(np.float32))\n",
    "    #emoji = cv2.resize(emoji, (40, 40))\n",
    "    emoji = cv2.resize(emoji, (target_size, target_size))\n",
    "    emoji /= 255.0\n",
    "    return emoji\n",
    "\n",
    "def load_recorte_emoji(index, path=\"C:/Users/andre/OneDrive/Imagens/gato_png.png\", target_size=40):\n",
    "    #im = imageio.imread(path)\n",
    "    im = imageio.imread(path, pilmode='RGBA')  #FILIPE\n",
    "    \n",
    "    #emoji = np.array(im[:, index*40:(index+1)*40].astype(np.float32))\n",
    "    emoji = np.array(im.astype(np.float32))\n",
    "    #emoji = cv2.resize(emoji, (40, 40))\n",
    "    #emoji = cv2.resize(emoji, (target_size, target_size))\n",
    "    #emoji = emoji[:target_size][:target_size]\n",
    "    #emoji = emoji[40:40+target_size,:target_size]\n",
    "    emoji = emoji[20:20+target_size,5:5+target_size]\n",
    "    emoji /= 255.0\n",
    "    return emoji\n",
    "\n",
    "def visualize_batch(x0, x):\n",
    "    vis0 = to_rgb(x0)\n",
    "    vis1 = to_rgb(x)\n",
    "    print('batch (before/after):')\n",
    "    plt.figure(figsize=[15,5])\n",
    "    for i in range(x0.shape[0]):\n",
    "        plt.subplot(2,x0.shape[0],i+1)\n",
    "        plt.imshow(vis0[i])\n",
    "        plt.axis('off')\n",
    "    for i in range(x0.shape[0]):\n",
    "        plt.subplot(2,x0.shape[0],i+1+x0.shape[0])\n",
    "        plt.imshow(vis1[i])\n",
    "        plt.axis('off')\n",
    "    plt.show()\n",
    "\n",
    "def plot_loss(loss_log):\n",
    "    plt.figure(figsize=(10, 4))\n",
    "    plt.title('Loss history (log10)')\n",
    "    plt.plot(np.log10(loss_log), '.', alpha=0.1)\n",
    "    plt.show()"
   ]
  },
  {
   "cell_type": "code",
   "execution_count": 4,
   "metadata": {
    "executionInfo": {
     "elapsed": 474,
     "status": "ok",
     "timestamp": 1710856046981,
     "user": {
      "displayName": "FILIPE CORDEIRO",
      "userId": "06393699062473933828"
     },
     "user_tz": 180
    },
    "id": "3yaEc_BofXO2",
    "tags": []
   },
   "outputs": [],
   "source": [
    "device = torch.device(\"cuda:0\")\n",
    "model_path = \"models/remaster_42.pth\"\n",
    "\n",
    "CHANNEL_N = 8   # Number of CA state channels\n",
    "#CHANNEL_N = 60        # Number of CA state channels\n",
    "TARGET_PADDING = 1   # Number of pixels used to pad the target image border\n",
    "#TARGET_PADDING = 8   # Number of pixels used to pad the target image border\n",
    "TARGET_SIZE = 3\n",
    "\n",
    "lr = 2e-3\n",
    "lr_gamma = 0.9999\n",
    "betas = (0.5, 0.5)\n",
    "#n_epoch = 80000\n",
    "#n_epoch = 5000\n",
    "n_epoch = 50000\n",
    "\n",
    "BATCH_SIZE = 8\n",
    "POOL_SIZE = 1024\n",
    "#CELL_FIRE_RATE = 0.5 #testar com 1.0\n",
    "CELL_FIRE_RATE = 0.2 #testar com 1.0\n",
    "\n",
    "TARGET_EMOJI = 5 #@param \"🦎\"\n",
    "\n",
    "EXPERIMENT_TYPE = \"Growing\"\n",
    "# EXPERIMENT_TYPE = \"Regenerating\" #testar os tres pra ver o resultado melhor\n",
    "EXPERIMENT_MAP = {\"Growing\":0, \"Persistent\":1, \"Regenerating\":2}\n",
    "EXPERIMENT_N = EXPERIMENT_MAP[EXPERIMENT_TYPE]\n",
    "\n",
    "USE_PATTERN_POOL = [0, 1, 1][EXPERIMENT_N]\n",
    "DAMAGE_N = [0, 0, 3][EXPERIMENT_N]  # Number of patterns to damage in a batch"
   ]
  },
  {
   "cell_type": "code",
   "execution_count": 5,
   "metadata": {
    "colab": {
     "base_uri": "https://localhost:8080/",
     "height": 428
    },
    "executionInfo": {
     "elapsed": 623,
     "status": "ok",
     "timestamp": 1710856050575,
     "user": {
      "displayName": "FILIPE CORDEIRO",
      "userId": "06393699062473933828"
     },
     "user_tz": 180
    },
    "id": "4Wbv8rkHfXUu",
    "outputId": "d06a2ec2-a035-43bd-af48-e7dfb0b42000",
    "tags": []
   },
   "outputs": [
    {
     "name": "stdout",
     "output_type": "stream",
     "text": [
      "(3, 3, 4)\n"
     ]
    },
    {
     "name": "stderr",
     "output_type": "stream",
     "text": [
      "/tmp/ipykernel_1779682/1230077178.py:14: DeprecationWarning: Starting with ImageIO v3 the behavior of this function will switch to that of iio.v3.imread. To keep the current behavior (and make this warning disappear) use `import imageio.v2 as imageio` or call `imageio.v2.imread` directly.\n",
      "  im = imageio.imread(path, pilmode='RGBA')  #FILIPE\n"
     ]
    },
    {
     "data": {
      "image/png": "[encoded data removed]",
      "text/plain": [
       "<Figure size 400x400 with 1 Axes>"
      ]
     },
     "metadata": {},
     "output_type": "display_data"
    }
   ],
   "source": [
    "#target_img = load_emoji(TARGET_EMOJI, path=\"C:/Users/andre/OneDrive/Imagens/gato_png.png\")\n",
    "#nome_imagem = \"caracol_png.png\"\n",
    "nome_imagem = \"caracol40.png\"\n",
    "#nome_imagem = \"mesa.jpg\"\n",
    "#target_img = load_emoji(TARGET_EMOJI, path=\"data/caracol_png.png\", target_size=TARGET_SIZE)\n",
    "#target_img = load_emoji(TARGET_EMOJI, path=f\"data/{nome_imagem}\", target_size=TARGET_SIZE)\n",
    "target_img = load_recorte_emoji(TARGET_EMOJI, path=f\"data/{nome_imagem}\", target_size=TARGET_SIZE)\n",
    "plt.figure(figsize=(4,4))\n",
    "print(target_img.shape)\n",
    "if target_img.shape[2] >3:\n",
    "    plt.imshow(to_rgb(target_img))\n",
    "else:\n",
    "    plt.imshow(target_img)\n",
    "plt.show()\n"
   ]
  },
  {
   "cell_type": "code",
   "execution_count": 6,
   "metadata": {
    "executionInfo": {
     "elapsed": 1270,
     "status": "ok",
     "timestamp": 1710856056344,
     "user": {
      "displayName": "FILIPE CORDEIRO",
      "userId": "06393699062473933828"
     },
     "user_tz": 180
    },
    "id": "FPXby5RVfXXg",
    "tags": []
   },
   "outputs": [],
   "source": [
    "_25425p = TARGET_PADDING\n",
    "pad_target = np.pad(target_img, [(_25425p, _25425p), (_25425p, _25425p), (0, 0)])\n",
    "h, w = pad_target.shape[:2]\n",
    "pad_target = np.expand_dims(pad_target, axis=0)\n",
    "pad_target = torch.from_numpy(pad_target.astype(np.float32)).to(device)\n",
    "\n",
    "\n",
    "seed = make_seed((h, w), CHANNEL_N)\n",
    "pool = SamplePool(x=np.repeat(seed[None, ...], POOL_SIZE, 0))\n",
    "batch = pool.sample(BATCH_SIZE).x\n",
    "\n",
    "#ca = CAModel(CHANNEL_N, CELL_FIRE_RATE, device).to(device)\n",
    "ca = CAModel(CHANNEL_N, CELL_FIRE_RATE, device,hidden_size=3).to(device)\n",
    "#ca = CCAModel(CHANNEL_N, CELL_FIRE_RATE, device,hidden_size=128, num_filters = 128, kernel_size=3).to(device)\n",
    "#ca = LCAModel(CHANNEL_N, CELL_FIRE_RATE, device,hidden_size=128).to(device)\n",
    "#ca.load_state_dict(torch.load(model_path))\n",
    "\n",
    "\n",
    "\n",
    "\n",
    "optimizer = optim.Adam(ca.parameters(), lr=lr, betas=betas)\n",
    "scheduler = optim.lr_scheduler.ExponentialLR(optimizer, lr_gamma)\n",
    "\n",
    "\n",
    "#filipe\n",
    "# create a quantized model instance\n",
    "ca2 = torch.ao.quantization.quantize_dynamic(\n",
    "    ca,  # the original model\n",
    "    {torch.nn.Linear},  # a set of layers to dynamically quantize\n",
    "    dtype=torch.qint8)\n",
    "\n",
    "# print(ca2.parameters())"
   ]
  },
  {
   "cell_type": "code",
   "execution_count": 7,
   "metadata": {
    "colab": {
     "base_uri": "https://localhost:8080/"
    },
    "executionInfo": {
     "elapsed": 474,
     "status": "ok",
     "timestamp": 1710856061502,
     "user": {
      "displayName": "FILIPE CORDEIRO",
      "userId": "06393699062473933828"
     },
     "user_tz": 180
    },
    "id": "xO6jwP3Nkxag",
    "outputId": "6be8d7e5-2065-4141-d7dd-d1ca3749d83e",
    "tags": []
   },
   "outputs": [
    {
     "name": "stdout",
     "output_type": "stream",
     "text": [
      "396 0 396\n",
      "model size: 0.000MB\n",
      "model size: 0.387KB\n"
     ]
    }
   ],
   "source": [
    "model = ca\n",
    "param_size = 0\n",
    "for param in model.parameters():\n",
    "    param_size += param.nelement() * param.element_size()\n",
    "buffer_size = 0\n",
    "for buffer in model.buffers():\n",
    "    buffer_size += buffer.nelement() * buffer.element_size()\n",
    "\n",
    "print(param_size, buffer_size,param_size + buffer_size)\n",
    "size_all_mb = (param_size + buffer_size) / 1024**2\n",
    "size_all_kb = (param_size + buffer_size) / 1024**1\n",
    "print('model size: {:.3f}MB'.format(size_all_mb))\n",
    "print('model size: {:.3f}KB'.format(size_all_kb))\n",
    "# > model size: 44.629MB"
   ]
  },
  {
   "cell_type": "code",
   "execution_count": 8,
   "metadata": {
    "tags": []
   },
   "outputs": [
    {
     "name": "stdout",
     "output_type": "stream",
     "text": [
      "----------------------------------------------------------------\n",
      "        Layer (type)               Output Shape         Param #\n",
      "================================================================\n",
      "            Linear-1              [-1, 3, 3, 3]              75\n",
      "            Linear-2              [-1, 3, 3, 8]              24\n",
      "================================================================\n",
      "Total params: 99\n",
      "Trainable params: 99\n",
      "Non-trainable params: 0\n",
      "----------------------------------------------------------------\n",
      "Input size (MB): 0.00\n",
      "Forward/backward pass size (MB): 0.00\n",
      "Params size (MB): 0.00\n",
      "Estimated Total Size (MB): 0.00\n",
      "----------------------------------------------------------------\n"
     ]
    }
   ],
   "source": [
    "from torchsummary import summary\n",
    "\n",
    "\n",
    "summary(ca, (3, 3, 8))"
   ]
  },
  {
   "cell_type": "code",
   "execution_count": 9,
   "metadata": {
    "colab": {
     "base_uri": "https://localhost:8080/",
     "height": 211
    },
    "executionInfo": {
     "elapsed": 516,
     "status": "error",
     "timestamp": 1710853359774,
     "user": {
      "displayName": "FILIPE CORDEIRO",
      "userId": "06393699062473933828"
     },
     "user_tz": 180
    },
    "id": "ZmuRA9YYl8fO",
    "outputId": "06216343-e0a3-487d-db1e-2ddadec830c1",
    "tags": []
   },
   "outputs": [
    {
     "name": "stdout",
     "output_type": "stream",
     "text": [
      "model:  fp32  \t Size (KB): 2.111\n",
      "model:  int8  \t Size (KB): 3.235\n",
      "0.65 times smaller\n"
     ]
    }
   ],
   "source": [
    "import os\n",
    "\n",
    "def print_size_of_model(model, label=\"\"):\n",
    "    torch.save(model.state_dict(), \"temp.p\")\n",
    "    size=os.path.getsize(\"temp.p\")\n",
    "    print(\"model: \",label,' \\t','Size (KB):', size/1e3)\n",
    "    os.remove('temp.p')\n",
    "    return size\n",
    "\n",
    "# compare the sizes\n",
    "f=print_size_of_model(ca,\"fp32\")\n",
    "q=print_size_of_model(ca2,\"int8\")\n",
    "print(\"{0:.2f} times smaller\".format(f/q))"
   ]
  },
  {
   "cell_type": "code",
   "execution_count": 10,
   "metadata": {
    "tags": []
   },
   "outputs": [
    {
     "data": {
      "text/plain": [
       "torch.Size([1, 5, 5, 4])"
      ]
     },
     "execution_count": 10,
     "metadata": {},
     "output_type": "execute_result"
    }
   ],
   "source": [
    "pad_target.shape"
   ]
  },
  {
   "cell_type": "code",
   "execution_count": 11,
   "metadata": {
    "colab": {
     "base_uri": "https://localhost:8080/",
     "height": 1000
    },
    "executionInfo": {
     "elapsed": 4250,
     "status": "error",
     "timestamp": 1710856071188,
     "user": {
      "displayName": "FILIPE CORDEIRO",
      "userId": "06393699062473933828"
     },
     "user_tz": 180
    },
    "id": "3w-iZCVVfXZ3",
    "outputId": "75fcc0db-501f-4d5c-88a3-686d40edb632",
    "tags": []
   },
   "outputs": [
    {
     "name": "stdout",
     "output_type": "stream",
     "text": [
      "50000 loss = 0.0002765534445643425\n",
      "batch (before/after):\n"
     ]
    },
    {
     "data": {
      "image/png": "[encoded data removed]",
      "text/plain": [
       "<Figure size 1500x500 with 16 Axes>"
      ]
     },
     "metadata": {},
     "output_type": "display_data"
    },
    {
     "data": {
      "image/png": "[encoded data removed]",
      "text/plain": [
       "<Figure size 1000x400 with 1 Axes>"
      ]
     },
     "metadata": {},
     "output_type": "display_data"
    }
   ],
   "source": [
    "loss_log = []\n",
    "\n",
    "def train(x, target, steps, optimizer, scheduler):\n",
    "    x = ca(x, steps=steps)\n",
    "    #import pdb;pdb.set_trace()\n",
    "    if target.shape[-1]>3:\n",
    "        loss = F.mse_loss(x[:, :, :, :4], target)\n",
    "    else:\n",
    "        loss = F.mse_loss(x[:, :, :, :3], target)\n",
    "    optimizer.zero_grad()\n",
    "    loss.backward()\n",
    "    optimizer.step()\n",
    "    scheduler.step()\n",
    "    return x, loss\n",
    "\n",
    "def loss_f(x, target):\n",
    "    if target.shape[-1]>3:\n",
    "        return torch.mean(torch.pow(x[..., :4]-target, 2), [-2,-3,-1])\n",
    "    else:\n",
    "        return torch.mean(torch.pow(x[..., :3]-target, 2), [-2,-3,-1])\n",
    "\n",
    "for i in range(n_epoch+1):\n",
    "\n",
    "    if USE_PATTERN_POOL:\n",
    "        batch = pool.sample(BATCH_SIZE)\n",
    "        x0 = torch.from_numpy(batch.x.astype(np.float32)).to(device)\n",
    "        loss_rank = loss_f(x0, pad_target).detach().cpu().numpy().argsort()[::-1]\n",
    "        x0 = batch.x[loss_rank]\n",
    "        x0[:1] = seed\n",
    "        if DAMAGE_N:\n",
    "            damage = 1.0-make_circle_masks(DAMAGE_N, h, w)[..., None]\n",
    "            x0[-DAMAGE_N:] *= damage\n",
    "    else:\n",
    "        x0 = np.repeat(seed[None, ...], BATCH_SIZE, 0)\n",
    "    x0 = torch.from_numpy(x0.astype(np.float32)).to(device)\n",
    "\n",
    "    x, loss = train(x0, pad_target, np.random.randint(64,96), optimizer, scheduler)\n",
    "    #x, loss = train(x0, pad_target, np.random.randint(16,24), optimizer, scheduler)\n",
    "    \n",
    "    \n",
    "\n",
    "    if USE_PATTERN_POOL:\n",
    "        batch.x[:] = x.detach().cpu().numpy()\n",
    "        batch.commit()\n",
    "\n",
    "    step_i = len(loss_log)\n",
    "    loss_log.append(loss.item())\n",
    "\n",
    "    if step_i%100 == 0:\n",
    "        clear_output()\n",
    "        print(step_i, \"loss =\", loss.item())\n",
    "        visualize_batch(x0.detach().cpu().numpy(), x.detach().cpu().numpy())\n",
    "        plot_loss(loss_log)\n",
    "        torch.save(ca.state_dict(), model_path)"
   ]
  },
  {
   "cell_type": "markdown",
   "metadata": {
    "id": "RCY7RmQrKaEk"
   },
   "source": [
    "## Generate image with inference"
   ]
  },
  {
   "cell_type": "code",
   "execution_count": 14,
   "metadata": {
    "tags": []
   },
   "outputs": [],
   "source": [
    "import tqdm\n",
    "\n",
    "#loaded_ca = ca.load_state_dict(torch.load(model_path)).to(device)\n",
    "\n",
    "loaded_ca = CAModel(CHANNEL_N, CELL_FIRE_RATE, device,hidden_size=3).to(device)\n",
    "#ca = LCAModel(CHANNEL_N, CELL_FIRE_RATE, device,hidden_size=8).to(device)\n",
    "#loaded_ca = CCAModel(CHANNEL_N, CELL_FIRE_RATE, device,hidden_size=128, num_filters = 128, kernel_size=3).to(device)\n",
    "loaded_ca.load_state_dict(torch.load(model_path))\n",
    "\n",
    "x = np.zeros([1, 64, 64, CHANNEL_N], np.float32)\n",
    "\n",
    "#x0 = np.repeat(seed[None, ...], BATCH_SIZE, 0)\n",
    "x0 = np.repeat(seed[None, ...], 1, 0)\n",
    "x0 = torch.from_numpy(x0.astype(np.float32)).to(device)\n",
    "\n",
    "xf = loaded_ca(x0,steps=96)"
   ]
  },
  {
   "cell_type": "code",
   "execution_count": 15,
   "metadata": {
    "tags": []
   },
   "outputs": [
    {
     "data": {
      "image/png": "[encoded data removed]",
      "text/plain": [
       "<Figure size 400x400 with 1 Axes>"
      ]
     },
     "metadata": {},
     "output_type": "display_data"
    },
    {
     "data": {
      "image/png": "[encoded data removed]",
      "text/plain": [
       "<Figure size 400x400 with 1 Axes>"
      ]
     },
     "metadata": {},
     "output_type": "display_data"
    },
    {
     "data": {
      "image/png": "[encoded data removed]",
      "text/plain": [
       "<Figure size 400x400 with 1 Axes>"
      ]
     },
     "metadata": {},
     "output_type": "display_data"
    }
   ],
   "source": [
    "#Filipe's code\n",
    "input_rgb = to_rgb(x0.detach().cpu().numpy())\n",
    "output_rgb = to_rgb(xf.detach().cpu().numpy())\n",
    "target_rgb = to_rgb(target_img)\n",
    "\n",
    "#unpading\n",
    "output_image = output_rgb[0]\n",
    "#unpad_output_image = output_image[TARGET_PADDING:output_image.shape[0]-TARGET_PADDING][TARGET_PADDING:output_image.shape[1]-TARGET_PADDING]\n",
    "unpad_output_image = output_image[TARGET_PADDING:output_image.shape[0]-TARGET_PADDING, TARGET_PADDING:output_image.shape[1]-TARGET_PADDING]\n",
    "\n",
    "\n",
    "plt.figure(figsize=(4,4))\n",
    "plt.imshow(input_rgb[0])\n",
    "plt.title(\"Imagem inicial\")\n",
    "\n",
    "plt.figure(figsize=(4,4))\n",
    "plt.imshow(unpad_output_image)\n",
    "plt.title(\"Imagem automato\")\n",
    "\n",
    "plt.figure(figsize=(4,4))\n",
    "plt.imshow(to_rgb(target_img))\n",
    "plt.title(\"imagem original (rgb)\")\n",
    "plt.show()"
   ]
  },
  {
   "cell_type": "code",
   "execution_count": 13,
   "metadata": {
    "collapsed": true,
    "executionInfo": {
     "elapsed": 438,
     "status": "ok",
     "timestamp": 1710855394974,
     "user": {
      "displayName": "FILIPE CORDEIRO",
      "userId": "06393699062473933828"
     },
     "user_tz": 180
    },
    "id": "InIobEBofXcO",
    "jupyter": {
     "outputs_hidden": true
    },
    "tags": []
   },
   "outputs": [
    {
     "ename": "AttributeError",
     "evalue": "'numpy.ndarray' object has no attribute 'detach'",
     "output_type": "error",
     "traceback": [
      "\u001b[0;31m---------------------------------------------------------------------------\u001b[0m",
      "\u001b[0;31mAttributeError\u001b[0m                            Traceback (most recent call last)",
      "Cell \u001b[0;32mIn[13], line 3\u001b[0m\n\u001b[1;32m      1\u001b[0m \u001b[38;5;66;03m#Filipe's code\u001b[39;00m\n\u001b[1;32m      2\u001b[0m input_rgb \u001b[38;5;241m=\u001b[39m to_rgb(x0\u001b[38;5;241m.\u001b[39mdetach()\u001b[38;5;241m.\u001b[39mcpu()\u001b[38;5;241m.\u001b[39mnumpy())\n\u001b[0;32m----> 3\u001b[0m output_rgb \u001b[38;5;241m=\u001b[39m to_rgb(\u001b[43mx\u001b[49m\u001b[38;5;241;43m.\u001b[39;49m\u001b[43mdetach\u001b[49m()\u001b[38;5;241m.\u001b[39mcpu()\u001b[38;5;241m.\u001b[39mnumpy())\n\u001b[1;32m      4\u001b[0m target_rgb \u001b[38;5;241m=\u001b[39m to_rgb(target_img)\n",
      "\u001b[0;31mAttributeError\u001b[0m: 'numpy.ndarray' object has no attribute 'detach'"
     ]
    }
   ],
   "source": [
    "#Filipe's code\n",
    "input_rgb = to_rgb(x0.detach().cpu().numpy())\n",
    "output_rgb = to_rgb(x.detach().cpu().numpy())\n",
    "target_rgb = to_rgb(target_img)\n"
   ]
  },
  {
   "cell_type": "code",
   "execution_count": 14,
   "metadata": {
    "executionInfo": {
     "elapsed": 564,
     "status": "ok",
     "timestamp": 1710855945547,
     "user": {
      "displayName": "FILIPE CORDEIRO",
      "userId": "06393699062473933828"
     },
     "user_tz": 180
    },
    "id": "wS5pmVWE7rlg",
    "tags": []
   },
   "outputs": [],
   "source": [
    "from PIL import Image\n",
    "\n",
    "path_img_automato = \"data/automato_cca.png\"\n",
    "path_original = \"data/target_cca.png\"\n",
    "\n",
    "unpad_output_image_ = unpad_output_image * 255\n",
    "unpad_output_image_ = unpad_output_image_.astype(np.uint8)\n",
    "im = Image.fromarray(unpad_output_image_)\n",
    "#im.save(\"data/automato_cca.png\", \"PNG\")\n",
    "im.save(path_img_automato, \"PNG\")\n",
    "\n",
    "\n",
    "temp = to_rgb(target_img)* 255\n",
    "temp_ = temp.astype(np.uint8)\n",
    "im2 = Image.fromarray(temp_)\n",
    "# im2 = Image.fromarray(target_img)\n",
    "#im2.save(\"data/target_cca.png\", \"PNG\")\n",
    "im2.save(path_original, \"PNG\")"
   ]
  },
  {
   "cell_type": "code",
   "execution_count": 15,
   "metadata": {
    "colab": {
     "base_uri": "https://localhost:8080/"
    },
    "executionInfo": {
     "elapsed": 547,
     "status": "ok",
     "timestamp": 1710855976970,
     "user": {
      "displayName": "FILIPE CORDEIRO",
      "userId": "06393699062473933828"
     },
     "user_tz": 180
    },
    "id": "yALNDtER74dv",
    "outputId": "42f84c0e-626c-4a8d-9382-ce479382d2f8",
    "tags": []
   },
   "outputs": [
    {
     "name": "stdout",
     "output_type": "stream",
     "text": [
      "1580\n",
      "932\n",
      "26369\n"
     ]
    }
   ],
   "source": [
    "import os\n",
    "# print(os.stat(\"data/automato.png\").st_size)\n",
    "# print(os.stat(\"data/target.png\").st_size)\n",
    "# print(os.stat(\"data/caracol_png.png\").st_size)\n",
    "\n",
    "print(os.stat(path_img_automato).st_size)\n",
    "print(os.stat(path_original).st_size)\n",
    "print(os.stat(\"data/caracol_png.png\").st_size)"
   ]
  },
  {
   "cell_type": "code",
   "execution_count": null,
   "metadata": {
    "id": "lCru4Qqu7f0c"
   },
   "outputs": [],
   "source": []
  },
  {
   "cell_type": "code",
   "execution_count": null,
   "metadata": {
    "id": "00Nkns7wfi4f"
   },
   "outputs": [],
   "source": [
    "# from PIL import Image\n",
    "\n",
    "\n",
    "# unpad_output_image_ = unpad_output_image * 255\n",
    "# unpad_output_image_ = unpad_output_image_.astype(np.uint8)\n",
    "# im = Image.fromarray(unpad_output_image_)\n",
    "# im.save(\"img_automato_rgb_peru_R.png\", \"PNG\")\n",
    "\n",
    "\n",
    "# target_image_ = to_rgb(target_img) * 255\n",
    "# target_image_ = target_image_.astype(np.uint8)\n",
    "# im = Image.fromarray(target_image_)\n",
    "# im.save(\"img_target_rgb_peru_R.png\", \"PNG\")\n",
    "\n",
    "# import shutil\n",
    "\n",
    "\n",
    "# caminho_img_automato = \"img_automato_rgb_peru_R.png\"\n",
    "# caminho_img_original = \"img_target_rgb_peru_R.png\"\n",
    "\n",
    "\n",
    "# diretorio_destino = \"C:/Users/andre/OneDrive/Imagens/imagem automatos\"\n",
    "\n",
    "\n",
    "# shutil.move(caminho_img_automato, diretorio_destino)\n",
    "# shutil.move(caminho_img_original, diretorio_destino)\n"
   ]
  },
  {
   "cell_type": "code",
   "execution_count": 16,
   "metadata": {
    "id": "EUDK1Enpfi6z",
    "tags": []
   },
   "outputs": [
    {
     "name": "stdout",
     "output_type": "stream",
     "text": [
      "PSNR (Peak Signal-to-Noise Ratio): 50.94129109650922\n",
      "MSE (Mean Squared Error): 0.5235416666666667\n",
      "SSIM (Structural Similarity Index): 0.9998726569103771\n",
      "Tamanho da imagem original: 932 bytes\n",
      "Tamanho da imagem gerada pelo autômato: 1580 bytes\n",
      "Bits por Pixel da imagem original: 4.66\n",
      "Bits por Pixel da imagem gerada pelo autômato: 7.9\n"
     ]
    }
   ],
   "source": [
    "from skimage.metrics import mean_squared_error, peak_signal_noise_ratio, structural_similarity\n",
    "from skimage.io import imread\n",
    "import os\n",
    "\n",
    "\n",
    "\n",
    "#imagem_automato = imread(\"C:/Users/andre/OneDrive/Imagens/imagem automatos/img_automato_rgb_peru_R.png\")\n",
    "imagem_automato = imread(path_img_automato)\n",
    "#imagem_original = imread(\"C:/Users/andre/OneDrive/Imagens/imagem automatos/img_target_rgb_peru_R.png\")\n",
    "imagem_original = imread(path_original)\n",
    "\n",
    "\n",
    "\n",
    "mse = mean_squared_error(imagem_original, imagem_automato)\n",
    "psnr = peak_signal_noise_ratio(imagem_original, imagem_automato)\n",
    "ssim = structural_similarity(imagem_original, imagem_automato, win_size=3, multichannel=True)\n",
    "\n",
    "\n",
    "print(\"PSNR (Peak Signal-to-Noise Ratio):\", psnr)\n",
    "print(\"MSE (Mean Squared Error):\", mse)\n",
    "print(\"SSIM (Structural Similarity Index):\", ssim)\n",
    "\n",
    "import os\n",
    "\n",
    "\n",
    "# caminho_img_original = \"C:/Users/andre/OneDrive/Imagens/imagem automatos/img_target_rgb_peru_R.png\"\n",
    "# caminho_img_automato = \"C:/Users/andre/OneDrive/Imagens/imagem automatos/img_automato_rgb_peru_R.png\"\n",
    "\n",
    "\n",
    "def tamanho_arquivo(caminho):\n",
    "    # return os.path.getsize(caminho)\n",
    "    #print(os.stat(caminho).st_size)\n",
    "    return os.stat(caminho).st_size\n",
    "\n",
    "\n",
    "\n",
    "#tamanho_original = tamanho_arquivo(caminho_img_original)\n",
    "tamanho_original = tamanho_arquivo(path_original)\n",
    "#tamanho_automato = tamanho_arquivo(caminho_img_automato)\n",
    "tamanho_automato = tamanho_arquivo(path_img_automato)\n",
    "\n",
    "\n",
    "print(\"Tamanho da imagem original:\", tamanho_original, \"bytes\")\n",
    "print(\"Tamanho da imagem gerada pelo autômato:\", tamanho_automato, \"bytes\")\n",
    "\n",
    "def calcular_bits_por_pixel(caminho_imagem, tamanho_arquivo):\n",
    "    imagem = imread(caminho_imagem)\n",
    "    largura, altura, _ = imagem.shape\n",
    "    total_pixels = largura * altura\n",
    "    bits_por_pixel = (tamanho_arquivo * 8) / total_pixels\n",
    "    return bits_por_pixel\n",
    "\n",
    "#bits_por_pixel_original = calcular_bits_por_pixel(caminho_img_original, tamanho_original)\n",
    "bits_por_pixel_original = calcular_bits_por_pixel(path_original, tamanho_original)\n",
    "#bits_por_pixel_automato = calcular_bits_por_pixel(caminho_img_automato, tamanho_automato)\n",
    "bits_por_pixel_automato = calcular_bits_por_pixel(path_img_automato, tamanho_automato)\n",
    "\n",
    "print(\"Bits por Pixel da imagem original:\", bits_por_pixel_original)\n",
    "print(\"Bits por Pixel da imagem gerada pelo autômato:\", bits_por_pixel_automato)\n"
   ]
  },
  {
   "cell_type": "code",
   "execution_count": null,
   "metadata": {
    "id": "kMTF8E85fi9Y"
   },
   "outputs": [],
   "source": []
  }
 ],
 "metadata": {
  "accelerator": "GPU",
  "colab": {
   "gpuType": "T4",
   "provenance": [
    {
     "file_id": "1vqxec-elDk6yOSLu3zISHvUgb2ppauTG",
     "timestamp": 1710445599924
    }
   ]
  },
  "kernelspec": {
   "display_name": "Python [conda env:automato] *",
   "language": "python",
   "name": "conda-env-automato-py"
  },
  "language_info": {
   "codemirror_mode": {
    "name": "ipython",
    "version": 3
   },
   "file_extension": ".py",
   "mimetype": "text/x-python",
   "name": "python",
   "nbconvert_exporter": "python",
   "pygments_lexer": "ipython3",
   "version": "3.9.18"
  }
 },
 "nbformat": 4,
 "nbformat_minor": 4
}
