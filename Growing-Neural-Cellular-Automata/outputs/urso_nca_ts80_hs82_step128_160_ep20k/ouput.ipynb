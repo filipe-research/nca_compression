{
 "cells": [
  {
   "cell_type": "code",
   "execution_count": 1,
   "id": "7e6521b2",
   "metadata": {
    "execution": {
     "iopub.execute_input": "2024-05-03T16:48:58.984751Z",
     "iopub.status.busy": "2024-05-03T16:48:58.984604Z",
     "iopub.status.idle": "2024-05-03T16:48:59.002689Z",
     "shell.execute_reply": "2024-05-03T16:48:59.001519Z"
    },
    "papermill": {
     "duration": 0.026873,
     "end_time": "2024-05-03T16:48:59.005360",
     "exception": false,
     "start_time": "2024-05-03T16:48:58.978487",
     "status": "completed"
    },
    "tags": []
   },
   "outputs": [
    {
     "name": "stdout",
     "output_type": "stream",
     "text": [
      "/home/pesquisavcl/pesquisa/filipe/automatos/Growing-Neural-Cellular-Automata\n"
     ]
    }
   ],
   "source": [
    "%cd Growing-Neural-Cellular-Automata"
   ]
  },
  {
   "cell_type": "code",
   "execution_count": 2,
   "id": "9acb8558",
   "metadata": {
    "colab": {
     "base_uri": "https://localhost:8080/"
    },
    "execution": {
     "iopub.execute_input": "2024-05-03T16:48:59.015362Z",
     "iopub.status.busy": "2024-05-03T16:48:59.015196Z",
     "iopub.status.idle": "2024-05-03T16:48:59.850147Z",
     "shell.execute_reply": "2024-05-03T16:48:59.849662Z"
    },
    "executionInfo": {
     "elapsed": 6349,
     "status": "ok",
     "timestamp": 1710853282462,
     "user": {
      "displayName": "FILIPE CORDEIRO",
      "userId": "06393699062473933828"
     },
     "user_tz": 180
    },
    "id": "V2l4tEhsfWBq",
    "outputId": "2515503e-f00d-4ab3-98ac-1627b9238628",
    "papermill": {
     "duration": 0.839741,
     "end_time": "2024-05-03T16:48:59.851155",
     "exception": false,
     "start_time": "2024-05-03T16:48:59.011414",
     "status": "completed"
    },
    "tags": []
   },
   "outputs": [],
   "source": [
    "%matplotlib inline\n",
    "import time\n",
    "import imageio\n",
    "import cv2\n",
    "import numpy as np\n",
    "import matplotlib.pyplot as plt\n",
    "import torch\n",
    "import torch.nn as nn\n",
    "import torch.optim as optim\n",
    "import torch.nn.functional as F\n",
    "\n",
    "from IPython.display import clear_output\n",
    "\n",
    "from lib.CAModel import CAModel, LCAModel, CCAModel, SAModel,mCAModel_v7\n",
    "from lib.utils_vis import SamplePool, to_alpha, to_rgb, get_living_mask, make_seed, make_circle_masks\n",
    "import torch\n",
    "import os\n"
   ]
  },
  {
   "cell_type": "code",
   "execution_count": 3,
   "id": "c0469e68",
   "metadata": {
    "editable": true,
    "execution": {
     "iopub.execute_input": "2024-05-03T16:48:59.855246Z",
     "iopub.status.busy": "2024-05-03T16:48:59.855088Z",
     "iopub.status.idle": "2024-05-03T16:48:59.858805Z",
     "shell.execute_reply": "2024-05-03T16:48:59.858552Z"
    },
    "executionInfo": {
     "elapsed": 436,
     "status": "ok",
     "timestamp": 1710854551966,
     "user": {
      "displayName": "FILIPE CORDEIRO",
      "userId": "06393699062473933828"
     },
     "user_tz": 180
    },
    "id": "YnuxU3XPfXID",
    "papermill": {
     "duration": 0.006432,
     "end_time": "2024-05-03T16:48:59.859513",
     "exception": false,
     "start_time": "2024-05-03T16:48:59.853081",
     "status": "completed"
    },
    "slideshow": {
     "slide_type": ""
    },
    "tags": []
   },
   "outputs": [],
   "source": [
    "\n",
    "def load_emoji(path=\"C:/Users/andre/OneDrive/Imagens/gato_png.png\", target_size=40):\n",
    "    \n",
    "    im = imageio.imread(path, pilmode='RGBA')  \n",
    "    emoji = np.array(im.astype(np.float32))\n",
    "    emoji = cv2.resize(emoji, (target_size, target_size))\n",
    "    emoji /= 255.0\n",
    "    return emoji\n",
    "\n",
    "\n",
    "def visualize_batch(x0, x):\n",
    "    vis0 = to_rgb(x0)\n",
    "    vis1 = to_rgb(x)\n",
    "    print('batch (before/after):')\n",
    "    plt.figure(figsize=[15,5])\n",
    "    for i in range(x0.shape[0]):\n",
    "        plt.subplot(2,x0.shape[0],i+1)\n",
    "        plt.imshow(vis0[i])\n",
    "        plt.axis('off')\n",
    "    for i in range(x0.shape[0]):\n",
    "        plt.subplot(2,x0.shape[0],i+1+x0.shape[0])\n",
    "        plt.imshow(vis1[i])\n",
    "        plt.axis('off')\n",
    "    plt.show()\n",
    "\n",
    "def plot_loss(loss_log):\n",
    "    plt.figure(figsize=(10, 4))\n",
    "    plt.title('Loss history (log10)')\n",
    "    plt.plot(np.log10(loss_log), '.', alpha=0.1)\n",
    "    plt.show()"
   ]
  },
  {
   "cell_type": "code",
   "execution_count": 4,
   "id": "554cbf4d",
   "metadata": {
    "editable": true,
    "execution": {
     "iopub.execute_input": "2024-05-03T16:48:59.863287Z",
     "iopub.status.busy": "2024-05-03T16:48:59.863088Z",
     "iopub.status.idle": "2024-05-03T16:48:59.865440Z",
     "shell.execute_reply": "2024-05-03T16:48:59.865190Z"
    },
    "papermill": {
     "duration": 0.004992,
     "end_time": "2024-05-03T16:48:59.866163",
     "exception": false,
     "start_time": "2024-05-03T16:48:59.861171",
     "status": "completed"
    },
    "slideshow": {
     "slide_type": ""
    },
    "tags": [
     "parameters"
    ]
   },
   "outputs": [],
   "source": [
    "device = torch.device(\"cuda:0\")\n",
    "# model_checkpoint_folder = \"checkpoint/\"\n",
    "\n",
    "CHANNEL_N = 16   # Number of CA state channels\n",
    "TARGET_PADDING = 0   # Number of pixels used to pad the target image border\n",
    "TARGET_SIZE = 40\n",
    "hidden_size = 62\n",
    "\n",
    "lr = 2e-3\n",
    "lr_gamma = 0.9999\n",
    "betas = (0.5, 0.5)\n",
    "# n_epoch = 5000\n",
    "n_epoch = 200\n",
    "\n",
    "BATCH_SIZE = 8\n",
    "POOL_SIZE = 1024\n",
    "CELL_FIRE_RATE = 0.5 #testar com 1.0\n",
    "\n",
    "step_min = 64\n",
    "step_max = 96\n",
    "\n",
    "\n",
    "EXPERIMENT_TYPE = \"Growing\"\n",
    "\n",
    "path_input_img = 'data/urso.jpg'\n",
    "\n",
    "exp_name = \"temp\"\n",
    "\n",
    "output_folder = 'outputs'\n"
   ]
  },
  {
   "cell_type": "code",
   "execution_count": 5,
   "id": "0f007853",
   "metadata": {
    "execution": {
     "iopub.execute_input": "2024-05-03T16:48:59.869896Z",
     "iopub.status.busy": "2024-05-03T16:48:59.869749Z",
     "iopub.status.idle": "2024-05-03T16:48:59.871835Z",
     "shell.execute_reply": "2024-05-03T16:48:59.871572Z"
    },
    "papermill": {
     "duration": 0.004706,
     "end_time": "2024-05-03T16:48:59.872565",
     "exception": false,
     "start_time": "2024-05-03T16:48:59.867859",
     "status": "completed"
    },
    "tags": [
     "injected-parameters"
    ]
   },
   "outputs": [],
   "source": [
    "# Parameters\n",
    "exp_name = \"urso_nca_ts80_hs82_step128_160_ep20k\"\n",
    "path_input_img = \"data/urso.jpg\"\n",
    "CHANNEL_N = 16\n",
    "TARGET_PADDING = 0\n",
    "TARGET_SIZE = 80\n",
    "hidden_size = 82\n",
    "step_min = 128\n",
    "step_max = 160\n",
    "lr = 0.002\n",
    "lr_gamma = 0.9999\n",
    "n_epoch = 20000\n",
    "BATCH_SIZE = 8\n",
    "POOL_SIZE = 1024\n",
    "CELL_FIRE_RATE = 0.5\n",
    "EXPERIMENT_TYPE = \"Growing\"\n",
    "output_folder = \"outputs\"\n"
   ]
  },
  {
   "cell_type": "code",
   "execution_count": 6,
   "id": "e516b891",
   "metadata": {
    "editable": true,
    "execution": {
     "iopub.execute_input": "2024-05-03T16:48:59.876295Z",
     "iopub.status.busy": "2024-05-03T16:48:59.876148Z",
     "iopub.status.idle": "2024-05-03T16:48:59.878663Z",
     "shell.execute_reply": "2024-05-03T16:48:59.878421Z"
    },
    "papermill": {
     "duration": 0.005106,
     "end_time": "2024-05-03T16:48:59.879345",
     "exception": false,
     "start_time": "2024-05-03T16:48:59.874239",
     "status": "completed"
    },
    "slideshow": {
     "slide_type": ""
    },
    "tags": []
   },
   "outputs": [],
   "source": [
    "#Dependent parameters\n",
    "\n",
    "EXPERIMENT_MAP = {\"Growing\":0, \"Persistent\":1, \"Regenerating\":2}\n",
    "EXPERIMENT_N = EXPERIMENT_MAP[EXPERIMENT_TYPE]\n",
    "\n",
    "USE_PATTERN_POOL = [0, 1, 1][EXPERIMENT_N]\n",
    "DAMAGE_N = [0, 0, 3][EXPERIMENT_N]  # Number of patterns to damage in a batch\n",
    "\n",
    "\n",
    "# exp_name = f\"{exp_name}_hs{hidden_size}_ts{TARGET_SIZE}\"\n",
    "output_path = os.path.join(output_folder,exp_name)\n",
    "                           \n",
    "if not os.path.exists(output_path): \n",
    "    # if the folder directory is not present  \n",
    "    # then create it. \n",
    "    os.makedirs(output_path) \n",
    "    \n",
    "# model_folder = \"models/compressNCA_temp1.pth\"\n",
    "model_folder = os.path.join(output_path,'models')\n",
    "\n",
    "if not os.path.exists(model_folder): \n",
    "    # if the folder directory is not present  \n",
    "    # then create it. \n",
    "    os.makedirs(model_folder) \n"
   ]
  },
  {
   "cell_type": "code",
   "execution_count": 7,
   "id": "0a15ff5d",
   "metadata": {
    "colab": {
     "base_uri": "https://localhost:8080/",
     "height": 428
    },
    "execution": {
     "iopub.execute_input": "2024-05-03T16:48:59.883135Z",
     "iopub.status.busy": "2024-05-03T16:48:59.882981Z",
     "iopub.status.idle": "2024-05-03T16:48:59.956564Z",
     "shell.execute_reply": "2024-05-03T16:48:59.956235Z"
    },
    "executionInfo": {
     "elapsed": 623,
     "status": "ok",
     "timestamp": 1710856050575,
     "user": {
      "displayName": "FILIPE CORDEIRO",
      "userId": "06393699062473933828"
     },
     "user_tz": 180
    },
    "id": "4Wbv8rkHfXUu",
    "outputId": "d06a2ec2-a035-43bd-af48-e7dfb0b42000",
    "papermill": {
     "duration": 0.076293,
     "end_time": "2024-05-03T16:48:59.957366",
     "exception": false,
     "start_time": "2024-05-03T16:48:59.881073",
     "status": "completed"
    },
    "tags": []
   },
   "outputs": [
    {
     "name": "stdout",
     "output_type": "stream",
     "text": [
      "(80, 80, 4)\n"
     ]
    },
    {
     "name": "stderr",
     "output_type": "stream",
     "text": [
      "/tmp/ipykernel_665189/2050698433.py:3: DeprecationWarning: Starting with ImageIO v3 the behavior of this function will switch to that of iio.v3.imread. To keep the current behavior (and make this warning disappear) use `import imageio.v2 as imageio` or call `imageio.v2.imread` directly.\n",
      "  im = imageio.imread(path, pilmode='RGBA')\n"
     ]
    },
    {
     "data": {
      "image/png": "[encoded data removed]",
      "text/plain": [
       "<Figure size 400x400 with 1 Axes>"
      ]
     },
     "metadata": {},
     "output_type": "display_data"
    }
   ],
   "source": [
    "# model_path = \"models/compressNCA_temp1.pth\"\n",
    "model_path = os.path.join(model_folder,'temp1.pth')\n",
    "\n",
    "target_img = load_emoji(path=path_input_img, target_size=TARGET_SIZE)\n",
    "plt.figure(figsize=(4,4))\n",
    "print(target_img.shape)\n",
    "if target_img.shape[2] >3:\n",
    "    plt.imshow(to_rgb(target_img))\n",
    "else:\n",
    "    plt.imshow(target_img)\n",
    "plt.show()\n"
   ]
  },
  {
   "cell_type": "code",
   "execution_count": 8,
   "id": "dccc435d",
   "metadata": {
    "execution": {
     "iopub.execute_input": "2024-05-03T16:48:59.962360Z",
     "iopub.status.busy": "2024-05-03T16:48:59.962201Z",
     "iopub.status.idle": "2024-05-03T16:49:00.395967Z",
     "shell.execute_reply": "2024-05-03T16:49:00.395540Z"
    },
    "executionInfo": {
     "elapsed": 1270,
     "status": "ok",
     "timestamp": 1710856056344,
     "user": {
      "displayName": "FILIPE CORDEIRO",
      "userId": "06393699062473933828"
     },
     "user_tz": 180
    },
    "id": "FPXby5RVfXXg",
    "papermill": {
     "duration": 0.437322,
     "end_time": "2024-05-03T16:49:00.396970",
     "exception": false,
     "start_time": "2024-05-03T16:48:59.959648",
     "status": "completed"
    },
    "tags": []
   },
   "outputs": [],
   "source": [
    "\n",
    "_25425p = TARGET_PADDING\n",
    "pad_target = np.pad(target_img, [(_25425p, _25425p), (_25425p, _25425p), (0, 0)])\n",
    "h, w = pad_target.shape[:2]\n",
    "pad_target = np.expand_dims(pad_target, axis=0)\n",
    "\n",
    "#Filipe update\n",
    "# pad_target = torch.from_numpy(pad_target.astype(np.float32)).to(device) #\n",
    "pad_target = torch.from_numpy(np.repeat(pad_target, BATCH_SIZE, axis=0).astype(np.float32)).to(device)\n",
    "\n",
    "\n",
    "seed = make_seed((h, w), CHANNEL_N)\n",
    "pool = SamplePool(x=np.repeat(seed[None, ...], POOL_SIZE, 0))\n",
    "batch = pool.sample(BATCH_SIZE).x\n",
    "\n",
    "#ca = mCAModel_v7(CHANNEL_N, CELL_FIRE_RATE, device,hidden_size=hidden_size).to(device)\n",
    "ca = CAModel(CHANNEL_N, CELL_FIRE_RATE, device,hidden_size=hidden_size).to(device)\n",
    "# ca = CAModel(22, CELL_FIRE_RATE, device,hidden_size=62).to(device)\n",
    "\n",
    "\n",
    "# mp = \"models/remaster_uv71.pth\"\n",
    "# mp = \"models/remaster_uv72.pth\"\n",
    "# mp = \"models/remaster_uv73.pth\"\n",
    "# ca.load_state_dict(torch.load(mp))\n",
    "\n",
    "optimizer = optim.Adam(ca.parameters(), lr=lr, betas=betas)\n",
    "scheduler = optim.lr_scheduler.ExponentialLR(optimizer, lr_gamma)"
   ]
  },
  {
   "cell_type": "code",
   "execution_count": 9,
   "id": "51a22ed0",
   "metadata": {
    "execution": {
     "iopub.execute_input": "2024-05-03T16:49:00.401791Z",
     "iopub.status.busy": "2024-05-03T16:49:00.401621Z",
     "iopub.status.idle": "2024-05-03T16:49:00.461897Z",
     "shell.execute_reply": "2024-05-03T16:49:00.461533Z"
    },
    "papermill": {
     "duration": 0.06358,
     "end_time": "2024-05-03T16:49:00.462733",
     "exception": false,
     "start_time": "2024-05-03T16:49:00.399153",
     "status": "completed"
    },
    "tags": []
   },
   "outputs": [
    {
     "name": "stdout",
     "output_type": "stream",
     "text": [
      "----------------------------------------------------------------\n",
      "        Layer (type)               Output Shape         Param #\n",
      "================================================================\n",
      "            Linear-1           [-1, 80, 80, 82]           4,018\n",
      "            Linear-2           [-1, 80, 80, 16]           1,312\n",
      "================================================================\n",
      "Total params: 5,330\n",
      "Trainable params: 5,330\n",
      "Non-trainable params: 0\n",
      "----------------------------------------------------------------\n",
      "Input size (MB): 0.39\n",
      "Forward/backward pass size (MB): 4.79\n",
      "Params size (MB): 0.02\n",
      "Estimated Total Size (MB): 5.20\n",
      "----------------------------------------------------------------\n"
     ]
    }
   ],
   "source": [
    "from torchsummary import summary\n",
    "\n",
    "\n",
    "summary(ca, (TARGET_SIZE, TARGET_SIZE, CHANNEL_N))\n",
    "# summary(ca, (40, 40, 22))"
   ]
  },
  {
   "cell_type": "code",
   "execution_count": 10,
   "id": "3ac9193d",
   "metadata": {
    "colab": {
     "base_uri": "https://localhost:8080/",
     "height": 1000
    },
    "execution": {
     "iopub.execute_input": "2024-05-03T16:49:00.467554Z",
     "iopub.status.busy": "2024-05-03T16:49:00.467404Z"
    },
    "executionInfo": {
     "elapsed": 4250,
     "status": "error",
     "timestamp": 1710856071188,
     "user": {
      "displayName": "FILIPE CORDEIRO",
      "userId": "06393699062473933828"
     },
     "user_tz": 180
    },
    "id": "3w-iZCVVfXZ3",
    "outputId": "75fcc0db-501f-4d5c-88a3-686d40edb632",
    "papermill": {
     "duration": null,
     "end_time": null,
     "exception": false,
     "start_time": "2024-05-03T16:49:00.464895",
     "status": "running"
    },
    "tags": []
   },
   "outputs": [],
   "source": [
    "loss_log = []\n",
    "best_loss = 9999999\n",
    "def train(x, target, steps, optimizer, scheduler):\n",
    "    x = ca(x, steps=steps)\n",
    "    #import pdb;pdb.set_trace()\n",
    "    if target.shape[-1]>3:\n",
    "        loss = F.mse_loss(x[:, :, :, :4], target)\n",
    "    else:\n",
    "        loss = F.mse_loss(x[:, :, :, :3], target)\n",
    "    optimizer.zero_grad()\n",
    "    loss.backward()\n",
    "    optimizer.step()\n",
    "    scheduler.step()\n",
    "    return x, loss\n",
    "\n",
    "def loss_f(x, target):\n",
    "    if target.shape[-1]>3:\n",
    "        return torch.mean(torch.pow(x[..., :4]-target, 2), [-2,-3,-1])\n",
    "    else:\n",
    "        return torch.mean(torch.pow(x[..., :3]-target, 2), [-2,-3,-1])\n",
    "\n",
    "for i in range(n_epoch+1):\n",
    "\n",
    "    if USE_PATTERN_POOL:\n",
    "        batch = pool.sample(BATCH_SIZE)\n",
    "        x0 = torch.from_numpy(batch.x.astype(np.float32)).to(device)\n",
    "        loss_rank = loss_f(x0, pad_target).detach().cpu().numpy().argsort()[::-1]\n",
    "        x0 = batch.x[loss_rank]\n",
    "        x0[:1] = seed\n",
    "        if DAMAGE_N:\n",
    "            damage = 1.0-make_circle_masks(DAMAGE_N, h, w)[..., None]\n",
    "            x0[-DAMAGE_N:] *= damage\n",
    "    else:\n",
    "        x0 = np.repeat(seed[None, ...], BATCH_SIZE, 0)\n",
    "    x0 = torch.from_numpy(x0.astype(np.float32)).to(device)\n",
    "\n",
    "    #x, loss = train(x0, pad_target, np.random.randint(64,96), optimizer, scheduler)\n",
    "    x, loss = train(x0, pad_target, np.random.randint(step_min,step_max), optimizer, scheduler)\n",
    "\n",
    "        \n",
    "    if USE_PATTERN_POOL:\n",
    "        batch.x[:] = x.detach().cpu().numpy()\n",
    "        batch.commit()\n",
    "\n",
    "    step_i = len(loss_log)\n",
    "    loss_log.append(loss.item())\n",
    "\n",
    "    if step_i%100 == 0:\n",
    "        clear_output()\n",
    "        print(step_i, \"loss =\", loss.item())\n",
    "        visualize_batch(x0.detach().cpu().numpy(), x.detach().cpu().numpy())\n",
    "        plot_loss(loss_log)\n",
    "        if loss.item() < best_loss:\n",
    "            print(f\"Saving model... {loss.item()} < {best_loss}\") \n",
    "            best_loss = loss.item()\n",
    "            torch.save(ca.state_dict(), model_path)"
   ]
  },
  {
   "cell_type": "markdown",
   "id": "a1add7f3",
   "metadata": {
    "id": "RCY7RmQrKaEk",
    "papermill": {
     "duration": null,
     "end_time": null,
     "exception": null,
     "start_time": null,
     "status": "pending"
    },
    "tags": []
   },
   "source": [
    "## Generate image with inference"
   ]
  },
  {
   "cell_type": "code",
   "execution_count": null,
   "id": "586bfd96",
   "metadata": {
    "papermill": {
     "duration": null,
     "end_time": null,
     "exception": null,
     "start_time": null,
     "status": "pending"
    },
    "tags": []
   },
   "outputs": [],
   "source": [
    "import tqdm\n",
    "\n",
    "#loaded_ca = mCAModel_v7(CHANNEL_N, CELL_FIRE_RATE, device,hidden_size=hidden_size).to(device)\n",
    "loaded_ca = CAModel(CHANNEL_N, CELL_FIRE_RATE, device,hidden_size=hidden_size).to(device)\n",
    "\n",
    "loaded_ca.load_state_dict(torch.load(model_path))\n",
    "\n",
    "x = np.zeros([1, TARGET_SIZE, TARGET_SIZE, CHANNEL_N], np.float32)\n",
    "\n",
    "x0 = np.repeat(seed[None, ...], 1, 0)\n",
    "x0 = torch.from_numpy(x0.astype(np.float32)).to(device)\n",
    "\n",
    "#xf = loaded_ca(x0,steps=96)\n",
    "xf = loaded_ca(x0,steps=step_max)"
   ]
  },
  {
   "cell_type": "code",
   "execution_count": null,
   "id": "501a42ef",
   "metadata": {
    "papermill": {
     "duration": null,
     "end_time": null,
     "exception": null,
     "start_time": null,
     "status": "pending"
    },
    "tags": []
   },
   "outputs": [],
   "source": [
    "#Filipe's code\n",
    "input_rgb = to_rgb(x0.detach().cpu().numpy())\n",
    "output_rgb = to_rgb(xf.detach().cpu().numpy())\n",
    "target_rgb = to_rgb(target_img)\n",
    "\n",
    "#unpading\n",
    "output_image = output_rgb[0]\n",
    "unpad_output_image = output_image[TARGET_PADDING:output_image.shape[0]-TARGET_PADDING, TARGET_PADDING:output_image.shape[1]-TARGET_PADDING]\n",
    "\n",
    "\n",
    "plt.figure(figsize=(4,4))\n",
    "plt.imshow(input_rgb[0])\n",
    "plt.title(\"Imagem inicial\")\n",
    "\n",
    "plt.figure(figsize=(4,4))\n",
    "plt.imshow(unpad_output_image)\n",
    "plt.title(\"Imagem automato\")\n",
    "\n",
    "plt.figure(figsize=(4,4))\n",
    "plt.imshow(to_rgb(target_img))\n",
    "plt.title(\"imagem original (rgb)\")\n",
    "plt.show()"
   ]
  },
  {
   "cell_type": "code",
   "execution_count": null,
   "id": "1c8d31a9",
   "metadata": {
    "executionInfo": {
     "elapsed": 564,
     "status": "ok",
     "timestamp": 1710855945547,
     "user": {
      "displayName": "FILIPE CORDEIRO",
      "userId": "06393699062473933828"
     },
     "user_tz": 180
    },
    "id": "wS5pmVWE7rlg",
    "papermill": {
     "duration": null,
     "end_time": null,
     "exception": null,
     "start_time": null,
     "status": "pending"
    },
    "tags": []
   },
   "outputs": [],
   "source": [
    "from PIL import Image\n",
    "\n",
    "# path_img_automato = \"data/mca_v7_urso40_h62.png\"\n",
    "path_img_automato = os.path.join(output_path, 'automato.png')\n",
    "#path_original = \"data/target_mca_urso40.png\"\n",
    "path_original = os.path.join(output_path, 'target.png')\n",
    "\n",
    "unpad_output_image_ = unpad_output_image * 255\n",
    "unpad_output_image_ = unpad_output_image_.astype(np.uint8)\n",
    "im = Image.fromarray(unpad_output_image_)\n",
    "#im.save(\"data/automato_cca.png\", \"PNG\")\n",
    "im.save(path_img_automato, \"PNG\")\n",
    "\n",
    "\n",
    "temp = to_rgb(target_img)* 255\n",
    "temp_ = temp.astype(np.uint8)\n",
    "im2 = Image.fromarray(temp_)\n",
    "# im2 = Image.fromarray(target_img)\n",
    "#im2.save(\"data/target_cca.png\", \"PNG\")\n",
    "im2.save(path_original, \"PNG\")"
   ]
  },
  {
   "cell_type": "code",
   "execution_count": null,
   "id": "f40f92a9",
   "metadata": {
    "id": "EUDK1Enpfi6z",
    "papermill": {
     "duration": null,
     "end_time": null,
     "exception": null,
     "start_time": null,
     "status": "pending"
    },
    "tags": []
   },
   "outputs": [],
   "source": [
    "from skimage.metrics import mean_squared_error, peak_signal_noise_ratio, structural_similarity\n",
    "from skimage.io import imread\n",
    "\n",
    "\n",
    "imagem_automato = imread(path_img_automato)\n",
    "imagem_original = imread(path_original)\n",
    "\n",
    "mse = mean_squared_error(imagem_original, imagem_automato)\n",
    "psnr = peak_signal_noise_ratio(imagem_original, imagem_automato)\n",
    "ssim = structural_similarity(imagem_original, imagem_automato, win_size=3, multichannel=True)\n",
    "\n",
    "\n",
    "print(\"[automato]PSNR (Peak Signal-to-Noise Ratio):\", psnr)\n",
    "print(\"[automato]MSE (Mean Squared Error):\", mse)\n",
    "print(\"[automato]SSIM (Structural Similarity Index):\", ssim)\n",
    "\n",
    "\n",
    "\n",
    "def tamanho_arquivo(caminho):\n",
    "    # return os.path.getsize(caminho)\n",
    "    #print(os.stat(caminho).st_size)\n",
    "    return os.stat(caminho).st_size\n",
    "\n",
    "\n",
    "\n",
    "#tamanho_original = tamanho_arquivo(caminho_img_original)\n",
    "tamanho_original = tamanho_arquivo(path_original)\n",
    "#tamanho_automato = tamanho_arquivo(caminho_img_automato)\n",
    "tamanho_automato = tamanho_arquivo(path_img_automato)\n",
    "\n",
    "\n",
    "print(\"Tamanho da imagem original:\", tamanho_original, \"bytes\")\n",
    "print(\"Tamanho da imagem gerada pelo autômato:\", tamanho_automato, \"bytes\")\n",
    "\n",
    "def calcular_bits_por_pixel(caminho_imagem, tamanho_arquivo):\n",
    "    imagem = imread(caminho_imagem)\n",
    "    largura, altura, _ = imagem.shape\n",
    "    total_pixels = largura * altura\n",
    "    bits_por_pixel = (tamanho_arquivo * 8) / total_pixels\n",
    "    return bits_por_pixel\n",
    "\n",
    "#bits_por_pixel_original = calcular_bits_por_pixel(caminho_img_original, tamanho_original)\n",
    "bits_por_pixel_original = calcular_bits_por_pixel(path_original, tamanho_original)\n",
    "#bits_por_pixel_automato = calcular_bits_por_pixel(caminho_img_automato, tamanho_automato)\n",
    "bits_por_pixel_automato = calcular_bits_por_pixel(path_img_automato, tamanho_automato)\n",
    "\n",
    "print(\"Bits por Pixel da imagem original:\", bits_por_pixel_original)\n",
    "print(\"Bits por Pixel da imagem gerada pelo autômato:\", bits_por_pixel_automato)\n",
    "\n",
    "\n",
    "\n",
    "# Calculando jpeg para comparação\n",
    "print(\"#\"*10)\n",
    "print(\"\\nJPEG...\")\n",
    "\n",
    "from PIL import Image\n",
    "\n",
    "size = TARGET_SIZE\n",
    "# im = Image.open(\"data/trem.jpg\")\n",
    "path_input_img\n",
    "im = Image.open(path_input_img).resize((size,size))\n",
    "rgb_im = im.convert('RGB')\n",
    "path_img_jpg = os.path.join(output_path, 'jpeg.jpg')\n",
    "#rgb_im.save('data/urso40.jpg', quality=95)\n",
    "rgb_im.save(path_img_jpg, quality=95)\n",
    "imagem_jpeg = imread(path_img_jpg)\n",
    "\n",
    "mse = mean_squared_error(imagem_original, imagem_jpeg)\n",
    "psnr = peak_signal_noise_ratio(imagem_original, imagem_jpeg)\n",
    "ssim = structural_similarity(imagem_original, imagem_jpeg, win_size=3, multichannel=True)\n",
    "tamanho_jpeg = tamanho_arquivo(path_img_jpg)\n",
    "\n",
    "print(\"[jpeg]PSNR (Peak Signal-to-Noise Ratio):\", psnr)\n",
    "print(\"[jpeg]MSE (Mean Squared Error):\", mse)\n",
    "print(\"[jpeg]SSIM (Structural Similarity Index):\", ssim)\n",
    "print(\"Tamanho da imagem original:\", tamanho_original, \"bytes\")\n",
    "print(\"Tamanho da imagem gerada pelo jpeg:\", tamanho_jpeg, \"bytes\")\n",
    "\n"
   ]
  },
  {
   "cell_type": "code",
   "execution_count": null,
   "id": "e9623764",
   "metadata": {
    "papermill": {
     "duration": null,
     "end_time": null,
     "exception": null,
     "start_time": null,
     "status": "pending"
    },
    "tags": []
   },
   "outputs": [],
   "source": []
  }
 ],
 "metadata": {
  "accelerator": "GPU",
  "celltoolbar": "Tags",
  "colab": {
   "gpuType": "T4",
   "provenance": [
    {
     "file_id": "1vqxec-elDk6yOSLu3zISHvUgb2ppauTG",
     "timestamp": 1710445599924
    }
   ]
  },
  "kernelspec": {
   "display_name": "automato",
   "language": "python",
   "name": "automato"
  },
  "language_info": {
   "codemirror_mode": {
    "name": "ipython",
    "version": 3
   },
   "file_extension": ".py",
   "mimetype": "text/x-python",
   "name": "python",
   "nbconvert_exporter": "python",
   "pygments_lexer": "ipython3",
   "version": "3.9.18"
  },
  "papermill": {
   "default_parameters": {},
   "duration": null,
   "end_time": null,
   "environment_variables": {},
   "exception": null,
   "input_path": "NCA.ipynb",
   "output_path": "Growing-Neural-Cellular-Automata/outputs/urso_nca_ts80_hs82_step128_160_ep20k/ouput.ipynb",
   "parameters": {
    "BATCH_SIZE": 8,
    "CELL_FIRE_RATE": 0.5,
    "CHANNEL_N": 16,
    "EXPERIMENT_TYPE": "Growing",
    "POOL_SIZE": 1024,
    "TARGET_PADDING": 0,
    "TARGET_SIZE": 80,
    "exp_name": "urso_nca_ts80_hs82_step128_160_ep20k",
    "hidden_size": 82,
    "lr": 0.002,
    "lr_gamma": 0.9999,
    "n_epoch": 20000,
    "output_folder": "outputs",
    "path_input_img": "data/urso.jpg",
    "step_max": 160,
    "step_min": 128
   },
   "start_time": "2024-05-03T16:48:58.327219",
   "version": "2.6.0"
  }
 },
 "nbformat": 4,
 "nbformat_minor": 5
}