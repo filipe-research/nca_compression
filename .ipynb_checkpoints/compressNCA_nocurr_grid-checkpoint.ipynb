{
 "cells": [
  {
   "cell_type": "code",
   "execution_count": 1,
   "metadata": {
    "tags": []
   },
   "outputs": [
    {
     "name": "stdout",
     "output_type": "stream",
     "text": [
      "/home/pesquisavcl/pesquisa/filipe/automatos/Growing-Neural-Cellular-Automata\n"
     ]
    }
   ],
   "source": [
    "%cd Growing-Neural-Cellular-Automata"
   ]
  },
  {
   "cell_type": "code",
   "execution_count": 2,
   "metadata": {
    "colab": {
     "base_uri": "https://localhost:8080/"
    },
    "executionInfo": {
     "elapsed": 6349,
     "status": "ok",
     "timestamp": 1710853282462,
     "user": {
      "displayName": "FILIPE CORDEIRO",
      "userId": "06393699062473933828"
     },
     "user_tz": 180
    },
    "id": "V2l4tEhsfWBq",
    "outputId": "2515503e-f00d-4ab3-98ac-1627b9238628",
    "tags": []
   },
   "outputs": [],
   "source": [
    "%matplotlib inline\n",
    "import time\n",
    "import imageio\n",
    "import cv2\n",
    "import numpy as np\n",
    "import matplotlib.pyplot as plt\n",
    "import torch\n",
    "import torch.nn as nn\n",
    "import torch.optim as optim\n",
    "import torch.nn.functional as F\n",
    "\n",
    "from IPython.display import clear_output\n",
    "\n",
    "from lib.CAModel import CAModel, LCAModel, CCAModel, SAModel,mCAModel_v7\n",
    "from lib.utils_vis import SamplePool, to_alpha, to_rgb, get_living_mask, make_seed, make_circle_masks\n",
    "import torch\n",
    "import os\n"
   ]
  },
  {
   "cell_type": "code",
   "execution_count": 8,
   "metadata": {
    "executionInfo": {
     "elapsed": 436,
     "status": "ok",
     "timestamp": 1710854551966,
     "user": {
      "displayName": "FILIPE CORDEIRO",
      "userId": "06393699062473933828"
     },
     "user_tz": 180
    },
    "id": "YnuxU3XPfXID",
    "tags": []
   },
   "outputs": [],
   "source": [
    "\n",
    "def load_emoji(path=\"C:/Users/andre/OneDrive/Imagens/gato_png.png\", target_size=40):\n",
    "    \n",
    "    im = imageio.imread(path, pilmode='RGBA')  \n",
    "    emoji = np.array(im.astype(np.float32))\n",
    "    emoji = cv2.resize(emoji, (target_size, target_size))\n",
    "    emoji /= 255.0\n",
    "    return emoji\n",
    "\n",
    "def load_recorte_target( path=\"C:/Users/andre/OneDrive/Imagens/gato_png.png\", target_size=80, grid_size=40, target_number=0, linhas_target=1, col_target=1):\n",
    "    \n",
    "    im = imageio.imread(path, pilmode='RGBA')  #FILIPE\n",
    "    emoji = np.array(im.astype(np.float32))\n",
    "    emoji = cv2.resize(emoji, (target_size, target_size))\n",
    "    emoji /= 255.0\n",
    "        \n",
    "    start_line = (target_number//linhas_target)*grid_size\n",
    "    end_line = start_line + grid_size\n",
    "    \n",
    "    start_col = (target_number%col_target)*grid_size\n",
    "    end_col = start_col + grid_size\n",
    "    print(start_line, end_line, start_col, end_line)\n",
    "    \n",
    "    emoji = emoji[start_line:end_line, start_col:end_col]\n",
    "    # emoji /= 255.0\n",
    "    return emoji\n",
    "\n",
    "\n",
    "def visualize_batch(x0, x):\n",
    "    vis0 = to_rgb(x0)\n",
    "    vis1 = to_rgb(x)\n",
    "    print('batch (before/after):')\n",
    "    plt.figure(figsize=[15,5])\n",
    "    for i in range(x0.shape[0]):\n",
    "        plt.subplot(2,x0.shape[0],i+1)\n",
    "        plt.imshow(vis0[i])\n",
    "        plt.axis('off')\n",
    "    for i in range(x0.shape[0]):\n",
    "        plt.subplot(2,x0.shape[0],i+1+x0.shape[0])\n",
    "        plt.imshow(vis1[i])\n",
    "        plt.axis('off')\n",
    "    plt.show()\n",
    "\n",
    "def plot_loss(loss_log):\n",
    "    plt.figure(figsize=(10, 4))\n",
    "    plt.title('Loss history (log10)')\n",
    "    plt.plot(np.log10(loss_log), '.', alpha=0.1)\n",
    "    plt.show()"
   ]
  },
  {
   "cell_type": "code",
   "execution_count": 12,
   "metadata": {},
   "outputs": [],
   "source": [
    "def train(x, target, steps, optimizer, scheduler):\n",
    "    x = ca(x, steps=steps)\n",
    "    #import pdb;pdb.set_trace()\n",
    "    if target.shape[-1]>3:\n",
    "        loss = F.mse_loss(x[:, :, :, :4], target)\n",
    "    else:\n",
    "        loss = F.mse_loss(x[:, :, :, :3], target)\n",
    "    optimizer.zero_grad()\n",
    "    loss.backward()\n",
    "    optimizer.step()\n",
    "    scheduler.step()\n",
    "    return x, loss\n",
    "\n",
    "def loss_f(x, target):\n",
    "    if target.shape[-1]>3:\n",
    "        return torch.mean(torch.pow(x[..., :4]-target, 2), [-2,-3,-1])\n",
    "    else:\n",
    "        return torch.mean(torch.pow(x[..., :3]-target, 2), [-2,-3,-1])"
   ]
  },
  {
   "cell_type": "code",
   "execution_count": 9,
   "metadata": {
    "tags": [
     "parameters"
    ]
   },
   "outputs": [],
   "source": [
    "device = torch.device(\"cuda:0\")\n",
    "# model_checkpoint_folder = \"checkpoint/\"\n",
    "\n",
    "CHANNEL_N = 16   # Number of CA state channels\n",
    "TARGET_PADDING = 0   # Number of pixels used to pad the target image border\n",
    "TARGET_SIZE = 80\n",
    "hidden_size = 62\n",
    "grid_size = 40\n",
    "\n",
    "lr = 2e-3\n",
    "lr_gamma = 0.9999\n",
    "betas = (0.5, 0.5)\n",
    "# n_epoch = 5000\n",
    "n_epoch = 200\n",
    "\n",
    "BATCH_SIZE = 8\n",
    "POOL_SIZE = 1024\n",
    "CELL_FIRE_RATE = 0.5 #testar com 1.0\n",
    "\n",
    "step_min = 64\n",
    "step_max = 96\n",
    "\n",
    "\n",
    "EXPERIMENT_TYPE = \"Growing\"\n",
    "\n",
    "path_input_img = 'data/urso.jpg'\n",
    "\n",
    "exp_name = \"temp\"\n",
    "\n",
    "output_folder = 'outputs'\n"
   ]
  },
  {
   "cell_type": "code",
   "execution_count": 10,
   "metadata": {},
   "outputs": [],
   "source": [
    "#Dependent parameters\n",
    "\n",
    "EXPERIMENT_MAP = {\"Growing\":0, \"Persistent\":1, \"Regenerating\":2}\n",
    "EXPERIMENT_N = EXPERIMENT_MAP[EXPERIMENT_TYPE]\n",
    "\n",
    "USE_PATTERN_POOL = [0, 1, 1][EXPERIMENT_N]\n",
    "DAMAGE_N = [0, 0, 3][EXPERIMENT_N]  # Number of patterns to damage in a batch\n",
    "\n",
    "\n",
    "# exp_name = f\"{exp_name}_hs{hidden_size}_ts{TARGET_SIZE}\"\n",
    "output_path = os.path.join(output_folder,exp_name)\n",
    "                           \n",
    "if not os.path.exists(output_path): \n",
    "    # if the folder directory is not present  \n",
    "    # then create it. \n",
    "    os.makedirs(output_path) \n",
    "    \n",
    "# model_folder = \"models/compressNCA_temp1.pth\"\n",
    "model_folder = os.path.join(output_path,'models')\n",
    "\n",
    "if not os.path.exists(model_folder): \n",
    "    # if the folder directory is not present  \n",
    "    # then create it. \n",
    "    os.makedirs(model_folder) \n",
    "\n",
    "\n",
    "lin_targets = TARGET_SIZE//40\n",
    "col_targets = TARGET_SIZE//40\n",
    "\n",
    "Ntargets = lin_targets * col_targets\n"
   ]
  },
  {
   "cell_type": "code",
   "execution_count": 11,
   "metadata": {},
   "outputs": [
    {
     "name": "stderr",
     "output_type": "stream",
     "text": [
      "/tmp/ipykernel_701923/2378452205.py:11: DeprecationWarning: Starting with ImageIO v3 the behavior of this function will switch to that of iio.v3.imread. To keep the current behavior (and make this warning disappear) use `import imageio.v2 as imageio` or call `imageio.v2.imread` directly.\n",
      "  im = imageio.imread(path, pilmode='RGBA')  #FILIPE\n"
     ]
    },
    {
     "name": "stdout",
     "output_type": "stream",
     "text": [
      "0 40 0 40\n",
      "0 40 40 40\n",
      "40 80 0 80\n",
      "40 80 40 80\n"
     ]
    },
    {
     "data": {
      "image/png": "[encoded data removed]",
      "text/plain": [
       "<Figure size 640x480 with 4 Axes>"
      ]
     },
     "metadata": {},
     "output_type": "display_data"
    }
   ],
   "source": [
    "# model_path = \"models/compressNCA_temp1.pth\"\n",
    "\n",
    "\n",
    "targets_img = []\n",
    "\n",
    "fig, axs = plt.subplots(lin_targets, col_targets)\n",
    "\n",
    "\n",
    "for i in range(Ntargets):\n",
    "    target_img = load_recorte_target(path=path_input_img, target_size=TARGET_SIZE, grid_size=grid_size, target_number=i,linhas_target=lin_targets, col_target=col_targets)\n",
    "    targets_img.append(target_img)\n",
    "    \n",
    "    if Ntargets>1:\n",
    "        axs[i//lin_targets, i%col_targets].imshow(to_rgb(targets_img[i]))\n",
    "    else:\n",
    "        plt.imshow(to_rgb(targets_img[i]))"
   ]
  },
  {
   "cell_type": "code",
   "execution_count": null,
   "metadata": {},
   "outputs": [],
   "source": [
    "from torchsummary import summary\n",
    "\n",
    "ca = mCAModel_v7(CHANNEL_N, CELL_FIRE_RATE, device,hidden_size=hidden_size).to(device)\n",
    "\n",
    "optimizer = optim.Adam(ca.parameters(), lr=lr, betas=betas)\n",
    "scheduler = optim.lr_scheduler.ExponentialLR(optimizer, lr_gamma)\n",
    "\n",
    "# Apenas para mostrar a quantidde de parâmetros\n",
    "summary(ca, (TARGET_SIZE, TARGET_SIZE, CHANNEL_N))"
   ]
  },
  {
   "cell_type": "code",
   "execution_count": 7,
   "metadata": {
    "executionInfo": {
     "elapsed": 1270,
     "status": "ok",
     "timestamp": 1710856056344,
     "user": {
      "displayName": "FILIPE CORDEIRO",
      "userId": "06393699062473933828"
     },
     "user_tz": 180
    },
    "id": "FPXby5RVfXXg",
    "tags": []
   },
   "outputs": [],
   "source": [
    "\n",
    "_25425p = TARGET_PADDING\n",
    "\n",
    "for i in range(Ntargets):\n",
    "    \n",
    "    #pad_target = np.pad(target_img, [(_25425p, _25425p), (_25425p, _25425p), (0, 0)])\n",
    "    pad_target = np.pad(targets_img[i], [(_25425p, _25425p), (_25425p, _25425p), (0, 0)])\n",
    "    h, w = pad_target.shape[:2]\n",
    "    pad_target = np.expand_dims(pad_target, axis=0)\n",
    "    pad_target = torch.from_numpy(np.repeat(pad_target, BATCH_SIZE, axis=0).astype(np.float32)).to(device)\n",
    "    \n",
    "    \n",
    "    seed = make_seed((h, w), CHANNEL_N)\n",
    "    pool = SamplePool(x=np.repeat(seed[None, ...], POOL_SIZE, 0))\n",
    "    batch = pool.sample(BATCH_SIZE).x\n",
    "\n",
    "    ca = mCAModel_v7(CHANNEL_N, CELL_FIRE_RATE, device,hidden_size=hidden_size).to(device)\n",
    "    optimizer = optim.Adam(ca.parameters(), lr=lr, betas=betas)\n",
    "    scheduler = optim.lr_scheduler.ExponentialLR(optimizer, lr_gamma)\n",
    "\n",
    "    model_path = os.path.join(model_folder,f\"model_p{i}.pth\")\n",
    "\n",
    "    # Treinando o modelo\n",
    "    loss_log = []\n",
    "    best_loss = 9999999\n",
    "    \n",
    "    print(f\"Treinando celula {i}/{Ntargets}\")\n",
    "    \n",
    "    for i in range(n_epoch+1):\n",
    "    \n",
    "        if USE_PATTERN_POOL:\n",
    "            batch = pool.sample(BATCH_SIZE)\n",
    "            x0 = torch.from_numpy(batch.x.astype(np.float32)).to(device)\n",
    "            loss_rank = loss_f(x0, pad_target).detach().cpu().numpy().argsort()[::-1]\n",
    "            x0 = batch.x[loss_rank]\n",
    "            x0[:1] = seed\n",
    "            if DAMAGE_N:\n",
    "                damage = 1.0-make_circle_masks(DAMAGE_N, h, w)[..., None]\n",
    "                x0[-DAMAGE_N:] *= damage\n",
    "        else:\n",
    "            x0 = np.repeat(seed[None, ...], BATCH_SIZE, 0)\n",
    "        x0 = torch.from_numpy(x0.astype(np.float32)).to(device)\n",
    "    \n",
    "        # x, loss = train(x0, pad_target, np.random.randint(64,96), optimizer, scheduler)\n",
    "        x, loss = train(x0, pad_target, np.random.randint(step_min,step_max), optimizer, scheduler)\n",
    "    \n",
    "            \n",
    "        if USE_PATTERN_POOL:\n",
    "            batch.x[:] = x.detach().cpu().numpy()\n",
    "            batch.commit()\n",
    "    \n",
    "        step_i = len(loss_log)\n",
    "        loss_log.append(loss.item())\n",
    "    \n",
    "        if step_i%100 == 0:\n",
    "            clear_output()\n",
    "            print(step_i, \"loss =\", loss.item())\n",
    "            visualize_batch(x0.detach().cpu().numpy(), x.detach().cpu().numpy())\n",
    "            plot_loss(loss_log)\n",
    "            if loss.item() < best_loss:\n",
    "                print(f\"Saving model... {loss.item()} < {best_loss}\") \n",
    "                best_loss = loss.item()\n",
    "                torch.save(ca.state_dict(), model_path)\n",
    "\n",
    "    "
   ]
  },
  {
   "cell_type": "markdown",
   "metadata": {
    "id": "RCY7RmQrKaEk"
   },
   "source": [
    "## Generate image with inference"
   ]
  },
  {
   "cell_type": "code",
   "execution_count": null,
   "metadata": {},
   "outputs": [],
   "source": [
    "import tqdm\n",
    "\n",
    "\n",
    "fig1, axs1 = plt.subplots(lin_targets, col_targets)\n",
    "fig2, axs2 = plt.subplots(lin_targets, col_targets)\n",
    "\n",
    "output_recortes = []\n",
    "\n",
    "for id_recorte in range(Ntargets):\n",
    "\n",
    "    mp = os.path.join(model_folder,f\"model_p{id_recorte}.pth\")\n",
    "    loaded_ca = CAModel(CHANNEL_N, CELL_FIRE_RATE, device,hidden_size=hidden_size).to(device)\n",
    "    loaded_ca = loaded_ca.load_state_dict(torch.load(mp))\n",
    "\n",
    "    x = np.zeros([1, 64, 64, CHANNEL_N], np.float32)\n",
    "    x = np.zeros([1, grid_size, grid_size, CHANNEL_N], np.float32)\n",
    "\n",
    "    x0 = np.repeat(seed[None, ...], 1, 0)\n",
    "    x0 = torch.from_numpy(x0.astype(np.float32)).to(device)\n",
    "\n",
    "    # xf = ca(x0,steps=96)\n",
    "    xf = loaded_ca(x0,steps=step_max)\n",
    "\n",
    "    #Filipe's code\n",
    "    input_rgb = to_rgb(x0.detach().cpu().numpy())\n",
    "    output_rgb = to_rgb(xf.detach().cpu().numpy())\n",
    "    target_rgb = to_rgb(target_img)\n",
    "    \n",
    "    #unpading\n",
    "    output_image = output_rgb[0]\n",
    "    unpad_output_image = output_image[TARGET_PADDING:output_image.shape[0]-TARGET_PADDING, TARGET_PADDING:output_image.shape[1]-TARGET_PADDING]\n",
    "    output_recortes.append(unpad_output_image)\n",
    "\n",
    "    axs1[id_recorte//lin_targets, id_recorte%col_targets].imshow(unpad_output_image)\n",
    "    axs2[id_recorte//lin_targets, id_recorte%col_targets].imshow(to_rgb(targets_img[id_recorte]))"
   ]
  },
  {
   "cell_type": "code",
   "execution_count": null,
   "metadata": {},
   "outputs": [],
   "source": [
    "\n",
    "#primeira linha\n",
    "output_joint = output_recortes[0]\n",
    "for num_col in range(1, col_targets):\n",
    "    output_joint = np.concatenate((output_joint, output_recortes[num_col]), axis=1)\n",
    "    \n",
    "#proximas linhas\n",
    "for num_lin in range(1,lin_targets):\n",
    "    \n",
    "    temp_joint = output_recortes[num_lin*col_targets]\n",
    "    for num_col in range(1, col_targets):\n",
    "        temp_joint = np.concatenate((temp_joint, output_recortes[(num_lin*col_targets)+num_col]), axis=1)\n",
    "    output_joint = np.concatenate((output_joint, temp_joint), axis=0)\n",
    "\n",
    "\n",
    "plt.figure(figsize=(4,4))\n",
    "plt.imshow(output_joint)\n",
    "plt.title(\"imagem automato (joint)\")\n",
    "plt.show()\n",
    "\n",
    "## Target joint\n",
    "\n",
    "#primeira linha\n",
    "target_joint = targets_img[0]\n",
    "for num_col in range(1, col_targets):\n",
    "    target_joint = np.concatenate((target_joint, targets_img[num_col]), axis=1)\n",
    "    \n",
    "#proximas linhas\n",
    "for num_lin in range(1,lin_targets):\n",
    "    \n",
    "    temp_joint = targets_img[num_lin*col_targets]\n",
    "    for num_col in range(1, col_targets):\n",
    "        temp_joint = np.concatenate((temp_joint, targets_img[(num_lin*col_targets)+num_col]), axis=1)\n",
    "    target_joint = np.concatenate((target_joint, temp_joint), axis=0)\n",
    "\n",
    "plt.figure(figsize=(4,4))\n",
    "plt.imshow(to_rgb(target_joint))\n",
    "plt.title(\"imagem original (joint)\")\n",
    "plt.show()\n",
    "\n",
    "\n"
   ]
  },
  {
   "cell_type": "code",
   "execution_count": 12,
   "metadata": {
    "executionInfo": {
     "elapsed": 564,
     "status": "ok",
     "timestamp": 1710855945547,
     "user": {
      "displayName": "FILIPE CORDEIRO",
      "userId": "06393699062473933828"
     },
     "user_tz": 180
    },
    "id": "wS5pmVWE7rlg",
    "tags": []
   },
   "outputs": [],
   "source": [
    "from PIL import Image\n",
    "\n",
    "# path_img_automato = \"data/mca_v7_urso40_h62.png\"\n",
    "path_img_automato = os.path.join(output_path, 'automato.png')\n",
    "#path_original = \"data/target_mca_urso40.png\"\n",
    "path_original = os.path.join(output_path, 'target.png')\n",
    "\n",
    "unpad_output_image_ = output_joint * 255\n",
    "unpad_output_image_ = unpad_output_image_.astype(np.uint8)\n",
    "im = Image.fromarray(unpad_output_image_)\n",
    "#im.save(\"data/automato_cca.png\", \"PNG\")\n",
    "im.save(path_img_automato, \"PNG\")\n",
    "\n",
    "\n",
    "temp = to_rgb(target_joint)* 255\n",
    "temp_ = temp.astype(np.uint8)\n",
    "im2 = Image.fromarray(temp_)\n",
    "im2.save(path_original, \"PNG\")"
   ]
  },
  {
   "cell_type": "code",
   "execution_count": 13,
   "metadata": {
    "id": "EUDK1Enpfi6z",
    "tags": []
   },
   "outputs": [
    {
     "name": "stdout",
     "output_type": "stream",
     "text": [
      "[automato]PSNR (Peak Signal-to-Noise Ratio): 15.682960860878088\n",
      "[automato]MSE (Mean Squared Error): 1757.050625\n",
      "[automato]SSIM (Structural Similarity Index): 0.17729733795282632\n",
      "Tamanho da imagem original: 4566 bytes\n",
      "Tamanho da imagem gerada pelo autômato: 3752 bytes\n",
      "Bits por Pixel da imagem original: 22.83\n",
      "Bits por Pixel da imagem gerada pelo autômato: 18.76\n",
      "##########\n",
      "\n",
      "JPEG...\n",
      "[jpeg]PSNR (Peak Signal-to-Noise Ratio): 19.40051518431708\n",
      "[jpeg]MSE (Mean Squared Error): 746.4983333333333\n",
      "[jpeg]SSIM (Structural Similarity Index): 0.5380370895382157\n",
      "Tamanho da imagem original: 4566 bytes\n",
      "Tamanho da imagem gerada pelo jpeg: 1818 bytes\n"
     ]
    }
   ],
   "source": [
    "from skimage.metrics import mean_squared_error, peak_signal_noise_ratio, structural_similarity\n",
    "from skimage.io import imread\n",
    "\n",
    "\n",
    "imagem_automato = imread(path_img_automato)\n",
    "imagem_original = imread(path_original)\n",
    "\n",
    "mse = mean_squared_error(imagem_original, imagem_automato)\n",
    "psnr = peak_signal_noise_ratio(imagem_original, imagem_automato)\n",
    "ssim = structural_similarity(imagem_original, imagem_automato, win_size=3, multichannel=True)\n",
    "\n",
    "\n",
    "print(\"[automato]PSNR (Peak Signal-to-Noise Ratio):\", psnr)\n",
    "print(\"[automato]MSE (Mean Squared Error):\", mse)\n",
    "print(\"[automato]SSIM (Structural Similarity Index):\", ssim)\n",
    "\n",
    "\n",
    "\n",
    "def tamanho_arquivo(caminho):\n",
    "    # return os.path.getsize(caminho)\n",
    "    #print(os.stat(caminho).st_size)\n",
    "    return os.stat(caminho).st_size\n",
    "\n",
    "\n",
    "\n",
    "#tamanho_original = tamanho_arquivo(caminho_img_original)\n",
    "tamanho_original = tamanho_arquivo(path_original)\n",
    "#tamanho_automato = tamanho_arquivo(caminho_img_automato)\n",
    "tamanho_automato = tamanho_arquivo(path_img_automato)\n",
    "\n",
    "\n",
    "print(\"Tamanho da imagem original:\", tamanho_original, \"bytes\")\n",
    "print(\"Tamanho da imagem gerada pelo autômato:\", tamanho_automato, \"bytes\")\n",
    "\n",
    "def calcular_bits_por_pixel(caminho_imagem, tamanho_arquivo):\n",
    "    imagem = imread(caminho_imagem)\n",
    "    largura, altura, _ = imagem.shape\n",
    "    total_pixels = largura * altura\n",
    "    bits_por_pixel = (tamanho_arquivo * 8) / total_pixels\n",
    "    return bits_por_pixel\n",
    "\n",
    "#bits_por_pixel_original = calcular_bits_por_pixel(caminho_img_original, tamanho_original)\n",
    "bits_por_pixel_original = calcular_bits_por_pixel(path_original, tamanho_original)\n",
    "#bits_por_pixel_automato = calcular_bits_por_pixel(caminho_img_automato, tamanho_automato)\n",
    "bits_por_pixel_automato = calcular_bits_por_pixel(path_img_automato, tamanho_automato)\n",
    "\n",
    "print(\"Bits por Pixel da imagem original:\", bits_por_pixel_original)\n",
    "print(\"Bits por Pixel da imagem gerada pelo autômato:\", bits_por_pixel_automato)\n",
    "\n",
    "\n",
    "\n",
    "# Calculando jpeg para comparação\n",
    "print(\"#\"*10)\n",
    "print(\"\\nJPEG...\")\n",
    "\n",
    "from PIL import Image\n",
    "\n",
    "size = TARGET_SIZE\n",
    "# im = Image.open(\"data/trem.jpg\")\n",
    "path_input_img\n",
    "im = Image.open(path_input_img).resize((size,size))\n",
    "rgb_im = im.convert('RGB')\n",
    "path_img_jpg = os.path.join(output_path, 'jpeg.jpg')\n",
    "#rgb_im.save('data/urso40.jpg', quality=95)\n",
    "rgb_im.save(path_img_jpg, quality=95)\n",
    "imagem_jpeg = imread(path_img_jpg)\n",
    "\n",
    "mse = mean_squared_error(imagem_original, imagem_jpeg)\n",
    "psnr = peak_signal_noise_ratio(imagem_original, imagem_jpeg)\n",
    "ssim = structural_similarity(imagem_original, imagem_jpeg, win_size=3, multichannel=True)\n",
    "tamanho_jpeg = tamanho_arquivo(path_img_jpg)\n",
    "\n",
    "print(\"[jpeg]PSNR (Peak Signal-to-Noise Ratio):\", psnr)\n",
    "print(\"[jpeg]MSE (Mean Squared Error):\", mse)\n",
    "print(\"[jpeg]SSIM (Structural Similarity Index):\", ssim)\n",
    "print(\"Tamanho da imagem original:\", tamanho_original, \"bytes\")\n",
    "print(\"Tamanho da imagem gerada pelo jpeg:\", tamanho_jpeg, \"bytes\")\n",
    "\n"
   ]
  },
  {
   "cell_type": "code",
   "execution_count": null,
   "metadata": {},
   "outputs": [],
   "source": []
  }
 ],
 "metadata": {
  "accelerator": "GPU",
  "celltoolbar": "Tags",
  "colab": {
   "gpuType": "T4",
   "provenance": [
    {
     "file_id": "1vqxec-elDk6yOSLu3zISHvUgb2ppauTG",
     "timestamp": 1710445599924
    }
   ]
  },
  "kernelspec": {
   "display_name": "automato",
   "language": "python",
   "name": "automato"
  },
  "language_info": {
   "codemirror_mode": {
    "name": "ipython",
    "version": 3
   },
   "file_extension": ".py",
   "mimetype": "text/x-python",
   "name": "python",
   "nbconvert_exporter": "python",
   "pygments_lexer": "ipython3",
   "version": "3.9.18"
  }
 },
 "nbformat": 4,
 "nbformat_minor": 4
}
