{
 "cells": [
  {
   "cell_type": "code",
   "execution_count": 1,
   "metadata": {
    "colab": {
     "base_uri": "https://localhost:8080/"
    },
    "executionInfo": {
     "elapsed": 1890,
     "status": "ok",
     "timestamp": 1710864975645,
     "user": {
      "displayName": "FILIPE CORDEIRO",
      "userId": "06393699062473933828"
     },
     "user_tz": 180
    },
    "id": "g_K6j13HfVLO",
    "outputId": "ad882db7-b9df-4dca-b1ae-624e7b694a9c",
    "tags": []
   },
   "outputs": [
    {
     "name": "stdout",
     "output_type": "stream",
     "text": [
      "fatal: destination path 'Growing-Neural-Cellular-Automata' already exists and is not an empty directory.\n"
     ]
    }
   ],
   "source": [
    "!git clone https://github.com/chenmingxiang110/Growing-Neural-Cellular-Automata.git\n",
    "\n"
   ]
  },
  {
   "cell_type": "code",
   "execution_count": 1,
   "metadata": {
    "tags": []
   },
   "outputs": [
    {
     "name": "stdout",
     "output_type": "stream",
     "text": [
      "/home/pesquisavcl/pesquisa/filipe/automatos/Growing-Neural-Cellular-Automata\n"
     ]
    }
   ],
   "source": [
    "%cd Growing-Neural-Cellular-Automata"
   ]
  },
  {
   "cell_type": "code",
   "execution_count": 2,
   "metadata": {
    "colab": {
     "base_uri": "https://localhost:8080/"
    },
    "executionInfo": {
     "elapsed": 6349,
     "status": "ok",
     "timestamp": 1710853282462,
     "user": {
      "displayName": "FILIPE CORDEIRO",
      "userId": "06393699062473933828"
     },
     "user_tz": 180
    },
    "id": "V2l4tEhsfWBq",
    "outputId": "2515503e-f00d-4ab3-98ac-1627b9238628",
    "tags": []
   },
   "outputs": [
    {
     "name": "stdout",
     "output_type": "stream",
     "text": [
      "12.1\n"
     ]
    }
   ],
   "source": [
    "\n",
    "%matplotlib inline\n",
    "import time\n",
    "import imageio\n",
    "import cv2\n",
    "import numpy as np\n",
    "import matplotlib.pyplot as plt\n",
    "import torch\n",
    "import torch.nn as nn\n",
    "import torch.optim as optim\n",
    "import torch.nn.functional as F\n",
    "\n",
    "from IPython.display import clear_output\n",
    "\n",
    "from lib.CAModel import CAModel, LCAModel\n",
    "from lib.utils_vis import SamplePool, to_alpha, to_rgb, get_living_mask, make_seed,make_custom_seed_full, make_custom_seed, make_circle_masks\n",
    "import torch\n",
    "\n",
    "print(torch.version.cuda)"
   ]
  },
  {
   "cell_type": "code",
   "execution_count": 3,
   "metadata": {
    "executionInfo": {
     "elapsed": 436,
     "status": "ok",
     "timestamp": 1710854551966,
     "user": {
      "displayName": "FILIPE CORDEIRO",
      "userId": "06393699062473933828"
     },
     "user_tz": 180
    },
    "id": "YnuxU3XPfXID",
    "tags": []
   },
   "outputs": [],
   "source": [
    "def load_emoji(index, path=\"C:/Users/andre/OneDrive/Imagens/gato_png.png\", target_size=40):\n",
    "    #im = imageio.imread(path)\n",
    "    im = imageio.imread(path, pilmode='RGBA')  #FILIPE\n",
    "    \n",
    "    #emoji = np.array(im[:, index*40:(index+1)*40].astype(np.float32))\n",
    "    emoji = np.array(im.astype(np.float32))\n",
    "    #emoji = cv2.resize(emoji, (40, 40))\n",
    "    emoji = cv2.resize(emoji, (target_size, target_size))\n",
    "    emoji /= 255.0\n",
    "    return emoji\n",
    "\n",
    "def load_recorte_emoji(index, path=\"C:/Users/andre/OneDrive/Imagens/gato_png.png\", target_size=40):\n",
    "    #im = imageio.imread(path)\n",
    "    im = imageio.imread(path, pilmode='RGBA')  #FILIPE\n",
    "    \n",
    "    #emoji = np.array(im[:, index*40:(index+1)*40].astype(np.float32))\n",
    "    emoji = np.array(im.astype(np.float32))\n",
    "    #emoji = cv2.resize(emoji, (40, 40))\n",
    "    #emoji = cv2.resize(emoji, (target_size, target_size))\n",
    "    #emoji = emoji[:target_size][:target_size]\n",
    "    emoji = emoji[0:target_size,:target_size]\n",
    "    emoji /= 255.0\n",
    "    return emoji\n",
    "\n",
    "def load_recorte_target(index, path=\"C:/Users/andre/OneDrive/Imagens/gato_png.png\", target_size=40, target_number=0, linhas_target=1, col_target=1):\n",
    "    #im = imageio.imread(path)\n",
    "    im = imageio.imread(path, pilmode='RGBA')  #FILIPE\n",
    "    \n",
    "    #emoji = np.array(im[:, index*40:(index+1)*40].astype(np.float32))\n",
    "    emoji = np.array(im.astype(np.float32))\n",
    "    #emoji = cv2.resize(emoji, (40, 40))\n",
    "    #emoji = cv2.resize(emoji, (target_size, target_size))\n",
    "    #emoji = emoji[:target_size][:target_size]\n",
    "    \n",
    "    \n",
    "    \n",
    "    #emoji = emoji[target_size*target_number:target_size*target_number+target_size,target_size*target_number:target_size*target_number+target_size]\n",
    "    start_line = (target_number//linhas_target)*target_size\n",
    "    end_line = start_line + target_size\n",
    "    \n",
    "    start_col = (target_number%col_target)*target_size\n",
    "    end_col = start_col + target_size\n",
    "    print(start_line, end_line, start_col, end_line)\n",
    "    #emoji = emoji[target_size*target_number:target_size*target_number+target_size,target_size*target_number:target_size*target_number+target_size]\n",
    "    emoji = emoji[start_line:end_line, start_col:end_col]\n",
    "    emoji /= 255.0\n",
    "    return emoji\n",
    "\n",
    "def visualize_batch(x0, x):\n",
    "    vis0 = to_rgb(x0)\n",
    "    vis1 = to_rgb(x)\n",
    "    print('batch (before/after):')\n",
    "    plt.figure(figsize=[15,5])\n",
    "    for i in range(x0.shape[0]):\n",
    "        plt.subplot(2,x0.shape[0],i+1)\n",
    "        plt.imshow(vis0[i])\n",
    "        plt.axis('off')\n",
    "    for i in range(x0.shape[0]):\n",
    "        plt.subplot(2,x0.shape[0],i+1+x0.shape[0])\n",
    "        plt.imshow(vis1[i])\n",
    "        plt.axis('off')\n",
    "    plt.show()\n",
    "\n",
    "def plot_loss(loss_log):\n",
    "    plt.figure(figsize=(10, 4))\n",
    "    plt.title('Loss history (log10)')\n",
    "    plt.plot(np.log10(loss_log), '.', alpha=0.1)\n",
    "    plt.show()"
   ]
  },
  {
   "cell_type": "code",
   "execution_count": 4,
   "metadata": {
    "executionInfo": {
     "elapsed": 474,
     "status": "ok",
     "timestamp": 1710856046981,
     "user": {
      "displayName": "FILIPE CORDEIRO",
      "userId": "06393699062473933828"
     },
     "user_tz": 180
    },
    "id": "3yaEc_BofXO2",
    "tags": []
   },
   "outputs": [],
   "source": [
    "device = torch.device(\"cuda:0\")\n",
    "model_path = \"models/remaster_20.pth\"\n",
    "\n",
    "CHANNEL_N = 16   # Number of CA state channels\n",
    "#CHANNEL_N = 8        # Number of CA state channels\n",
    "TARGET_PADDING = 4   # Number of pixels used to pad the target image border\n",
    "#TARGET_PADDING = 8   # Number of pixels used to pad the target image border\n",
    "TARGET_SIZE = 20\n",
    "\n",
    "Ntargets = 4\n",
    "lin_targets =2\n",
    "col_targets = 2\n",
    "\n",
    "lr = 2e-3\n",
    "lr_gamma = 0.9999\n",
    "betas = (0.5, 0.5)\n",
    "#n_epoch = 80000\n",
    "n_epoch = 15000\n",
    "#n_epoch = 30000\n",
    "\n",
    "BATCH_SIZE = 8\n",
    "POOL_SIZE = 1024\n",
    "#CELL_FIRE_RATE = 0.5 #testar com 1.0\n",
    "CELL_FIRE_RATE = 0.2 #testar com 1.0\n",
    "\n",
    "TARGET_EMOJI = 5 #@param \"🦎\"\n",
    "\n",
    "EXPERIMENT_TYPE = \"Growing\"\n",
    "# EXPERIMENT_TYPE = \"Regenerating\" #testar os tres pra ver o resultado melhor\n",
    "EXPERIMENT_MAP = {\"Growing\":0, \"Persistent\":1, \"Regenerating\":2}\n",
    "EXPERIMENT_N = EXPERIMENT_MAP[EXPERIMENT_TYPE]\n",
    "\n",
    "USE_PATTERN_POOL = [0, 1, 1][EXPERIMENT_N]\n",
    "DAMAGE_N = [0, 0, 3][EXPERIMENT_N]  # Number of patterns to damage in a batch"
   ]
  },
  {
   "cell_type": "code",
   "execution_count": 5,
   "metadata": {
    "colab": {
     "base_uri": "https://localhost:8080/",
     "height": 428
    },
    "executionInfo": {
     "elapsed": 623,
     "status": "ok",
     "timestamp": 1710856050575,
     "user": {
      "displayName": "FILIPE CORDEIRO",
      "userId": "06393699062473933828"
     },
     "user_tz": 180
    },
    "id": "4Wbv8rkHfXUu",
    "outputId": "d06a2ec2-a035-43bd-af48-e7dfb0b42000",
    "tags": []
   },
   "outputs": [
    {
     "name": "stdout",
     "output_type": "stream",
     "text": [
      "0 20 0 20\n",
      "0 20 20 20\n",
      "20 40 0 40\n",
      "20 40 20 40\n"
     ]
    },
    {
     "name": "stderr",
     "output_type": "stream",
     "text": [
      "/tmp/ipykernel_693471/732272190.py:27: DeprecationWarning: Starting with ImageIO v3 the behavior of this function will switch to that of iio.v3.imread. To keep the current behavior (and make this warning disappear) use `import imageio.v2 as imageio` or call `imageio.v2.imread` directly.\n",
      "  im = imageio.imread(path, pilmode='RGBA')  #FILIPE\n"
     ]
    },
    {
     "data": {
      "image/png": "[encoded data removed]",
      "text/plain": [
       "<Figure size 640x480 with 4 Axes>"
      ]
     },
     "metadata": {},
     "output_type": "display_data"
    }
   ],
   "source": [
    "#target_img = load_emoji(TARGET_EMOJI, path=\"C:/Users/andre/OneDrive/Imagens/gato_png.png\")\n",
    "#nome_imagem = \"caracol_png.png\"\n",
    "nome_imagem = \"aviao40.jpg\"\n",
    "#target_img = load_emoji(TARGET_EMOJI, path=\"data/caracol_png.png\", target_size=TARGET_SIZE)\n",
    "#target_img = load_emoji(TARGET_EMOJI, path=f\"data/{nome_imagem}\", target_size=TARGET_SIZE)\n",
    "\n",
    "#Ntargets = 2\n",
    "targets_img = []\n",
    "\n",
    "fig, axs = plt.subplots(lin_targets, col_targets)\n",
    "\n",
    "# gs = fig.add_gridspec(3, hspace=0)\n",
    "#gs = fig.add_gridspec(2, 2, hspace=0, wspace=0)\n",
    "# axs = gs.subplots(sharex='col', sharey='row')\n",
    "\n",
    "# for ax in fig.get_axes():\n",
    "#     ax.label_outer()\n",
    "\n",
    "for i in range(Ntargets):\n",
    "    target_img = load_recorte_target(TARGET_EMOJI, path=f\"data/{nome_imagem}\", target_size=TARGET_SIZE, target_number=i,linhas_target=lin_targets, col_target=col_targets)\n",
    "    targets_img.append(target_img)\n",
    "\n",
    "    #target_img = load_recorte_emoji(TARGET_EMOJI, path=f\"data/{nome_imagem}\", target_size=TARGET_SIZE)\n",
    "    # plt.figure(figsize=(4,4))\n",
    "    # print(targets_img[i].shape)\n",
    "    # plt.imshow(to_rgb(targets_img[i]))\n",
    "    # plt.show()\n",
    "    # print(i//lin_targets, i%col_targets)\n",
    "    if Ntargets>1:\n",
    "        axs[i//lin_targets, i%col_targets].imshow(to_rgb(targets_img[i]))\n",
    "    else:\n",
    "        plt.imshow(to_rgb(targets_img[i]))\n",
    "    # axs[i//lin_targets, i%col_targets].plot(to_rgb(targets_img[i]))\n",
    "    \n",
    "    \n",
    "\n"
   ]
  },
  {
   "cell_type": "code",
   "execution_count": 6,
   "metadata": {
    "executionInfo": {
     "elapsed": 1270,
     "status": "ok",
     "timestamp": 1710856056344,
     "user": {
      "displayName": "FILIPE CORDEIRO",
      "userId": "06393699062473933828"
     },
     "user_tz": 180
    },
    "id": "FPXby5RVfXXg",
    "tags": []
   },
   "outputs": [],
   "source": [
    "_25425p = TARGET_PADDING\n",
    "\n",
    "pad_targets = []\n",
    "seeds = []\n",
    "pools = []\n",
    "batchs = []\n",
    "for i in range(Ntargets):\n",
    "    #pad_target = np.pad(target_img, [(_25425p, _25425p), (_25425p, _25425p), (0, 0)])\n",
    "    pad_target = np.pad(targets_img[i], [(_25425p, _25425p), (_25425p, _25425p), (0, 0)])\n",
    "    h, w = pad_target.shape[:2]\n",
    "    pad_target = np.expand_dims(pad_target, axis=0)\n",
    "    pad_target = torch.from_numpy(pad_target.astype(np.float32)).to(device)\n",
    "    pad_targets.append(pad_target)\n",
    "\n",
    "\n",
    "    #seed = make_seed((h, w), CHANNEL_N)\n",
    "    #seed = make_custom_seed((h, w), CHANNEL_N, value=i+1)\n",
    "    seed = make_custom_seed_full((h, w), CHANNEL_N, value=i+1)\n",
    "    pool = SamplePool(x=np.repeat(seed[None, ...], POOL_SIZE, 0))\n",
    "    batch = pool.sample(BATCH_SIZE).x\n",
    "    \n",
    "    seeds.append(seed)\n",
    "    pools.append(pool)\n",
    "    batchs.append(batch)\n",
    "\n",
    "#ca = CAModel(CHANNEL_N, CELL_FIRE_RATE, device).to(device)\n",
    "#ca = CAModel(CHANNEL_N, CELL_FIRE_RATE, device,hidden_size=128).to(device)\n",
    "ca = LCAModel(CHANNEL_N, CELL_FIRE_RATE, device,hidden_size=64).to(device)\n",
    "#ca.load_state_dict(torch.load(model_path))\n",
    "\n",
    "\n",
    "\n",
    "\n",
    "optimizer = optim.Adam(ca.parameters(), lr=lr, betas=betas)\n",
    "scheduler = optim.lr_scheduler.ExponentialLR(optimizer, lr_gamma)\n",
    "\n",
    "\n",
    "#filipe\n",
    "# create a quantized model instance\n",
    "ca2 = torch.ao.quantization.quantize_dynamic(\n",
    "    ca,  # the original model\n",
    "    {torch.nn.Linear},  # a set of layers to dynamically quantize\n",
    "    dtype=torch.qint8)\n",
    "\n",
    "# print(ca2.parameters())"
   ]
  },
  {
   "cell_type": "code",
   "execution_count": 7,
   "metadata": {
    "colab": {
     "base_uri": "https://localhost:8080/"
    },
    "executionInfo": {
     "elapsed": 474,
     "status": "ok",
     "timestamp": 1710856061502,
     "user": {
      "displayName": "FILIPE CORDEIRO",
      "userId": "06393699062473933828"
     },
     "user_tz": 180
    },
    "id": "xO6jwP3Nkxag",
    "outputId": "6be8d7e5-2065-4141-d7dd-d1ca3749d83e",
    "tags": []
   },
   "outputs": [
    {
     "name": "stdout",
     "output_type": "stream",
     "text": [
      "16640 0 16640\n",
      "model size: 0.016MB\n",
      "model size: 16.250KB\n"
     ]
    }
   ],
   "source": [
    "model = ca\n",
    "param_size = 0\n",
    "for param in model.parameters():\n",
    "    param_size += param.nelement() * param.element_size()\n",
    "buffer_size = 0\n",
    "for buffer in model.buffers():\n",
    "    buffer_size += buffer.nelement() * buffer.element_size()\n",
    "\n",
    "print(param_size, buffer_size,param_size + buffer_size)\n",
    "size_all_mb = (param_size + buffer_size) / 1024**2\n",
    "size_all_kb = (param_size + buffer_size) / 1024**1\n",
    "print('model size: {:.3f}MB'.format(size_all_mb))\n",
    "print('model size: {:.3f}KB'.format(size_all_kb))\n",
    "# > model size: 44.629MB"
   ]
  },
  {
   "cell_type": "code",
   "execution_count": 8,
   "metadata": {
    "colab": {
     "base_uri": "https://localhost:8080/",
     "height": 211
    },
    "executionInfo": {
     "elapsed": 516,
     "status": "error",
     "timestamp": 1710853359774,
     "user": {
      "displayName": "FILIPE CORDEIRO",
      "userId": "06393699062473933828"
     },
     "user_tz": 180
    },
    "id": "ZmuRA9YYl8fO",
    "outputId": "06216343-e0a3-487d-db1e-2ddadec830c1",
    "tags": []
   },
   "outputs": [
    {
     "name": "stdout",
     "output_type": "stream",
     "text": [
      "model:  fp32  \t Size (KB): 18.239\n",
      "model:  int8  \t Size (KB): 7.331\n",
      "2.49 times smaller\n"
     ]
    }
   ],
   "source": [
    "import os\n",
    "\n",
    "def print_size_of_model(model, label=\"\"):\n",
    "    torch.save(model.state_dict(), \"temp.p\")\n",
    "    size=os.path.getsize(\"temp.p\")\n",
    "    print(\"model: \",label,' \\t','Size (KB):', size/1e3)\n",
    "    os.remove('temp.p')\n",
    "    return size\n",
    "\n",
    "# compare the sizes\n",
    "f=print_size_of_model(ca,\"fp32\")\n",
    "q=print_size_of_model(ca2,\"int8\")\n",
    "print(\"{0:.2f} times smaller\".format(f/q))"
   ]
  },
  {
   "cell_type": "code",
   "execution_count": 9,
   "metadata": {
    "tags": []
   },
   "outputs": [
    {
     "data": {
      "text/plain": [
       "torch.Size([1, 28, 28, 4])"
      ]
     },
     "execution_count": 9,
     "metadata": {},
     "output_type": "execute_result"
    }
   ],
   "source": [
    "pad_target.shape"
   ]
  },
  {
   "cell_type": "code",
   "execution_count": 10,
   "metadata": {
    "tags": []
   },
   "outputs": [
    {
     "data": {
      "text/plain": [
       "4"
      ]
     },
     "execution_count": 10,
     "metadata": {},
     "output_type": "execute_result"
    }
   ],
   "source": [
    "len(seeds)"
   ]
  },
  {
   "cell_type": "code",
   "execution_count": 11,
   "metadata": {
    "colab": {
     "base_uri": "https://localhost:8080/",
     "height": 1000
    },
    "executionInfo": {
     "elapsed": 4250,
     "status": "error",
     "timestamp": 1710856071188,
     "user": {
      "displayName": "FILIPE CORDEIRO",
      "userId": "06393699062473933828"
     },
     "user_tz": 180
    },
    "id": "3w-iZCVVfXZ3",
    "outputId": "75fcc0db-501f-4d5c-88a3-686d40edb632",
    "tags": []
   },
   "outputs": [
    {
     "name": "stdout",
     "output_type": "stream",
     "text": [
      "2109 loss = 0.27977442741394043\n",
      "batch (before/after):\n"
     ]
    },
    {
     "data": {
      "image/png": "[encoded data removed]",
      "text/plain": [
       "<Figure size 1500x500 with 16 Axes>"
      ]
     },
     "metadata": {},
     "output_type": "display_data"
    },
    {
     "data": {
      "image/png": "[encoded data removed]",
      "text/plain": [
       "<Figure size 1000x400 with 1 Axes>"
      ]
     },
     "metadata": {},
     "output_type": "display_data"
    },
    {
     "ename": "KeyboardInterrupt",
     "evalue": "",
     "output_type": "error",
     "traceback": [
      "\u001b[0;31m---------------------------------------------------------------------------\u001b[0m",
      "\u001b[0;31mKeyboardInterrupt\u001b[0m                         Traceback (most recent call last)",
      "Cell \u001b[0;32mIn[11], line 45\u001b[0m\n\u001b[1;32m     42\u001b[0m x0 \u001b[38;5;241m=\u001b[39m torch\u001b[38;5;241m.\u001b[39mfrom_numpy(x0\u001b[38;5;241m.\u001b[39mastype(np\u001b[38;5;241m.\u001b[39mfloat32))\u001b[38;5;241m.\u001b[39mto(device)\n\u001b[1;32m     43\u001b[0m \u001b[38;5;66;03m#import pdb; pdb.set_trace()\u001b[39;00m\n\u001b[1;32m     44\u001b[0m \u001b[38;5;66;03m#x, loss = train(x0, pad_target, np.random.randint(64,96), optimizer, scheduler)\u001b[39;00m\n\u001b[0;32m---> 45\u001b[0m x, loss \u001b[38;5;241m=\u001b[39m \u001b[43mtrain\u001b[49m\u001b[43m(\u001b[49m\u001b[43mx0\u001b[49m\u001b[43m,\u001b[49m\u001b[43m \u001b[49m\u001b[43mpad_targets\u001b[49m\u001b[43m[\u001b[49m\u001b[43mrecorte_id\u001b[49m\u001b[43m]\u001b[49m\u001b[43m,\u001b[49m\u001b[43m \u001b[49m\u001b[43mnp\u001b[49m\u001b[38;5;241;43m.\u001b[39;49m\u001b[43mrandom\u001b[49m\u001b[38;5;241;43m.\u001b[39;49m\u001b[43mrandint\u001b[49m\u001b[43m(\u001b[49m\u001b[38;5;241;43m64\u001b[39;49m\u001b[43m,\u001b[49m\u001b[38;5;241;43m96\u001b[39;49m\u001b[43m)\u001b[49m\u001b[43m,\u001b[49m\u001b[43m \u001b[49m\u001b[43moptimizer\u001b[49m\u001b[43m,\u001b[49m\u001b[43m \u001b[49m\u001b[43mscheduler\u001b[49m\u001b[43m)\u001b[49m\n\u001b[1;32m     47\u001b[0m \u001b[38;5;28;01mif\u001b[39;00m USE_PATTERN_POOL:\n\u001b[1;32m     48\u001b[0m     \u001b[38;5;66;03m#batch.x[:] = x.detach().cpu().numpy()\u001b[39;00m\n\u001b[1;32m     49\u001b[0m     batchs[recorte_id]\u001b[38;5;241m.\u001b[39mx[:] \u001b[38;5;241m=\u001b[39m x\u001b[38;5;241m.\u001b[39mdetach()\u001b[38;5;241m.\u001b[39mcpu()\u001b[38;5;241m.\u001b[39mnumpy()\n",
      "Cell \u001b[0;32mIn[11], line 12\u001b[0m, in \u001b[0;36mtrain\u001b[0;34m(x, target, steps, optimizer, scheduler)\u001b[0m\n\u001b[1;32m     10\u001b[0m     loss \u001b[38;5;241m=\u001b[39m F\u001b[38;5;241m.\u001b[39mmse_loss(x[:, :, :, :\u001b[38;5;241m3\u001b[39m], target)\n\u001b[1;32m     11\u001b[0m optimizer\u001b[38;5;241m.\u001b[39mzero_grad()\n\u001b[0;32m---> 12\u001b[0m \u001b[43mloss\u001b[49m\u001b[38;5;241;43m.\u001b[39;49m\u001b[43mbackward\u001b[49m\u001b[43m(\u001b[49m\u001b[43m)\u001b[49m\n\u001b[1;32m     13\u001b[0m optimizer\u001b[38;5;241m.\u001b[39mstep()\n\u001b[1;32m     14\u001b[0m scheduler\u001b[38;5;241m.\u001b[39mstep()\n",
      "File \u001b[0;32m~/miniconda3/envs/automato/lib/python3.9/site-packages/torch/_tensor.py:522\u001b[0m, in \u001b[0;36mTensor.backward\u001b[0;34m(self, gradient, retain_graph, create_graph, inputs)\u001b[0m\n\u001b[1;32m    512\u001b[0m \u001b[38;5;28;01mif\u001b[39;00m has_torch_function_unary(\u001b[38;5;28mself\u001b[39m):\n\u001b[1;32m    513\u001b[0m     \u001b[38;5;28;01mreturn\u001b[39;00m handle_torch_function(\n\u001b[1;32m    514\u001b[0m         Tensor\u001b[38;5;241m.\u001b[39mbackward,\n\u001b[1;32m    515\u001b[0m         (\u001b[38;5;28mself\u001b[39m,),\n\u001b[0;32m   (...)\u001b[0m\n\u001b[1;32m    520\u001b[0m         inputs\u001b[38;5;241m=\u001b[39minputs,\n\u001b[1;32m    521\u001b[0m     )\n\u001b[0;32m--> 522\u001b[0m \u001b[43mtorch\u001b[49m\u001b[38;5;241;43m.\u001b[39;49m\u001b[43mautograd\u001b[49m\u001b[38;5;241;43m.\u001b[39;49m\u001b[43mbackward\u001b[49m\u001b[43m(\u001b[49m\n\u001b[1;32m    523\u001b[0m \u001b[43m    \u001b[49m\u001b[38;5;28;43mself\u001b[39;49m\u001b[43m,\u001b[49m\u001b[43m \u001b[49m\u001b[43mgradient\u001b[49m\u001b[43m,\u001b[49m\u001b[43m \u001b[49m\u001b[43mretain_graph\u001b[49m\u001b[43m,\u001b[49m\u001b[43m \u001b[49m\u001b[43mcreate_graph\u001b[49m\u001b[43m,\u001b[49m\u001b[43m \u001b[49m\u001b[43minputs\u001b[49m\u001b[38;5;241;43m=\u001b[39;49m\u001b[43minputs\u001b[49m\n\u001b[1;32m    524\u001b[0m \u001b[43m\u001b[49m\u001b[43m)\u001b[49m\n",
      "File \u001b[0;32m~/miniconda3/envs/automato/lib/python3.9/site-packages/torch/autograd/__init__.py:266\u001b[0m, in \u001b[0;36mbackward\u001b[0;34m(tensors, grad_tensors, retain_graph, create_graph, grad_variables, inputs)\u001b[0m\n\u001b[1;32m    261\u001b[0m     retain_graph \u001b[38;5;241m=\u001b[39m create_graph\n\u001b[1;32m    263\u001b[0m \u001b[38;5;66;03m# The reason we repeat the same comment below is that\u001b[39;00m\n\u001b[1;32m    264\u001b[0m \u001b[38;5;66;03m# some Python versions print out the first line of a multi-line function\u001b[39;00m\n\u001b[1;32m    265\u001b[0m \u001b[38;5;66;03m# calls in the traceback and some print out the last line\u001b[39;00m\n\u001b[0;32m--> 266\u001b[0m \u001b[43mVariable\u001b[49m\u001b[38;5;241;43m.\u001b[39;49m\u001b[43m_execution_engine\u001b[49m\u001b[38;5;241;43m.\u001b[39;49m\u001b[43mrun_backward\u001b[49m\u001b[43m(\u001b[49m\u001b[43m  \u001b[49m\u001b[38;5;66;43;03m# Calls into the C++ engine to run the backward pass\u001b[39;49;00m\n\u001b[1;32m    267\u001b[0m \u001b[43m    \u001b[49m\u001b[43mtensors\u001b[49m\u001b[43m,\u001b[49m\n\u001b[1;32m    268\u001b[0m \u001b[43m    \u001b[49m\u001b[43mgrad_tensors_\u001b[49m\u001b[43m,\u001b[49m\n\u001b[1;32m    269\u001b[0m \u001b[43m    \u001b[49m\u001b[43mretain_graph\u001b[49m\u001b[43m,\u001b[49m\n\u001b[1;32m    270\u001b[0m \u001b[43m    \u001b[49m\u001b[43mcreate_graph\u001b[49m\u001b[43m,\u001b[49m\n\u001b[1;32m    271\u001b[0m \u001b[43m    \u001b[49m\u001b[43minputs\u001b[49m\u001b[43m,\u001b[49m\n\u001b[1;32m    272\u001b[0m \u001b[43m    \u001b[49m\u001b[43mallow_unreachable\u001b[49m\u001b[38;5;241;43m=\u001b[39;49m\u001b[38;5;28;43;01mTrue\u001b[39;49;00m\u001b[43m,\u001b[49m\n\u001b[1;32m    273\u001b[0m \u001b[43m    \u001b[49m\u001b[43maccumulate_grad\u001b[49m\u001b[38;5;241;43m=\u001b[39;49m\u001b[38;5;28;43;01mTrue\u001b[39;49;00m\u001b[43m,\u001b[49m\n\u001b[1;32m    274\u001b[0m \u001b[43m\u001b[49m\u001b[43m)\u001b[49m\n",
      "\u001b[0;31mKeyboardInterrupt\u001b[0m: "
     ]
    }
   ],
   "source": [
    "loss_log = []\n",
    "\n",
    "def train(x, target, steps, optimizer, scheduler):\n",
    "    x = ca(x, steps=steps)\n",
    "    #import pdb;pdb.set_trace()\n",
    "    if target.shape[-1]>3:\n",
    "        #import pdb; pdb.set_trace()\n",
    "        loss = F.mse_loss(x[:, :, :, :4], target)\n",
    "    else:\n",
    "        loss = F.mse_loss(x[:, :, :, :3], target)\n",
    "    optimizer.zero_grad()\n",
    "    loss.backward()\n",
    "    optimizer.step()\n",
    "    scheduler.step()\n",
    "    return x, loss\n",
    "\n",
    "def loss_f(x, target):\n",
    "    if target.shape[-1]>3:\n",
    "        return torch.mean(torch.pow(x[..., :4]-target, 2), [-2,-3,-1])\n",
    "    else:\n",
    "        return torch.mean(torch.pow(x[..., :3]-target, 2), [-2,-3,-1])\n",
    "\n",
    "for i in range(n_epoch+1):\n",
    "    recorte_id= i%Ntargets\n",
    "    if USE_PATTERN_POOL:\n",
    "        #batch = pool.sample(BATCH_SIZE)\n",
    "        batch = pools[recorte_id].sample(BATCH_SIZE)\n",
    "        #x0 = torch.from_numpy(batch.x.astype(np.float32)).to(device)\n",
    "        x0 = torch.from_numpy(batchs[recorte_id].x.astype(np.float32)).to(device)\n",
    "        #loss_rank = loss_f(x0, pad_target).detach().cpu().numpy().argsort()[::-1]\n",
    "        loss_rank = loss_f(x0, pad_targets[recorte_id]).detach().cpu().numpy().argsort()[::-1]\n",
    "        #x0 = batch.x[loss_rank]\n",
    "        x0 = batchs[recorte_id].x[loss_rank]\n",
    "        #x0[:1] = seed\n",
    "        x0[:1] = seeds[recorte_id]\n",
    "        if DAMAGE_N:\n",
    "            damage = 1.0-make_circle_masks(DAMAGE_N, h, w)[..., None]\n",
    "            x0[-DAMAGE_N:] *= damage\n",
    "    else:\n",
    "        #x0 = np.repeat(seed[None, ...], BATCH_SIZE, 0)\n",
    "        x0 = np.repeat(seeds[recorte_id][None, ...], BATCH_SIZE, 0)\n",
    "    x0 = torch.from_numpy(x0.astype(np.float32)).to(device)\n",
    "    #import pdb; pdb.set_trace()\n",
    "    #x, loss = train(x0, pad_target, np.random.randint(64,96), optimizer, scheduler)\n",
    "    x, loss = train(x0, pad_targets[recorte_id], np.random.randint(64,96), optimizer, scheduler)\n",
    "    \n",
    "    if USE_PATTERN_POOL:\n",
    "        #batch.x[:] = x.detach().cpu().numpy()\n",
    "        batchs[recorte_id].x[:] = x.detach().cpu().numpy()\n",
    "        #batch.commit()\n",
    "        batchs[recorte_id].commit()\n",
    "\n",
    "    step_i = len(loss_log)\n",
    "    loss_log.append(loss.item())\n",
    "\n",
    "    #if step_i%100 == 0:\n",
    "    if (step_i%100 == 0) or (step_i%111 == 0):\n",
    "        clear_output()\n",
    "        print(step_i, \"loss =\", loss.item())\n",
    "        visualize_batch(x0.detach().cpu().numpy(), x.detach().cpu().numpy())\n",
    "        plot_loss(loss_log)\n",
    "        torch.save(ca.state_dict(), model_path)"
   ]
  },
  {
   "cell_type": "markdown",
   "metadata": {
    "id": "RCY7RmQrKaEk"
   },
   "source": [
    "## Generate image with inference"
   ]
  },
  {
   "cell_type": "code",
   "execution_count": 12,
   "metadata": {
    "tags": []
   },
   "outputs": [
    {
     "data": {
      "image/png": "[encoded data removed]",
      "text/plain": [
       "<Figure size 400x400 with 1 Axes>"
      ]
     },
     "metadata": {},
     "output_type": "display_data"
    },
    {
     "data": {
      "image/png": "[encoded data removed]",
      "text/plain": [
       "<Figure size 400x400 with 1 Axes>"
      ]
     },
     "metadata": {},
     "output_type": "display_data"
    }
   ],
   "source": [
    "import tqdm\n",
    "\n",
    "#loaded_ca = ca.load_state_dict(torch.load(model_path)).to(device)\n",
    "\n",
    "loaded_ca = CAModel(CHANNEL_N, CELL_FIRE_RATE, device,hidden_size=64).to(device)\n",
    "#ca = LCAModel(CHANNEL_N, CELL_FIRE_RATE, device,hidden_size=8).to(device)\n",
    "loaded_ca = loaded_ca.load_state_dict(torch.load(model_path))\n",
    "\n",
    "id_recorte = 0\n",
    "\n",
    "x = np.zeros([1, 64, 64, CHANNEL_N], np.float32)\n",
    "\n",
    "x0 = np.repeat(seeds[id_recorte][None, ...], 1, 0)\n",
    "x0 = torch.from_numpy(x0.astype(np.float32)).to(device)\n",
    "\n",
    "xf = ca(x0,steps=96)\n",
    "\n",
    "#Filipe's code\n",
    "#input_rgb = to_rgb(x0.detach().cpu().numpy())\n",
    "output_rgb = to_rgb(xf.detach().cpu().numpy())\n",
    "target_rgb = to_rgb(targets_img[id_recorte])\n",
    "\n",
    "#unpading\n",
    "output_image = output_rgb[0]\n",
    "unpad_output_image = output_image[TARGET_PADDING:output_image.shape[0]-TARGET_PADDING, TARGET_PADDING:output_image.shape[1]-TARGET_PADDING]\n",
    "\n",
    "\n",
    "# plt.figure(figsize=(4,4))\n",
    "# plt.imshow(input_rgb[0])\n",
    "# plt.title(\"Imagem inicial\")\n",
    "\n",
    "plt.figure(figsize=(4,4))\n",
    "plt.imshow(unpad_output_image)\n",
    "plt.title(\"Imagem automato\")\n",
    "\n",
    "plt.figure(figsize=(4,4))\n",
    "#plt.imshow(to_rgb(target_img))\n",
    "plt.imshow(target_rgb)\n",
    "plt.title(\"imagem original (rgb)\")\n",
    "plt.show()\n"
   ]
  },
  {
   "cell_type": "code",
   "execution_count": 13,
   "metadata": {
    "tags": []
   },
   "outputs": [
    {
     "data": {
      "image/png": "[encoded data removed]",
      "text/plain": [
       "<Figure size 640x480 with 4 Axes>"
      ]
     },
     "metadata": {},
     "output_type": "display_data"
    },
    {
     "data": {
      "image/png": "[encoded data removed]",
      "text/plain": [
       "<Figure size 640x480 with 4 Axes>"
      ]
     },
     "metadata": {},
     "output_type": "display_data"
    }
   ],
   "source": [
    "import tqdm\n",
    "\n",
    "#loaded_ca = ca.load_state_dict(torch.load(model_path)).to(device)\n",
    "\n",
    "loaded_ca = CAModel(CHANNEL_N, CELL_FIRE_RATE, device,hidden_size=64).to(device)\n",
    "#ca = LCAModel(CHANNEL_N, CELL_FIRE_RATE, device,hidden_size=8).to(device)\n",
    "loaded_ca = loaded_ca.load_state_dict(torch.load(model_path))\n",
    "\n",
    "fig1, axs1 = plt.subplots(lin_targets, col_targets)\n",
    "fig2, axs2 = plt.subplots(lin_targets, col_targets)\n",
    "\n",
    "output_recortes = []\n",
    "\n",
    "for id_recorte in range(Ntargets):\n",
    "\n",
    "\n",
    "    x = np.zeros([1, 64, 64, CHANNEL_N], np.float32)\n",
    "\n",
    "    x0 = np.repeat(seeds[id_recorte][None, ...], 1, 0)\n",
    "    x0 = torch.from_numpy(x0.astype(np.float32)).to(device)\n",
    "\n",
    "    xf = ca(x0,steps=96)\n",
    "\n",
    "    #Filipe's code\n",
    "    #input_rgb = to_rgb(x0.detach().cpu().numpy())\n",
    "    output_rgb = to_rgb(xf.detach().cpu().numpy())\n",
    "    target_rgb = to_rgb(targets_img[id_recorte])\n",
    "\n",
    "    #unpading\n",
    "    output_image = output_rgb[0]\n",
    "    unpad_output_image = output_image[TARGET_PADDING:output_image.shape[0]-TARGET_PADDING, TARGET_PADDING:output_image.shape[1]-TARGET_PADDING]\n",
    "\n",
    "    output_recortes.append(unpad_output_image)\n",
    "\n",
    "    # plt.figure(figsize=(4,4))\n",
    "    # plt.imshow(input_rgb[0])\n",
    "    # plt.title(\"Imagem inicial\")\n",
    "\n",
    "#     plt.figure(figsize=(4,4))\n",
    "#     plt.imshow(unpad_output_image)\n",
    "#     plt.title(\"Imagem automato\")\n",
    "\n",
    "#     plt.figure(figsize=(4,4))\n",
    "#     #plt.imshow(to_rgb(target_img))\n",
    "#     plt.imshow(target_rgb)\n",
    "#     plt.title(\"imagem original (rgb)\")\n",
    "#     plt.show()\n",
    "\n",
    "    \n",
    "\n",
    "    axs1[id_recorte//lin_targets, id_recorte%col_targets].imshow(unpad_output_image)\n",
    "    axs2[id_recorte//lin_targets, id_recorte%col_targets].imshow(to_rgb(targets_img[id_recorte]))"
   ]
  },
  {
   "cell_type": "code",
   "execution_count": 17,
   "metadata": {
    "tags": []
   },
   "outputs": [
    {
     "data": {
      "image/png": "[encoded data removed]",
      "text/plain": [
       "<Figure size 400x400 with 1 Axes>"
      ]
     },
     "metadata": {},
     "output_type": "display_data"
    },
    {
     "data": {
      "image/png": "[encoded data removed]",
      "text/plain": [
       "<Figure size 400x400 with 1 Axes>"
      ]
     },
     "metadata": {},
     "output_type": "display_data"
    }
   ],
   "source": [
    "len(output_recortes)\n",
    "\n",
    "#primeira linha\n",
    "output_joint = output_recortes[0]\n",
    "for num_col in range(1, col_targets):\n",
    "    output_joint = np.concatenate((output_joint, output_recortes[num_col]), axis=1)\n",
    "    \n",
    "#proximas linhas\n",
    "for num_lin in range(1,lin_targets):\n",
    "    \n",
    "    temp_joint = output_recortes[num_lin*col_targets]\n",
    "    for num_col in range(1, col_targets):\n",
    "        temp_joint = np.concatenate((temp_joint, output_recortes[(num_lin*col_targets)+num_col]), axis=1)\n",
    "    output_joint = np.concatenate((output_joint, temp_joint), axis=0)\n",
    "#joint_output = np.concatenate((output_recortes[0], output_recortes[1]), axis=1)\n",
    "\n",
    "plt.figure(figsize=(4,4))\n",
    "plt.imshow(output_joint)\n",
    "plt.title(\"imagem automato (joint)\")\n",
    "plt.show()\n",
    "\n",
    "\n",
    "## Target joint\n",
    "\n",
    "#primeira linha\n",
    "target_joint = targets_img[0]\n",
    "for num_col in range(1, col_targets):\n",
    "    target_joint = np.concatenate((target_joint, targets_img[num_col]), axis=1)\n",
    "    \n",
    "#proximas linhas\n",
    "for num_lin in range(1,lin_targets):\n",
    "    \n",
    "    temp_joint = targets_img[num_lin*col_targets]\n",
    "    for num_col in range(1, col_targets):\n",
    "        temp_joint = np.concatenate((temp_joint, targets_img[(num_lin*col_targets)+num_col]), axis=1)\n",
    "    target_joint = np.concatenate((target_joint, temp_joint), axis=0)\n",
    "#joint_output = np.concatenate((output_recortes[0], output_recortes[1]), axis=1)\n",
    "\n",
    "plt.figure(figsize=(4,4))\n",
    "plt.imshow(to_rgb(target_joint))\n",
    "plt.title(\"imagem original (joint)\")\n",
    "plt.show()\n",
    "\n",
    "\n"
   ]
  },
  {
   "cell_type": "code",
   "execution_count": 18,
   "metadata": {
    "executionInfo": {
     "elapsed": 564,
     "status": "ok",
     "timestamp": 1710855945547,
     "user": {
      "displayName": "FILIPE CORDEIRO",
      "userId": "06393699062473933828"
     },
     "user_tz": 180
    },
    "id": "wS5pmVWE7rlg",
    "tags": []
   },
   "outputs": [],
   "source": [
    "from PIL import Image\n",
    "\n",
    "path_img_automato = \"data/automato4.png\"\n",
    "path_original = \"data/target4.png\"\n",
    "\n",
    "unpad_output_image_ = output_joint * 255\n",
    "#unpad_output_image_ = unpad_output_image * 255\n",
    "unpad_output_image_ = unpad_output_image_.astype(np.uint8)\n",
    "im = Image.fromarray(unpad_output_image_)\n",
    "#im.save(\"data/automato3.png\", \"PNG\")\n",
    "im.save(path_img_automato, \"PNG\")\n",
    "\n",
    "\n",
    "#temp = to_rgb(target_img)* 255\n",
    "temp = to_rgb(target_joint)* 255\n",
    "temp_ = temp.astype(np.uint8)\n",
    "im2 = Image.fromarray(temp_)\n",
    "# im2 = Image.fromarray(target_img)\n",
    "#im2.save(\"data/target3.png\", \"PNG\")\n",
    "im2.save(path_original, \"PNG\")"
   ]
  },
  {
   "cell_type": "code",
   "execution_count": 19,
   "metadata": {
    "colab": {
     "base_uri": "https://localhost:8080/"
    },
    "executionInfo": {
     "elapsed": 547,
     "status": "ok",
     "timestamp": 1710855976970,
     "user": {
      "displayName": "FILIPE CORDEIRO",
      "userId": "06393699062473933828"
     },
     "user_tz": 180
    },
    "id": "yALNDtER74dv",
    "outputId": "42f84c0e-626c-4a8d-9382-ce479382d2f8",
    "tags": []
   },
   "outputs": [
    {
     "name": "stdout",
     "output_type": "stream",
     "text": [
      "3578\n",
      "3228\n",
      "26369\n"
     ]
    }
   ],
   "source": [
    "import os\n",
    "print(os.stat(path_img_automato).st_size)\n",
    "print(os.stat(path_original).st_size)\n",
    "print(os.stat(\"data/caracol_png.png\").st_size)"
   ]
  },
  {
   "cell_type": "code",
   "execution_count": null,
   "metadata": {
    "id": "lCru4Qqu7f0c"
   },
   "outputs": [],
   "source": []
  },
  {
   "cell_type": "code",
   "execution_count": null,
   "metadata": {
    "id": "00Nkns7wfi4f"
   },
   "outputs": [],
   "source": [
    "# from PIL import Image\n",
    "\n",
    "\n",
    "# unpad_output_image_ = unpad_output_image * 255\n",
    "# unpad_output_image_ = unpad_output_image_.astype(np.uint8)\n",
    "# im = Image.fromarray(unpad_output_image_)\n",
    "# im.save(\"img_automato_rgb_peru_R.png\", \"PNG\")\n",
    "\n",
    "\n",
    "# target_image_ = to_rgb(target_img) * 255\n",
    "# target_image_ = target_image_.astype(np.uint8)\n",
    "# im = Image.fromarray(target_image_)\n",
    "# im.save(\"img_target_rgb_peru_R.png\", \"PNG\")\n",
    "\n",
    "# import shutil\n",
    "\n",
    "\n",
    "# caminho_img_automato = \"img_automato_rgb_peru_R.png\"\n",
    "# caminho_img_original = \"img_target_rgb_peru_R.png\"\n",
    "\n",
    "\n",
    "# diretorio_destino = \"C:/Users/andre/OneDrive/Imagens/imagem automatos\"\n",
    "\n",
    "\n",
    "# shutil.move(caminho_img_automato, diretorio_destino)\n",
    "# shutil.move(caminho_img_original, diretorio_destino)\n"
   ]
  },
  {
   "cell_type": "code",
   "execution_count": 20,
   "metadata": {
    "id": "EUDK1Enpfi6z",
    "tags": []
   },
   "outputs": [
    {
     "name": "stdout",
     "output_type": "stream",
     "text": [
      "PSNR (Peak Signal-to-Noise Ratio): 27.80805015061892\n",
      "MSE (Mean Squared Error): 107.71479166666667\n",
      "SSIM (Structural Similarity Index): 0.8665305759202862\n",
      "Tamanho da imagem original: 3228 bytes\n",
      "Tamanho da imagem gerada pelo autômato: 3578 bytes\n",
      "Bits por Pixel da imagem original: 16.14\n",
      "Bits por Pixel da imagem gerada pelo autômato: 17.89\n"
     ]
    }
   ],
   "source": [
    "from skimage.metrics import mean_squared_error, peak_signal_noise_ratio, structural_similarity\n",
    "from skimage.io import imread\n",
    "import os\n",
    "\n",
    "\n",
    "\n",
    "#imagem_automato = imread(\"C:/Users/andre/OneDrive/Imagens/imagem automatos/img_automato_rgb_peru_R.png\")\n",
    "imagem_automato = imread(path_img_automato)\n",
    "#imagem_original = imread(\"C:/Users/andre/OneDrive/Imagens/imagem automatos/img_target_rgb_peru_R.png\")\n",
    "imagem_original = imread(path_original)\n",
    "\n",
    "\n",
    "\n",
    "mse = mean_squared_error(imagem_original, imagem_automato)\n",
    "psnr = peak_signal_noise_ratio(imagem_original, imagem_automato)\n",
    "ssim = structural_similarity(imagem_original, imagem_automato, win_size=3, multichannel=True)\n",
    "\n",
    "\n",
    "print(\"PSNR (Peak Signal-to-Noise Ratio):\", psnr)\n",
    "print(\"MSE (Mean Squared Error):\", mse)\n",
    "print(\"SSIM (Structural Similarity Index):\", ssim)\n",
    "\n",
    "import os\n",
    "\n",
    "\n",
    "# caminho_img_original = \"C:/Users/andre/OneDrive/Imagens/imagem automatos/img_target_rgb_peru_R.png\"\n",
    "# caminho_img_automato = \"C:/Users/andre/OneDrive/Imagens/imagem automatos/img_automato_rgb_peru_R.png\"\n",
    "\n",
    "\n",
    "def tamanho_arquivo(caminho):\n",
    "    # return os.path.getsize(caminho)\n",
    "    #print(os.stat(caminho).st_size)\n",
    "    return os.stat(caminho).st_size\n",
    "\n",
    "\n",
    "\n",
    "#tamanho_original = tamanho_arquivo(caminho_img_original)\n",
    "tamanho_original = tamanho_arquivo(path_original)\n",
    "#tamanho_automato = tamanho_arquivo(caminho_img_automato)\n",
    "tamanho_automato = tamanho_arquivo(path_img_automato)\n",
    "\n",
    "\n",
    "print(\"Tamanho da imagem original:\", tamanho_original, \"bytes\")\n",
    "print(\"Tamanho da imagem gerada pelo autômato:\", tamanho_automato, \"bytes\")\n",
    "\n",
    "def calcular_bits_por_pixel(caminho_imagem, tamanho_arquivo):\n",
    "    imagem = imread(caminho_imagem)\n",
    "    largura, altura, _ = imagem.shape\n",
    "    total_pixels = largura * altura\n",
    "    bits_por_pixel = (tamanho_arquivo * 8) / total_pixels\n",
    "    return bits_por_pixel\n",
    "\n",
    "#bits_por_pixel_original = calcular_bits_por_pixel(caminho_img_original, tamanho_original)\n",
    "bits_por_pixel_original = calcular_bits_por_pixel(path_original, tamanho_original)\n",
    "#bits_por_pixel_automato = calcular_bits_por_pixel(caminho_img_automato, tamanho_automato)\n",
    "bits_por_pixel_automato = calcular_bits_por_pixel(path_img_automato, tamanho_automato)\n",
    "\n",
    "print(\"Bits por Pixel da imagem original:\", bits_por_pixel_original)\n",
    "print(\"Bits por Pixel da imagem gerada pelo autômato:\", bits_por_pixel_automato)\n"
   ]
  },
  {
   "cell_type": "code",
   "execution_count": null,
   "metadata": {
    "id": "kMTF8E85fi9Y"
   },
   "outputs": [],
   "source": []
  }
 ],
 "metadata": {
  "accelerator": "GPU",
  "colab": {
   "gpuType": "T4",
   "provenance": [
    {
     "file_id": "1vqxec-elDk6yOSLu3zISHvUgb2ppauTG",
     "timestamp": 1710445599924
    }
   ]
  },
  "kernelspec": {
   "display_name": "Python [conda env:automato] *",
   "language": "python",
   "name": "conda-env-automato-py"
  },
  "language_info": {
   "codemirror_mode": {
    "name": "ipython",
    "version": 3
   },
   "file_extension": ".py",
   "mimetype": "text/x-python",
   "name": "python",
   "nbconvert_exporter": "python",
   "pygments_lexer": "ipython3",
   "version": "3.9.18"
  }
 },
 "nbformat": 4,
 "nbformat_minor": 4
}
