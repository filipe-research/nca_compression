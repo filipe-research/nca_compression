{
 "cells": [
  {
   "cell_type": "code",
   "execution_count": 1,
   "id": "5daed5ed-5f4a-468a-8894-8b44c6d72e88",
   "metadata": {
    "tags": []
   },
   "outputs": [],
   "source": [
    "import cv2\n",
    "import imageio\n",
    "from PIL import Image"
   ]
  },
  {
   "cell_type": "code",
   "execution_count": 2,
   "id": "e15ebb5b-ad72-4b92-bdcd-50790bd0d8e7",
   "metadata": {
    "tags": []
   },
   "outputs": [
    {
     "name": "stdout",
     "output_type": "stream",
     "text": [
      "/home/pesquisavcl/pesquisa/filipe/automatos/Growing-Neural-Cellular-Automata\n"
     ]
    }
   ],
   "source": [
    "%cd Growing-Neural-Cellular-Automata"
   ]
  },
  {
   "cell_type": "code",
   "execution_count": 34,
   "id": "26292777-4aed-4f88-af83-6cc5c3f2aa15",
   "metadata": {
    "tags": []
   },
   "outputs": [],
   "source": [
    "#path = \"data/aviao.jpg\"\n",
    "path = \"data/caracol_png.png\"\n",
    "size = 40\n",
    "image = Image.open(path)\n",
    "new_image = image.resize((size, size))\n",
    "path_new_image = f'data/caracol{size}.png'\n",
    "new_image.save(path_new_image)"
   ]
  },
  {
   "cell_type": "code",
   "execution_count": 5,
   "id": "4d05f1ab-24f3-4010-a567-2d26cecdd604",
   "metadata": {
    "tags": []
   },
   "outputs": [
    {
     "name": "stdout",
     "output_type": "stream",
     "text": [
      "/bin/bash: /home/pesquisavcl/miniconda3/envs/automato/lib/python3.9/site-packages/cv2/../../../../lib/libtinfo.so.6: no version information available (required by /bin/bash)\n",
      "data\t\t\t\t  lib\t   main_pygame_dl.py  README.md\n",
      "Growing-Neural-Cellular-Automata  LICENSE  models\t      training.ipynb\n"
     ]
    }
   ],
   "source": [
    "!ls"
   ]
  },
  {
   "cell_type": "code",
   "execution_count": 37,
   "id": "9d600d15-3460-4946-b946-60c3517096e6",
   "metadata": {},
   "outputs": [
    {
     "name": "stdout",
     "output_type": "stream",
     "text": [
      "26369\n",
      "2553\n"
     ]
    }
   ],
   "source": [
    "import os\n",
    "# print(os.stat(\"data/automato.png\").st_size)\n",
    "# print(os.stat(\"data/target.png\").st_size)\n",
    "# print(os.stat(\"data/caracol_png.png\").st_size)\n",
    "\n",
    "print(os.stat(path).st_size)\n",
    "print(os.stat(path_new_image).st_size)\n",
    "# print(os.stat(\"data/caracol_png.png\").st_size)"
   ]
  },
  {
   "cell_type": "code",
   "execution_count": 40,
   "id": "fb4d1b83-b5b3-4436-8b9a-d1ae491bf5f2",
   "metadata": {
    "tags": []
   },
   "outputs": [
    {
     "name": "stderr",
     "output_type": "stream",
     "text": [
      "/tmp/ipykernel_8546/2198893160.py:3: DeprecationWarning: Starting with ImageIO v3 the behavior of this function will switch to that of iio.v3.imread. To keep the current behavior (and make this warning disappear) use `import imageio.v2 as imageio` or call `imageio.v2.imread` directly.\n",
      "  im = imageio.imread(path, pilmode='RGBA')  #FILIPE\n"
     ]
    }
   ],
   "source": [
    "import imageio\n",
    "import numpy as np\n",
    "im = imageio.imread(path, pilmode='RGBA')  #FILIPE\n",
    "\n",
    "emoji = np.array(im.astype(np.float32))\n",
    "# emoji = im\n",
    "    \n",
    "emoji = cv2.resize(emoji, (size, size))\n",
    "temp_ = emoji.astype(np.uint8)\n",
    "\n",
    "im2 = Image.fromarray(temp_)\n",
    "# emoji /= 255.0\n",
    "\n",
    "im2.save(f'data/caracol{size}_v2.png', \"PNG\")"
   ]
  },
  {
   "cell_type": "code",
   "execution_count": 31,
   "id": "4005a7cb-8806-4109-b1ef-ae4f6512768b",
   "metadata": {
    "tags": []
   },
   "outputs": [
    {
     "data": {
      "text/plain": [
       "dtype('uint8')"
      ]
     },
     "execution_count": 31,
     "metadata": {},
     "output_type": "execute_result"
    }
   ],
   "source": [
    "temp_.dtype"
   ]
  },
  {
   "cell_type": "code",
   "execution_count": 52,
   "id": "a97dbabc-7e62-4a63-a878-c87c97b4fb4a",
   "metadata": {
    "tags": []
   },
   "outputs": [
    {
     "data": {
      "text/plain": [
       "True"
      ]
     },
     "execution_count": 52,
     "metadata": {},
     "output_type": "execute_result"
    }
   ],
   "source": [
    "import imageio\n",
    "import numpy as np\n",
    "# im = imageio.imread(path, pilmode='RGBA')  #FILIPE\n",
    "#emoji = imageio.imread(path, pilmode='RGBA')\n",
    "#emoji = np.array(im.astype(np.float32))\n",
    "emoji=cv2.imread(path,cv2.IMREAD_UNCHANGED)\n",
    "# emoji = im\n",
    "    \n",
    "emoji = cv2.resize(emoji, (size, size))\n",
    "# temp_ = emoji.astype(np.uint8)\n",
    "\n",
    "# im2 = Image.fromarray(temp_)\n",
    "# emoji /= 255.0\n",
    "\n",
    "# im2.save(f'data/caracol{size}_v3.png', \"PNG\")\n",
    "#cv2.imwrite(f'data/caracol{size}_v3.png',temp_)\n",
    "cv2.imwrite(f'data/caracol{size}_v3.png',emoji)\n",
    "#cv2.imwrite(f'data/caracol{size}_v3.png',cv2.cvtColor(emoji,cv2.COLOR_RBGA2BGRA))"
   ]
  },
  {
   "cell_type": "code",
   "execution_count": 53,
   "id": "30342f82-f5a6-4b43-a123-e19cf82b1ccb",
   "metadata": {
    "tags": []
   },
   "outputs": [
    {
     "data": {
      "text/plain": [
       "dtype('uint8')"
      ]
     },
     "execution_count": 53,
     "metadata": {},
     "output_type": "execute_result"
    }
   ],
   "source": [
    "emoji.dtype"
   ]
  },
  {
   "cell_type": "code",
   "execution_count": 63,
   "id": "9c07748d-95ab-406b-a638-28324440dc97",
   "metadata": {
    "tags": []
   },
   "outputs": [
    {
     "name": "stderr",
     "output_type": "stream",
     "text": [
      "/tmp/ipykernel_8546/3558790175.py:5: DeprecationWarning: Starting with ImageIO v3 the behavior of this function will switch to that of iio.v3.imread. To keep the current behavior (and make this warning disappear) use `import imageio.v2 as imageio` or call `imageio.v2.imread` directly.\n",
      "  image = imageio.imread(path)\n"
     ]
    }
   ],
   "source": [
    "#path = \"data/aviao.jpg\"\n",
    "path = \"data/caracol_png.png\"\n",
    "size = 60\n",
    "# image = Image.open(path)\n",
    "image = imageio.imread(path)\n",
    "#new_image = image.resize((size, size))\n",
    "new_image = cv2.resize(image, (size, size))\n",
    "# new_image = imageio.resize((size, size))\n",
    "\n",
    "# new_image.save(path_new_image)\n",
    "#imageio.imwrite(new_image,f'data/caracol{size}_v4.png',' png' )\n",
    "imageio.imwrite(f'data/caracol{size}_v4.png', new_image)"
   ]
  },
  {
   "cell_type": "code",
   "execution_count": 5,
   "id": "83e855f8-c9f3-49ba-a2ae-01e413a5fa72",
   "metadata": {},
   "outputs": [
    {
     "name": "stderr",
     "output_type": "stream",
     "text": [
      "/tmp/ipykernel_172037/2469857419.py:5: DeprecationWarning: Starting with ImageIO v3 the behavior of this function will switch to that of iio.v3.imread. To keep the current behavior (and make this warning disappear) use `import imageio.v2 as imageio` or call `imageio.v2.imread` directly.\n",
      "  image = imageio.imread(path)\n"
     ]
    }
   ],
   "source": [
    "\n",
    "path = \"data/aviao.jpg\"\n",
    "# path = \"data/caracol_png.png\"\n",
    "size = 40\n",
    "# image = Image.open(path)\n",
    "image = imageio.imread(path)\n",
    "#new_image = image.resize((size, size))\n",
    "new_image = cv2.resize(image, (size, size))\n",
    "# new_image = imageio.resize((size, size))\n",
    "\n",
    "# new_image.save(path_new_image)\n",
    "#imageio.imwrite(new_image,f'data/caracol{size}_v4.png',' png' )\n",
    "imageio.imwrite(f'data/aviao{size}_v4.png', new_image)"
   ]
  },
  {
   "cell_type": "code",
   "execution_count": 3,
   "id": "e53ab192-2f21-4945-933e-d1a866cd9e52",
   "metadata": {
    "tags": []
   },
   "outputs": [
    {
     "name": "stderr",
     "output_type": "stream",
     "text": [
      "/tmp/ipykernel_698696/4116306000.py:9: DeprecationWarning: Starting with ImageIO v3 the behavior of this function will switch to that of iio.v3.imread. To keep the current behavior (and make this warning disappear) use `import imageio.v2 as imageio` or call `imageio.v2.imread` directly.\n",
      "  image = imageio.imread(path)\n"
     ]
    }
   ],
   "source": [
    "\n",
    "#path = \"data/mesa.jpg\"\n",
    "#path = \"data/trem.jpg\"\n",
    "\n",
    "# path = \"data/trem.jpg\"\n",
    "path = \"data/urso.jpg\"\n",
    "# path = \"data/caracol_png.png\"\n",
    "size = 400\n",
    "# image = Image.open(path)\n",
    "image = imageio.imread(path)\n",
    "#new_image = image.resize((size, size))\n",
    "new_image = cv2.resize(image, (size, size))\n",
    "# new_image = imageio.resize((size, size))\n",
    "\n",
    "# new_image.save(path_new_image)\n",
    "#imageio.imwrite(new_image,f'data/caracol{size}_v4.png',' png' )\n",
    "#imageio.imwrite(f'data/mesa{size}_v4.png', new_image)\n",
    "imageio.imwrite(f'data/urso{size}.png', new_image)"
   ]
  },
  {
   "cell_type": "code",
   "execution_count": 5,
   "id": "c79df5ab-4a84-42aa-be5b-99b68d05c6fa",
   "metadata": {},
   "outputs": [],
   "source": [
    "from PIL import Image\n",
    "\n",
    "size = 400\n",
    "# im = Image.open(\"data/trem.jpg\")\n",
    "im = Image.open(\"data/urso.jpg\").resize((size,size))\n",
    "rgb_im = im.convert('RGB')\n",
    "rgb_im.save(f'data/urso_{size}.jpg', quality=95)"
   ]
  },
  {
   "cell_type": "code",
   "execution_count": null,
   "id": "c5471358",
   "metadata": {},
   "outputs": [],
   "source": []
  }
 ],
 "metadata": {
  "kernelspec": {
   "display_name": "automato",
   "language": "python",
   "name": "automato"
  },
  "language_info": {
   "codemirror_mode": {
    "name": "ipython",
    "version": 3
   },
   "file_extension": ".py",
   "mimetype": "text/x-python",
   "name": "python",
   "nbconvert_exporter": "python",
   "pygments_lexer": "ipython3",
   "version": "3.9.18"
  }
 },
 "nbformat": 4,
 "nbformat_minor": 5
}
