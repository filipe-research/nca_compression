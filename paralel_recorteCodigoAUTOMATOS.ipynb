{
 "cells": [
  {
   "cell_type": "code",
   "execution_count": 1,
   "metadata": {
    "colab": {
     "base_uri": "https://localhost:8080/"
    },
    "executionInfo": {
     "elapsed": 1890,
     "status": "ok",
     "timestamp": 1710864975645,
     "user": {
      "displayName": "FILIPE CORDEIRO",
      "userId": "06393699062473933828"
     },
     "user_tz": 180
    },
    "id": "g_K6j13HfVLO",
    "outputId": "ad882db7-b9df-4dca-b1ae-624e7b694a9c",
    "tags": []
   },
   "outputs": [
    {
     "name": "stdout",
     "output_type": "stream",
     "text": [
      "fatal: destination path 'Growing-Neural-Cellular-Automata' already exists and is not an empty directory.\n"
     ]
    }
   ],
   "source": [
    "!git clone https://github.com/chenmingxiang110/Growing-Neural-Cellular-Automata.git\n",
    "\n"
   ]
  },
  {
   "cell_type": "code",
   "execution_count": 1,
   "metadata": {
    "tags": []
   },
   "outputs": [
    {
     "name": "stdout",
     "output_type": "stream",
     "text": [
      "/home/pesquisavcl/pesquisa/filipe/automatos/Growing-Neural-Cellular-Automata\n"
     ]
    }
   ],
   "source": [
    "%cd Growing-Neural-Cellular-Automata"
   ]
  },
  {
   "cell_type": "code",
   "execution_count": 2,
   "metadata": {
    "colab": {
     "base_uri": "https://localhost:8080/"
    },
    "executionInfo": {
     "elapsed": 6349,
     "status": "ok",
     "timestamp": 1710853282462,
     "user": {
      "displayName": "FILIPE CORDEIRO",
      "userId": "06393699062473933828"
     },
     "user_tz": 180
    },
    "id": "V2l4tEhsfWBq",
    "outputId": "2515503e-f00d-4ab3-98ac-1627b9238628",
    "tags": []
   },
   "outputs": [
    {
     "name": "stdout",
     "output_type": "stream",
     "text": [
      "12.1\n"
     ]
    }
   ],
   "source": [
    "\n",
    "%matplotlib inline\n",
    "import time\n",
    "import imageio\n",
    "import cv2\n",
    "import numpy as np\n",
    "import matplotlib.pyplot as plt\n",
    "import torch\n",
    "import torch.nn as nn\n",
    "import torch.optim as optim\n",
    "import torch.nn.functional as F\n",
    "\n",
    "from IPython.display import clear_output\n",
    "\n",
    "from lib.CAModel import CAModel, LCAModel\n",
    "from lib.utils_vis import SamplePool, to_alpha, to_rgb, get_living_mask, make_seed,make_custom_seed, make_circle_masks\n",
    "import torch\n",
    "\n",
    "print(torch.version.cuda)"
   ]
  },
  {
   "cell_type": "code",
   "execution_count": 3,
   "metadata": {
    "executionInfo": {
     "elapsed": 436,
     "status": "ok",
     "timestamp": 1710854551966,
     "user": {
      "displayName": "FILIPE CORDEIRO",
      "userId": "06393699062473933828"
     },
     "user_tz": 180
    },
    "id": "YnuxU3XPfXID",
    "tags": []
   },
   "outputs": [],
   "source": [
    "def load_emoji(index, path=\"C:/Users/andre/OneDrive/Imagens/gato_png.png\", target_size=40):\n",
    "    #im = imageio.imread(path)\n",
    "    im = imageio.imread(path, pilmode='RGBA')  #FILIPE\n",
    "    \n",
    "    #emoji = np.array(im[:, index*40:(index+1)*40].astype(np.float32))\n",
    "    emoji = np.array(im.astype(np.float32))\n",
    "    #emoji = cv2.resize(emoji, (40, 40))\n",
    "    emoji = cv2.resize(emoji, (target_size, target_size))\n",
    "    emoji /= 255.0\n",
    "    return emoji\n",
    "\n",
    "def load_recorte_emoji(index, path=\"C:/Users/andre/OneDrive/Imagens/gato_png.png\", target_size=40):\n",
    "    #im = imageio.imread(path)\n",
    "    im = imageio.imread(path, pilmode='RGBA')  #FILIPE\n",
    "    \n",
    "    #emoji = np.array(im[:, index*40:(index+1)*40].astype(np.float32))\n",
    "    emoji = np.array(im.astype(np.float32))\n",
    "    #emoji = cv2.resize(emoji, (40, 40))\n",
    "    #emoji = cv2.resize(emoji, (target_size, target_size))\n",
    "    #emoji = emoji[:target_size][:target_size]\n",
    "    emoji = emoji[0:target_size,:target_size]\n",
    "    emoji /= 255.0\n",
    "    return emoji\n",
    "\n",
    "def load_recorte_target(index, path=\"C:/Users/andre/OneDrive/Imagens/gato_png.png\", target_size=40, target_number=0, linhas_target=1, col_target=1):\n",
    "    #im = imageio.imread(path)\n",
    "    im = imageio.imread(path, pilmode='RGBA')  #FILIPE\n",
    "    \n",
    "    #emoji = np.array(im[:, index*40:(index+1)*40].astype(np.float32))\n",
    "    emoji = np.array(im.astype(np.float32))\n",
    "    #emoji = cv2.resize(emoji, (40, 40))\n",
    "    #emoji = cv2.resize(emoji, (target_size, target_size))\n",
    "    #emoji = emoji[:target_size][:target_size]\n",
    "    \n",
    "    \n",
    "    \n",
    "    #emoji = emoji[target_size*target_number:target_size*target_number+target_size,target_size*target_number:target_size*target_number+target_size]\n",
    "    start_line = (target_number//linhas_target)*target_size\n",
    "    end_line = start_line + target_size\n",
    "    \n",
    "    start_col = (target_number%col_target)*target_size\n",
    "    end_col = start_col + target_size\n",
    "    print(start_line, end_line, start_col, end_line)\n",
    "    #emoji = emoji[target_size*target_number:target_size*target_number+target_size,target_size*target_number:target_size*target_number+target_size]\n",
    "    emoji = emoji[start_line:end_line, start_col:end_col]\n",
    "    emoji /= 255.0\n",
    "    return emoji\n",
    "\n",
    "def visualize_batch(x0, x):\n",
    "    vis0 = to_rgb(x0)\n",
    "    vis1 = to_rgb(x)\n",
    "    print('batch (before/after):')\n",
    "    plt.figure(figsize=[15,5])\n",
    "    for i in range(x0.shape[0]):\n",
    "        plt.subplot(2,x0.shape[0],i+1)\n",
    "        plt.imshow(vis0[i])\n",
    "        plt.axis('off')\n",
    "    for i in range(x0.shape[0]):\n",
    "        plt.subplot(2,x0.shape[0],i+1+x0.shape[0])\n",
    "        plt.imshow(vis1[i])\n",
    "        plt.axis('off')\n",
    "    plt.show()\n",
    "\n",
    "def plot_loss(loss_log):\n",
    "    plt.figure(figsize=(10, 4))\n",
    "    plt.title('Loss history (log10)')\n",
    "    plt.plot(np.log10(loss_log), '.', alpha=0.1)\n",
    "    plt.show()"
   ]
  },
  {
   "cell_type": "code",
   "execution_count": 12,
   "metadata": {
    "executionInfo": {
     "elapsed": 474,
     "status": "ok",
     "timestamp": 1710856046981,
     "user": {
      "displayName": "FILIPE CORDEIRO",
      "userId": "06393699062473933828"
     },
     "user_tz": 180
    },
    "id": "3yaEc_BofXO2",
    "tags": []
   },
   "outputs": [],
   "source": [
    "device = torch.device(\"cuda:0\")\n",
    "model_path = \"models/remaster_3.pth\"\n",
    "\n",
    "CHANNEL_N = 16   # Number of CA state channels\n",
    "# CHANNEL_N = 32        # Number of CA state channels\n",
    "#TARGET_PADDING = 16   # Number of pixels used to pad the target image border\n",
    "TARGET_PADDING = 8   # Number of pixels used to pad the target image border\n",
    "#TARGET_PADDING = 1   # Number of pixels used to pad the target image border\n",
    "TARGET_SIZE = 4\n",
    "\n",
    "Ntargets = 16\n",
    "lin_targets =4\n",
    "col_targets = 4\n",
    "\n",
    "lr = 2e-3\n",
    "lr_gamma = 0.9999\n",
    "betas = (0.5, 0.5)\n",
    "#n_epoch = 80000\n",
    "#n_epoch = 5000\n",
    "n_epoch = 30000\n",
    "\n",
    "BATCH_SIZE = 8\n",
    "POOL_SIZE = 1024\n",
    "#CELL_FIRE_RATE = 0.5 #testar com 1.0\n",
    "CELL_FIRE_RATE = 0.2 #testar com 1.0\n",
    "\n",
    "TARGET_EMOJI = 5 #@param \"🦎\"\n",
    "\n",
    "EXPERIMENT_TYPE = \"Growing\"\n",
    "# EXPERIMENT_TYPE = \"Regenerating\" #testar os tres pra ver o resultado melhor\n",
    "EXPERIMENT_MAP = {\"Growing\":0, \"Persistent\":1, \"Regenerating\":2}\n",
    "EXPERIMENT_N = EXPERIMENT_MAP[EXPERIMENT_TYPE]\n",
    "\n",
    "USE_PATTERN_POOL = [0, 1, 1][EXPERIMENT_N]\n",
    "DAMAGE_N = [0, 0, 3][EXPERIMENT_N]  # Number of patterns to damage in a batch"
   ]
  },
  {
   "cell_type": "code",
   "execution_count": 13,
   "metadata": {
    "colab": {
     "base_uri": "https://localhost:8080/",
     "height": 428
    },
    "executionInfo": {
     "elapsed": 623,
     "status": "ok",
     "timestamp": 1710856050575,
     "user": {
      "displayName": "FILIPE CORDEIRO",
      "userId": "06393699062473933828"
     },
     "user_tz": 180
    },
    "id": "4Wbv8rkHfXUu",
    "outputId": "d06a2ec2-a035-43bd-af48-e7dfb0b42000",
    "tags": []
   },
   "outputs": [
    {
     "name": "stderr",
     "output_type": "stream",
     "text": [
      "/tmp/ipykernel_8187/732272190.py:27: DeprecationWarning: Starting with ImageIO v3 the behavior of this function will switch to that of iio.v3.imread. To keep the current behavior (and make this warning disappear) use `import imageio.v2 as imageio` or call `imageio.v2.imread` directly.\n",
      "  im = imageio.imread(path, pilmode='RGBA')  #FILIPE\n"
     ]
    },
    {
     "name": "stdout",
     "output_type": "stream",
     "text": [
      "0 4 0 4\n",
      "0 4 4 4\n",
      "0 4 8 4\n",
      "0 4 12 4\n",
      "4 8 0 8\n",
      "4 8 4 8\n",
      "4 8 8 8\n",
      "4 8 12 8\n",
      "8 12 0 12\n",
      "8 12 4 12\n",
      "8 12 8 12\n",
      "8 12 12 12\n",
      "12 16 0 16\n",
      "12 16 4 16\n",
      "12 16 8 16\n",
      "12 16 12 16\n"
     ]
    },
    {
     "data": {
      "image/png": "[encoded data removed]",
      "text/plain": [
       "<Figure size 640x480 with 16 Axes>"
      ]
     },
     "metadata": {},
     "output_type": "display_data"
    }
   ],
   "source": [
    "#target_img = load_emoji(TARGET_EMOJI, path=\"C:/Users/andre/OneDrive/Imagens/gato_png.png\")\n",
    "#nome_imagem = \"caracol_png.png\"\n",
    "nome_imagem = \"aviao40.jpg\"\n",
    "#target_img = load_emoji(TARGET_EMOJI, path=\"data/caracol_png.png\", target_size=TARGET_SIZE)\n",
    "#target_img = load_emoji(TARGET_EMOJI, path=f\"data/{nome_imagem}\", target_size=TARGET_SIZE)\n",
    "\n",
    "#Ntargets = 2\n",
    "targets_img = []\n",
    "\n",
    "fig, axs = plt.subplots(lin_targets, col_targets)\n",
    "\n",
    "# gs = fig.add_gridspec(3, hspace=0)\n",
    "#gs = fig.add_gridspec(2, 2, hspace=0, wspace=0)\n",
    "# axs = gs.subplots(sharex='col', sharey='row')\n",
    "\n",
    "# for ax in fig.get_axes():\n",
    "#     ax.label_outer()\n",
    "\n",
    "for i in range(Ntargets):\n",
    "    target_img = load_recorte_target(TARGET_EMOJI, path=f\"data/{nome_imagem}\", target_size=TARGET_SIZE, target_number=i,linhas_target=lin_targets, col_target=col_targets)\n",
    "    targets_img.append(target_img)\n",
    "\n",
    "    #target_img = load_recorte_emoji(TARGET_EMOJI, path=f\"data/{nome_imagem}\", target_size=TARGET_SIZE)\n",
    "    # plt.figure(figsize=(4,4))\n",
    "    # print(targets_img[i].shape)\n",
    "    # plt.imshow(to_rgb(targets_img[i]))\n",
    "    # plt.show()\n",
    "    # print(i//lin_targets, i%col_targets)\n",
    "    if Ntargets>1:\n",
    "        axs[i//lin_targets, i%col_targets].imshow(to_rgb(targets_img[i]))\n",
    "    else:\n",
    "        plt.imshow(to_rgb(targets_img[i]))\n",
    "    # axs[i//lin_targets, i%col_targets].plot(to_rgb(targets_img[i]))\n",
    "    \n",
    "    \n",
    "\n"
   ]
  },
  {
   "cell_type": "code",
   "execution_count": 14,
   "metadata": {
    "executionInfo": {
     "elapsed": 1270,
     "status": "ok",
     "timestamp": 1710856056344,
     "user": {
      "displayName": "FILIPE CORDEIRO",
      "userId": "06393699062473933828"
     },
     "user_tz": 180
    },
    "id": "FPXby5RVfXXg",
    "tags": []
   },
   "outputs": [],
   "source": [
    "_25425p = TARGET_PADDING\n",
    "\n",
    "pad_targets = []\n",
    "seeds = []\n",
    "pools = []\n",
    "batchs = []\n",
    "for i in range(Ntargets):\n",
    "    #pad_target = np.pad(target_img, [(_25425p, _25425p), (_25425p, _25425p), (0, 0)])\n",
    "    pad_target = np.pad(targets_img[i], [(_25425p, _25425p), (_25425p, _25425p), (0, 0)])\n",
    "    h, w = pad_target.shape[:2]\n",
    "    pad_target = np.expand_dims(pad_target, axis=0)\n",
    "    pad_target = torch.from_numpy(pad_target.astype(np.float32)).to(device)\n",
    "    pad_targets.append(pad_target)\n",
    "\n",
    "\n",
    "    #seed = make_seed((h, w), CHANNEL_N)\n",
    "    seed = make_custom_seed((h, w), CHANNEL_N, value=i*1+1)\n",
    "    pool = SamplePool(x=np.repeat(seed[None, ...], POOL_SIZE, 0))\n",
    "    batch = pool.sample(BATCH_SIZE).x\n",
    "    \n",
    "    seeds.append(seed)\n",
    "    pools.append(pool)\n",
    "    batchs.append(batch)\n",
    "\n",
    "#ca = CAModel(CHANNEL_N, CELL_FIRE_RATE, device).to(device)\n",
    "ca = CAModel(CHANNEL_N, CELL_FIRE_RATE, device,hidden_size=128).to(device)\n",
    "#ca = LCAModel(CHANNEL_N, CELL_FIRE_RATE, device,hidden_size=8).to(device)\n",
    "#ca.load_state_dict(torch.load(model_path))\n",
    "\n",
    "\n",
    "\n",
    "\n",
    "optimizer = optim.Adam(ca.parameters(), lr=lr, betas=betas)\n",
    "scheduler = optim.lr_scheduler.ExponentialLR(optimizer, lr_gamma)\n",
    "\n",
    "\n",
    "#filipe\n",
    "# create a quantized model instance\n",
    "ca2 = torch.ao.quantization.quantize_dynamic(\n",
    "    ca,  # the original model\n",
    "    {torch.nn.Linear},  # a set of layers to dynamically quantize\n",
    "    dtype=torch.qint8)\n",
    "\n",
    "# print(ca2.parameters())"
   ]
  },
  {
   "cell_type": "code",
   "execution_count": 15,
   "metadata": {
    "colab": {
     "base_uri": "https://localhost:8080/"
    },
    "executionInfo": {
     "elapsed": 474,
     "status": "ok",
     "timestamp": 1710856061502,
     "user": {
      "displayName": "FILIPE CORDEIRO",
      "userId": "06393699062473933828"
     },
     "user_tz": 180
    },
    "id": "xO6jwP3Nkxag",
    "outputId": "6be8d7e5-2065-4141-d7dd-d1ca3749d83e",
    "tags": []
   },
   "outputs": [
    {
     "name": "stdout",
     "output_type": "stream",
     "text": [
      "33280 0 33280\n",
      "model size: 0.032MB\n",
      "model size: 32.500KB\n"
     ]
    }
   ],
   "source": [
    "model = ca\n",
    "param_size = 0\n",
    "for param in model.parameters():\n",
    "    param_size += param.nelement() * param.element_size()\n",
    "buffer_size = 0\n",
    "for buffer in model.buffers():\n",
    "    buffer_size += buffer.nelement() * buffer.element_size()\n",
    "\n",
    "print(param_size, buffer_size,param_size + buffer_size)\n",
    "size_all_mb = (param_size + buffer_size) / 1024**2\n",
    "size_all_kb = (param_size + buffer_size) / 1024**1\n",
    "print('model size: {:.3f}MB'.format(size_all_mb))\n",
    "print('model size: {:.3f}KB'.format(size_all_kb))\n",
    "# > model size: 44.629MB"
   ]
  },
  {
   "cell_type": "code",
   "execution_count": 16,
   "metadata": {
    "colab": {
     "base_uri": "https://localhost:8080/",
     "height": 211
    },
    "executionInfo": {
     "elapsed": 516,
     "status": "error",
     "timestamp": 1710853359774,
     "user": {
      "displayName": "FILIPE CORDEIRO",
      "userId": "06393699062473933828"
     },
     "user_tz": 180
    },
    "id": "ZmuRA9YYl8fO",
    "outputId": "06216343-e0a3-487d-db1e-2ddadec830c1",
    "tags": []
   },
   "outputs": [
    {
     "name": "stdout",
     "output_type": "stream",
     "text": [
      "model:  fp32  \t Size (KB): 34.879\n",
      "model:  int8  \t Size (KB): 11.683\n",
      "2.99 times smaller\n"
     ]
    }
   ],
   "source": [
    "import os\n",
    "\n",
    "def print_size_of_model(model, label=\"\"):\n",
    "    torch.save(model.state_dict(), \"temp.p\")\n",
    "    size=os.path.getsize(\"temp.p\")\n",
    "    print(\"model: \",label,' \\t','Size (KB):', size/1e3)\n",
    "    os.remove('temp.p')\n",
    "    return size\n",
    "\n",
    "# compare the sizes\n",
    "f=print_size_of_model(ca,\"fp32\")\n",
    "q=print_size_of_model(ca2,\"int8\")\n",
    "print(\"{0:.2f} times smaller\".format(f/q))"
   ]
  },
  {
   "cell_type": "code",
   "execution_count": 17,
   "metadata": {
    "tags": []
   },
   "outputs": [
    {
     "data": {
      "text/plain": [
       "torch.Size([1, 20, 20, 4])"
      ]
     },
     "execution_count": 17,
     "metadata": {},
     "output_type": "execute_result"
    }
   ],
   "source": [
    "pad_target.shape"
   ]
  },
  {
   "cell_type": "code",
   "execution_count": 18,
   "metadata": {
    "tags": []
   },
   "outputs": [
    {
     "data": {
      "text/plain": [
       "16"
      ]
     },
     "execution_count": 18,
     "metadata": {},
     "output_type": "execute_result"
    }
   ],
   "source": [
    "len(seeds)"
   ]
  },
  {
   "cell_type": "code",
   "execution_count": 19,
   "metadata": {
    "colab": {
     "base_uri": "https://localhost:8080/",
     "height": 1000
    },
    "executionInfo": {
     "elapsed": 4250,
     "status": "error",
     "timestamp": 1710856071188,
     "user": {
      "displayName": "FILIPE CORDEIRO",
      "userId": "06393699062473933828"
     },
     "user_tz": 180
    },
    "id": "3w-iZCVVfXZ3",
    "outputId": "75fcc0db-501f-4d5c-88a3-686d40edb632",
    "tags": []
   },
   "outputs": [
    {
     "name": "stdout",
     "output_type": "stream",
     "text": [
      "222 loss = 0.002666332758963108\n",
      "batch (before/after):\n"
     ]
    },
    {
     "data": {
      "image/png": "[encoded data removed]",
      "text/plain": [
       "<Figure size 1500x500 with 16 Axes>"
      ]
     },
     "metadata": {},
     "output_type": "display_data"
    },
    {
     "data": {
      "image/png": "[encoded data removed]",
      "text/plain": [
       "<Figure size 1000x400 with 1 Axes>"
      ]
     },
     "metadata": {},
     "output_type": "display_data"
    },
    {
     "ename": "KeyboardInterrupt",
     "evalue": "",
     "output_type": "error",
     "traceback": [
      "\u001b[0;31m---------------------------------------------------------------------------\u001b[0m",
      "\u001b[0;31mKeyboardInterrupt\u001b[0m                         Traceback (most recent call last)",
      "Cell \u001b[0;32mIn[19], line 45\u001b[0m\n\u001b[1;32m     42\u001b[0m x0 \u001b[38;5;241m=\u001b[39m torch\u001b[38;5;241m.\u001b[39mfrom_numpy(x0\u001b[38;5;241m.\u001b[39mastype(np\u001b[38;5;241m.\u001b[39mfloat32))\u001b[38;5;241m.\u001b[39mto(device)\n\u001b[1;32m     43\u001b[0m \u001b[38;5;66;03m#import pdb; pdb.set_trace()\u001b[39;00m\n\u001b[1;32m     44\u001b[0m \u001b[38;5;66;03m#x, loss = train(x0, pad_target, np.random.randint(64,96), optimizer, scheduler)\u001b[39;00m\n\u001b[0;32m---> 45\u001b[0m x, loss \u001b[38;5;241m=\u001b[39m \u001b[43mtrain\u001b[49m\u001b[43m(\u001b[49m\u001b[43mx0\u001b[49m\u001b[43m,\u001b[49m\u001b[43m \u001b[49m\u001b[43mpad_targets\u001b[49m\u001b[43m[\u001b[49m\u001b[43mrecorte_id\u001b[49m\u001b[43m]\u001b[49m\u001b[43m,\u001b[49m\u001b[43m \u001b[49m\u001b[43mnp\u001b[49m\u001b[38;5;241;43m.\u001b[39;49m\u001b[43mrandom\u001b[49m\u001b[38;5;241;43m.\u001b[39;49m\u001b[43mrandint\u001b[49m\u001b[43m(\u001b[49m\u001b[38;5;241;43m64\u001b[39;49m\u001b[43m,\u001b[49m\u001b[38;5;241;43m96\u001b[39;49m\u001b[43m)\u001b[49m\u001b[43m,\u001b[49m\u001b[43m \u001b[49m\u001b[43moptimizer\u001b[49m\u001b[43m,\u001b[49m\u001b[43m \u001b[49m\u001b[43mscheduler\u001b[49m\u001b[43m)\u001b[49m\n\u001b[1;32m     47\u001b[0m \u001b[38;5;28;01mif\u001b[39;00m USE_PATTERN_POOL:\n\u001b[1;32m     48\u001b[0m     \u001b[38;5;66;03m#batch.x[:] = x.detach().cpu().numpy()\u001b[39;00m\n\u001b[1;32m     49\u001b[0m     batchs[recorte_id]\u001b[38;5;241m.\u001b[39mx[:] \u001b[38;5;241m=\u001b[39m x\u001b[38;5;241m.\u001b[39mdetach()\u001b[38;5;241m.\u001b[39mcpu()\u001b[38;5;241m.\u001b[39mnumpy()\n",
      "Cell \u001b[0;32mIn[19], line 4\u001b[0m, in \u001b[0;36mtrain\u001b[0;34m(x, target, steps, optimizer, scheduler)\u001b[0m\n\u001b[1;32m      3\u001b[0m \u001b[38;5;28;01mdef\u001b[39;00m \u001b[38;5;21mtrain\u001b[39m(x, target, steps, optimizer, scheduler):\n\u001b[0;32m----> 4\u001b[0m     x \u001b[38;5;241m=\u001b[39m \u001b[43mca\u001b[49m\u001b[43m(\u001b[49m\u001b[43mx\u001b[49m\u001b[43m,\u001b[49m\u001b[43m \u001b[49m\u001b[43msteps\u001b[49m\u001b[38;5;241;43m=\u001b[39;49m\u001b[43msteps\u001b[49m\u001b[43m)\u001b[49m\n\u001b[1;32m      5\u001b[0m     \u001b[38;5;66;03m#import pdb;pdb.set_trace()\u001b[39;00m\n\u001b[1;32m      6\u001b[0m     \u001b[38;5;28;01mif\u001b[39;00m target\u001b[38;5;241m.\u001b[39mshape[\u001b[38;5;241m-\u001b[39m\u001b[38;5;241m1\u001b[39m]\u001b[38;5;241m>\u001b[39m\u001b[38;5;241m3\u001b[39m:\n\u001b[1;32m      7\u001b[0m         \u001b[38;5;66;03m#import pdb; pdb.set_trace()\u001b[39;00m\n",
      "File \u001b[0;32m~/miniconda3/envs/automato/lib/python3.9/site-packages/torch/nn/modules/module.py:1511\u001b[0m, in \u001b[0;36mModule._wrapped_call_impl\u001b[0;34m(self, *args, **kwargs)\u001b[0m\n\u001b[1;32m   1509\u001b[0m     \u001b[38;5;28;01mreturn\u001b[39;00m \u001b[38;5;28mself\u001b[39m\u001b[38;5;241m.\u001b[39m_compiled_call_impl(\u001b[38;5;241m*\u001b[39margs, \u001b[38;5;241m*\u001b[39m\u001b[38;5;241m*\u001b[39mkwargs)  \u001b[38;5;66;03m# type: ignore[misc]\u001b[39;00m\n\u001b[1;32m   1510\u001b[0m \u001b[38;5;28;01melse\u001b[39;00m:\n\u001b[0;32m-> 1511\u001b[0m     \u001b[38;5;28;01mreturn\u001b[39;00m \u001b[38;5;28;43mself\u001b[39;49m\u001b[38;5;241;43m.\u001b[39;49m\u001b[43m_call_impl\u001b[49m\u001b[43m(\u001b[49m\u001b[38;5;241;43m*\u001b[39;49m\u001b[43margs\u001b[49m\u001b[43m,\u001b[49m\u001b[43m \u001b[49m\u001b[38;5;241;43m*\u001b[39;49m\u001b[38;5;241;43m*\u001b[39;49m\u001b[43mkwargs\u001b[49m\u001b[43m)\u001b[49m\n",
      "File \u001b[0;32m~/miniconda3/envs/automato/lib/python3.9/site-packages/torch/nn/modules/module.py:1520\u001b[0m, in \u001b[0;36mModule._call_impl\u001b[0;34m(self, *args, **kwargs)\u001b[0m\n\u001b[1;32m   1515\u001b[0m \u001b[38;5;66;03m# If we don't have any hooks, we want to skip the rest of the logic in\u001b[39;00m\n\u001b[1;32m   1516\u001b[0m \u001b[38;5;66;03m# this function, and just call forward.\u001b[39;00m\n\u001b[1;32m   1517\u001b[0m \u001b[38;5;28;01mif\u001b[39;00m \u001b[38;5;129;01mnot\u001b[39;00m (\u001b[38;5;28mself\u001b[39m\u001b[38;5;241m.\u001b[39m_backward_hooks \u001b[38;5;129;01mor\u001b[39;00m \u001b[38;5;28mself\u001b[39m\u001b[38;5;241m.\u001b[39m_backward_pre_hooks \u001b[38;5;129;01mor\u001b[39;00m \u001b[38;5;28mself\u001b[39m\u001b[38;5;241m.\u001b[39m_forward_hooks \u001b[38;5;129;01mor\u001b[39;00m \u001b[38;5;28mself\u001b[39m\u001b[38;5;241m.\u001b[39m_forward_pre_hooks\n\u001b[1;32m   1518\u001b[0m         \u001b[38;5;129;01mor\u001b[39;00m _global_backward_pre_hooks \u001b[38;5;129;01mor\u001b[39;00m _global_backward_hooks\n\u001b[1;32m   1519\u001b[0m         \u001b[38;5;129;01mor\u001b[39;00m _global_forward_hooks \u001b[38;5;129;01mor\u001b[39;00m _global_forward_pre_hooks):\n\u001b[0;32m-> 1520\u001b[0m     \u001b[38;5;28;01mreturn\u001b[39;00m \u001b[43mforward_call\u001b[49m\u001b[43m(\u001b[49m\u001b[38;5;241;43m*\u001b[39;49m\u001b[43margs\u001b[49m\u001b[43m,\u001b[49m\u001b[43m \u001b[49m\u001b[38;5;241;43m*\u001b[39;49m\u001b[38;5;241;43m*\u001b[39;49m\u001b[43mkwargs\u001b[49m\u001b[43m)\u001b[49m\n\u001b[1;32m   1522\u001b[0m \u001b[38;5;28;01mtry\u001b[39;00m:\n\u001b[1;32m   1523\u001b[0m     result \u001b[38;5;241m=\u001b[39m \u001b[38;5;28;01mNone\u001b[39;00m\n",
      "File \u001b[0;32m~/pesquisa/filipe/automatos/Growing-Neural-Cellular-Automata/lib/CAModel.py:69\u001b[0m, in \u001b[0;36mCAModel.forward\u001b[0;34m(self, x, steps, fire_rate, angle)\u001b[0m\n\u001b[1;32m     67\u001b[0m \u001b[38;5;28;01mdef\u001b[39;00m \u001b[38;5;21mforward\u001b[39m(\u001b[38;5;28mself\u001b[39m, x, steps\u001b[38;5;241m=\u001b[39m\u001b[38;5;241m1\u001b[39m, fire_rate\u001b[38;5;241m=\u001b[39m\u001b[38;5;28;01mNone\u001b[39;00m, angle\u001b[38;5;241m=\u001b[39m\u001b[38;5;241m0.0\u001b[39m):\n\u001b[1;32m     68\u001b[0m     \u001b[38;5;28;01mfor\u001b[39;00m step \u001b[38;5;129;01min\u001b[39;00m \u001b[38;5;28mrange\u001b[39m(steps):\n\u001b[0;32m---> 69\u001b[0m         x \u001b[38;5;241m=\u001b[39m \u001b[38;5;28;43mself\u001b[39;49m\u001b[38;5;241;43m.\u001b[39;49m\u001b[43mupdate\u001b[49m\u001b[43m(\u001b[49m\u001b[43mx\u001b[49m\u001b[43m,\u001b[49m\u001b[43m \u001b[49m\u001b[43mfire_rate\u001b[49m\u001b[43m,\u001b[49m\u001b[43m \u001b[49m\u001b[43mangle\u001b[49m\u001b[43m)\u001b[49m\n\u001b[1;32m     70\u001b[0m     \u001b[38;5;28;01mreturn\u001b[39;00m x\n",
      "File \u001b[0;32m~/pesquisa/filipe/automatos/Growing-Neural-Cellular-Automata/lib/CAModel.py:48\u001b[0m, in \u001b[0;36mCAModel.update\u001b[0;34m(self, x, fire_rate, angle)\u001b[0m\n\u001b[1;32m     45\u001b[0m x \u001b[38;5;241m=\u001b[39m x\u001b[38;5;241m.\u001b[39mtranspose(\u001b[38;5;241m1\u001b[39m,\u001b[38;5;241m3\u001b[39m)\n\u001b[1;32m     46\u001b[0m pre_life_mask \u001b[38;5;241m=\u001b[39m \u001b[38;5;28mself\u001b[39m\u001b[38;5;241m.\u001b[39malive(x)\n\u001b[0;32m---> 48\u001b[0m dx \u001b[38;5;241m=\u001b[39m \u001b[38;5;28;43mself\u001b[39;49m\u001b[38;5;241;43m.\u001b[39;49m\u001b[43mperceive\u001b[49m\u001b[43m(\u001b[49m\u001b[43mx\u001b[49m\u001b[43m,\u001b[49m\u001b[43m \u001b[49m\u001b[43mangle\u001b[49m\u001b[43m)\u001b[49m\n\u001b[1;32m     49\u001b[0m dx \u001b[38;5;241m=\u001b[39m dx\u001b[38;5;241m.\u001b[39mtranspose(\u001b[38;5;241m1\u001b[39m,\u001b[38;5;241m3\u001b[39m)\n\u001b[1;32m     50\u001b[0m dx \u001b[38;5;241m=\u001b[39m \u001b[38;5;28mself\u001b[39m\u001b[38;5;241m.\u001b[39mfc0(dx)\n",
      "File \u001b[0;32m~/pesquisa/filipe/automatos/Growing-Neural-Cellular-Automata/lib/CAModel.py:32\u001b[0m, in \u001b[0;36mCAModel.perceive\u001b[0;34m(self, x, angle)\u001b[0m\n\u001b[1;32m     29\u001b[0m     conv_weights \u001b[38;5;241m=\u001b[39m conv_weights\u001b[38;5;241m.\u001b[39mview(\u001b[38;5;241m1\u001b[39m,\u001b[38;5;241m1\u001b[39m,\u001b[38;5;241m3\u001b[39m,\u001b[38;5;241m3\u001b[39m)\u001b[38;5;241m.\u001b[39mrepeat(\u001b[38;5;28mself\u001b[39m\u001b[38;5;241m.\u001b[39mchannel_n, \u001b[38;5;241m1\u001b[39m, \u001b[38;5;241m1\u001b[39m, \u001b[38;5;241m1\u001b[39m)\n\u001b[1;32m     30\u001b[0m     \u001b[38;5;28;01mreturn\u001b[39;00m F\u001b[38;5;241m.\u001b[39mconv2d(x, conv_weights, padding\u001b[38;5;241m=\u001b[39m\u001b[38;5;241m1\u001b[39m, groups\u001b[38;5;241m=\u001b[39m\u001b[38;5;28mself\u001b[39m\u001b[38;5;241m.\u001b[39mchannel_n)\n\u001b[0;32m---> 32\u001b[0m dx \u001b[38;5;241m=\u001b[39m \u001b[43mnp\u001b[49m\u001b[38;5;241;43m.\u001b[39;49m\u001b[43mouter\u001b[49m\u001b[43m(\u001b[49m\u001b[43m[\u001b[49m\u001b[38;5;241;43m1\u001b[39;49m\u001b[43m,\u001b[49m\u001b[43m \u001b[49m\u001b[38;5;241;43m2\u001b[39;49m\u001b[43m,\u001b[49m\u001b[43m \u001b[49m\u001b[38;5;241;43m1\u001b[39;49m\u001b[43m]\u001b[49m\u001b[43m,\u001b[49m\u001b[43m \u001b[49m\u001b[43m[\u001b[49m\u001b[38;5;241;43m-\u001b[39;49m\u001b[38;5;241;43m1\u001b[39;49m\u001b[43m,\u001b[49m\u001b[43m \u001b[49m\u001b[38;5;241;43m0\u001b[39;49m\u001b[43m,\u001b[49m\u001b[43m \u001b[49m\u001b[38;5;241;43m1\u001b[39;49m\u001b[43m]\u001b[49m\u001b[43m)\u001b[49m \u001b[38;5;241m/\u001b[39m \u001b[38;5;241m8.0\u001b[39m  \u001b[38;5;66;03m# Sobel filter\u001b[39;00m\n\u001b[1;32m     33\u001b[0m dy \u001b[38;5;241m=\u001b[39m dx\u001b[38;5;241m.\u001b[39mT\n\u001b[1;32m     34\u001b[0m c \u001b[38;5;241m=\u001b[39m np\u001b[38;5;241m.\u001b[39mcos(angle\u001b[38;5;241m*\u001b[39mnp\u001b[38;5;241m.\u001b[39mpi\u001b[38;5;241m/\u001b[39m\u001b[38;5;241m180\u001b[39m)\n",
      "File \u001b[0;32m~/miniconda3/envs/automato/lib/python3.9/site-packages/numpy/core/numeric.py:925\u001b[0m, in \u001b[0;36mouter\u001b[0;34m(a, b, out)\u001b[0m\n\u001b[1;32m    923\u001b[0m a \u001b[38;5;241m=\u001b[39m asarray(a)\n\u001b[1;32m    924\u001b[0m b \u001b[38;5;241m=\u001b[39m asarray(b)\n\u001b[0;32m--> 925\u001b[0m \u001b[38;5;28;01mreturn\u001b[39;00m \u001b[43mmultiply\u001b[49m\u001b[43m(\u001b[49m\u001b[43ma\u001b[49m\u001b[38;5;241;43m.\u001b[39;49m\u001b[43mravel\u001b[49m\u001b[43m(\u001b[49m\u001b[43m)\u001b[49m\u001b[43m[\u001b[49m\u001b[43m:\u001b[49m\u001b[43m,\u001b[49m\u001b[43m \u001b[49m\u001b[43mnewaxis\u001b[49m\u001b[43m]\u001b[49m\u001b[43m,\u001b[49m\u001b[43m \u001b[49m\u001b[43mb\u001b[49m\u001b[38;5;241;43m.\u001b[39;49m\u001b[43mravel\u001b[49m\u001b[43m(\u001b[49m\u001b[43m)\u001b[49m\u001b[43m[\u001b[49m\u001b[43mnewaxis\u001b[49m\u001b[43m,\u001b[49m\u001b[43m \u001b[49m\u001b[43m:\u001b[49m\u001b[43m]\u001b[49m\u001b[43m,\u001b[49m\u001b[43m \u001b[49m\u001b[43mout\u001b[49m\u001b[43m)\u001b[49m\n",
      "\u001b[0;31mKeyboardInterrupt\u001b[0m: "
     ]
    }
   ],
   "source": [
    "loss_log = []\n",
    "\n",
    "def train(x, target, steps, optimizer, scheduler):\n",
    "    x = ca(x, steps=steps)\n",
    "    #import pdb;pdb.set_trace()\n",
    "    if target.shape[-1]>3:\n",
    "        #import pdb; pdb.set_trace()\n",
    "        loss = F.mse_loss(x[:, :, :, :4], target)\n",
    "    else:\n",
    "        loss = F.mse_loss(x[:, :, :, :3], target)\n",
    "    optimizer.zero_grad()\n",
    "    loss.backward()\n",
    "    optimizer.step()\n",
    "    scheduler.step()\n",
    "    return x, loss\n",
    "\n",
    "def loss_f(x, target):\n",
    "    if target.shape[-1]>3:\n",
    "        return torch.mean(torch.pow(x[..., :4]-target, 2), [-2,-3,-1])\n",
    "    else:\n",
    "        return torch.mean(torch.pow(x[..., :3]-target, 2), [-2,-3,-1])\n",
    "\n",
    "for i in range(n_epoch+1):\n",
    "    recorte_id= i%Ntargets\n",
    "    if USE_PATTERN_POOL:\n",
    "        #batch = pool.sample(BATCH_SIZE)\n",
    "        batch = pools[recorte_id].sample(BATCH_SIZE)\n",
    "        #x0 = torch.from_numpy(batch.x.astype(np.float32)).to(device)\n",
    "        x0 = torch.from_numpy(batchs[recorte_id].x.astype(np.float32)).to(device)\n",
    "        #loss_rank = loss_f(x0, pad_target).detach().cpu().numpy().argsort()[::-1]\n",
    "        loss_rank = loss_f(x0, pad_targets[recorte_id]).detach().cpu().numpy().argsort()[::-1]\n",
    "        #x0 = batch.x[loss_rank]\n",
    "        x0 = batchs[recorte_id].x[loss_rank]\n",
    "        #x0[:1] = seed\n",
    "        x0[:1] = seeds[recorte_id]\n",
    "        if DAMAGE_N:\n",
    "            damage = 1.0-make_circle_masks(DAMAGE_N, h, w)[..., None]\n",
    "            x0[-DAMAGE_N:] *= damage\n",
    "    else:\n",
    "        #x0 = np.repeat(seed[None, ...], BATCH_SIZE, 0)\n",
    "        x0 = np.repeat(seeds[recorte_id][None, ...], BATCH_SIZE, 0)\n",
    "    x0 = torch.from_numpy(x0.astype(np.float32)).to(device)\n",
    "    #import pdb; pdb.set_trace()\n",
    "    #x, loss = train(x0, pad_target, np.random.randint(64,96), optimizer, scheduler)\n",
    "    x, loss = train(x0, pad_targets[recorte_id], np.random.randint(64,96), optimizer, scheduler)\n",
    "    \n",
    "    if USE_PATTERN_POOL:\n",
    "        #batch.x[:] = x.detach().cpu().numpy()\n",
    "        batchs[recorte_id].x[:] = x.detach().cpu().numpy()\n",
    "        #batch.commit()\n",
    "        batchs[recorte_id].commit()\n",
    "\n",
    "    step_i = len(loss_log)\n",
    "    loss_log.append(loss.item())\n",
    "\n",
    "    #if step_i%100 == 0:\n",
    "    if (step_i%100 == 0) or (step_i%111 == 0):\n",
    "        clear_output()\n",
    "        print(step_i, \"loss =\", loss.item())\n",
    "        visualize_batch(x0.detach().cpu().numpy(), x.detach().cpu().numpy())\n",
    "        plot_loss(loss_log)\n",
    "        torch.save(ca.state_dict(), model_path)"
   ]
  },
  {
   "cell_type": "markdown",
   "metadata": {
    "id": "RCY7RmQrKaEk"
   },
   "source": [
    "## Generate image with inference"
   ]
  },
  {
   "cell_type": "code",
   "execution_count": 6,
   "metadata": {
    "tags": []
   },
   "outputs": [
    {
     "ename": "NameError",
     "evalue": "name 'seeds' is not defined",
     "output_type": "error",
     "traceback": [
      "\u001b[0;31m---------------------------------------------------------------------------\u001b[0m",
      "\u001b[0;31mNameError\u001b[0m                                 Traceback (most recent call last)",
      "Cell \u001b[0;32mIn[6], line 13\u001b[0m\n\u001b[1;32m      9\u001b[0m id_recorte \u001b[38;5;241m=\u001b[39m \u001b[38;5;241m0\u001b[39m\n\u001b[1;32m     11\u001b[0m x \u001b[38;5;241m=\u001b[39m np\u001b[38;5;241m.\u001b[39mzeros([\u001b[38;5;241m1\u001b[39m, \u001b[38;5;241m64\u001b[39m, \u001b[38;5;241m64\u001b[39m, CHANNEL_N], np\u001b[38;5;241m.\u001b[39mfloat32)\n\u001b[0;32m---> 13\u001b[0m x0 \u001b[38;5;241m=\u001b[39m np\u001b[38;5;241m.\u001b[39mrepeat(\u001b[43mseeds\u001b[49m[id_recorte][\u001b[38;5;28;01mNone\u001b[39;00m, \u001b[38;5;241m.\u001b[39m\u001b[38;5;241m.\u001b[39m\u001b[38;5;241m.\u001b[39m], \u001b[38;5;241m1\u001b[39m, \u001b[38;5;241m0\u001b[39m)\n\u001b[1;32m     14\u001b[0m x0 \u001b[38;5;241m=\u001b[39m torch\u001b[38;5;241m.\u001b[39mfrom_numpy(x0\u001b[38;5;241m.\u001b[39mastype(np\u001b[38;5;241m.\u001b[39mfloat32))\u001b[38;5;241m.\u001b[39mto(device)\n\u001b[1;32m     16\u001b[0m xf \u001b[38;5;241m=\u001b[39m ca(x0,steps\u001b[38;5;241m=\u001b[39m\u001b[38;5;241m96\u001b[39m)\n",
      "\u001b[0;31mNameError\u001b[0m: name 'seeds' is not defined"
     ]
    }
   ],
   "source": [
    "import tqdm\n",
    "\n",
    "#loaded_ca = ca.load_state_dict(torch.load(model_path)).to(device)\n",
    "\n",
    "loaded_ca = CAModel(CHANNEL_N, CELL_FIRE_RATE, device,hidden_size=128).to(device)\n",
    "#ca = LCAModel(CHANNEL_N, CELL_FIRE_RATE, device,hidden_size=8).to(device)\n",
    "loaded_ca = loaded_ca.load_state_dict(torch.load(model_path))\n",
    "\n",
    "id_recorte = 0\n",
    "\n",
    "x = np.zeros([1, 64, 64, CHANNEL_N], np.float32)\n",
    "\n",
    "x0 = np.repeat(seeds[id_recorte][None, ...], 1, 0)\n",
    "x0 = torch.from_numpy(x0.astype(np.float32)).to(device)\n",
    "\n",
    "xf = ca(x0,steps=96)\n",
    "\n",
    "#Filipe's code\n",
    "#input_rgb = to_rgb(x0.detach().cpu().numpy())\n",
    "output_rgb = to_rgb(xf.detach().cpu().numpy())\n",
    "target_rgb = to_rgb(targets_img[id_recorte])\n",
    "\n",
    "#unpading\n",
    "output_image = output_rgb[0]\n",
    "unpad_output_image = output_image[TARGET_PADDING:output_image.shape[0]-TARGET_PADDING, TARGET_PADDING:output_image.shape[1]-TARGET_PADDING]\n",
    "\n",
    "\n",
    "# plt.figure(figsize=(4,4))\n",
    "# plt.imshow(input_rgb[0])\n",
    "# plt.title(\"Imagem inicial\")\n",
    "\n",
    "plt.figure(figsize=(4,4))\n",
    "plt.imshow(unpad_output_image)\n",
    "plt.title(\"Imagem automato\")\n",
    "\n",
    "plt.figure(figsize=(4,4))\n",
    "#plt.imshow(to_rgb(target_img))\n",
    "plt.imshow(target_rgb)\n",
    "plt.title(\"imagem original (rgb)\")\n",
    "plt.show()\n"
   ]
  },
  {
   "cell_type": "code",
   "execution_count": 13,
   "metadata": {
    "tags": []
   },
   "outputs": [
    {
     "data": {
      "image/png": "[encoded data removed]",
      "text/plain": [
       "<Figure size 640x480 with 16 Axes>"
      ]
     },
     "metadata": {},
     "output_type": "display_data"
    },
    {
     "data": {
      "image/png": "[encoded data removed]",
      "text/plain": [
       "<Figure size 640x480 with 16 Axes>"
      ]
     },
     "metadata": {},
     "output_type": "display_data"
    }
   ],
   "source": [
    "import tqdm\n",
    "\n",
    "#loaded_ca = ca.load_state_dict(torch.load(model_path)).to(device)\n",
    "\n",
    "loaded_ca = CAModel(CHANNEL_N, CELL_FIRE_RATE, device,hidden_size=128).to(device)\n",
    "#ca = LCAModel(CHANNEL_N, CELL_FIRE_RATE, device,hidden_size=8).to(device)\n",
    "loaded_ca = loaded_ca.load_state_dict(torch.load(model_path))\n",
    "\n",
    "fig1, axs1 = plt.subplots(lin_targets, col_targets)\n",
    "fig2, axs2 = plt.subplots(lin_targets, col_targets)\n",
    "\n",
    "for id_recorte in range(Ntargets):\n",
    "\n",
    "\n",
    "    x = np.zeros([1, 64, 64, CHANNEL_N], np.float32)\n",
    "\n",
    "    x0 = np.repeat(seeds[id_recorte][None, ...], 1, 0)\n",
    "    x0 = torch.from_numpy(x0.astype(np.float32)).to(device)\n",
    "\n",
    "    xf = ca(x0,steps=96)\n",
    "\n",
    "    #Filipe's code\n",
    "    #input_rgb = to_rgb(x0.detach().cpu().numpy())\n",
    "    output_rgb = to_rgb(xf.detach().cpu().numpy())\n",
    "    target_rgb = to_rgb(targets_img[id_recorte])\n",
    "\n",
    "    #unpading\n",
    "    output_image = output_rgb[0]\n",
    "    unpad_output_image = output_image[TARGET_PADDING:output_image.shape[0]-TARGET_PADDING, TARGET_PADDING:output_image.shape[1]-TARGET_PADDING]\n",
    "\n",
    "\n",
    "    # plt.figure(figsize=(4,4))\n",
    "    # plt.imshow(input_rgb[0])\n",
    "    # plt.title(\"Imagem inicial\")\n",
    "\n",
    "#     plt.figure(figsize=(4,4))\n",
    "#     plt.imshow(unpad_output_image)\n",
    "#     plt.title(\"Imagem automato\")\n",
    "\n",
    "#     plt.figure(figsize=(4,4))\n",
    "#     #plt.imshow(to_rgb(target_img))\n",
    "#     plt.imshow(target_rgb)\n",
    "#     plt.title(\"imagem original (rgb)\")\n",
    "#     plt.show()\n",
    "\n",
    "    \n",
    "\n",
    "    axs1[id_recorte//lin_targets, id_recorte%col_targets].imshow(unpad_output_image)\n",
    "    axs2[id_recorte//lin_targets, id_recorte%col_targets].imshow(to_rgb(targets_img[id_recorte]))"
   ]
  },
  {
   "cell_type": "code",
   "execution_count": 12,
   "metadata": {
    "executionInfo": {
     "elapsed": 438,
     "status": "ok",
     "timestamp": 1710855394974,
     "user": {
      "displayName": "FILIPE CORDEIRO",
      "userId": "06393699062473933828"
     },
     "user_tz": 180
    },
    "id": "InIobEBofXcO",
    "tags": []
   },
   "outputs": [],
   "source": [
    "#Filipe's code\n",
    "input_rgb = to_rgb(x0.detach().cpu().numpy())\n",
    "output_rgb = to_rgb(x.detach().cpu().numpy())\n",
    "target_rgb = to_rgb(target_img)"
   ]
  },
  {
   "cell_type": "code",
   "execution_count": 13,
   "metadata": {
    "colab": {
     "base_uri": "https://localhost:8080/"
    },
    "executionInfo": {
     "elapsed": 1,
     "status": "ok",
     "timestamp": 1710855395550,
     "user": {
      "displayName": "FILIPE CORDEIRO",
      "userId": "06393699062473933828"
     },
     "user_tz": 180
    },
    "id": "9E3UVWbtfXf2",
    "outputId": "fff64d83-2db4-4f46-d1c2-f3fa605d4f86",
    "tags": []
   },
   "outputs": [
    {
     "data": {
      "text/plain": [
       "(56, 56, 3)"
      ]
     },
     "execution_count": 13,
     "metadata": {},
     "output_type": "execute_result"
    }
   ],
   "source": [
    "output_rgb[0].shape"
   ]
  },
  {
   "cell_type": "code",
   "execution_count": 46,
   "metadata": {
    "executionInfo": {
     "elapsed": 647,
     "status": "ok",
     "timestamp": 1710855406438,
     "user": {
      "displayName": "FILIPE CORDEIRO",
      "userId": "06393699062473933828"
     },
     "user_tz": 180
    },
    "id": "gyftDTUNfXmi",
    "tags": []
   },
   "outputs": [],
   "source": [
    "#unpading\n",
    "output_image = output_rgb[0]\n",
    "#unpad_output_image = output_image[TARGET_PADDING:output_image.shape[0]-TARGET_PADDING][TARGET_PADDING:output_image.shape[1]-TARGET_PADDING]\n",
    "unpad_output_image = output_image[TARGET_PADDING:output_image.shape[0]-TARGET_PADDING, TARGET_PADDING:output_image.shape[1]-TARGET_PADDING]"
   ]
  },
  {
   "cell_type": "code",
   "execution_count": 47,
   "metadata": {
    "colab": {
     "base_uri": "https://localhost:8080/",
     "height": 765
    },
    "executionInfo": {
     "elapsed": 1118,
     "status": "ok",
     "timestamp": 1710855407554,
     "user": {
      "displayName": "FILIPE CORDEIRO",
      "userId": "06393699062473933828"
     },
     "user_tz": 180
    },
    "id": "EXeLHfIvfi1p",
    "outputId": "60120020-53e9-4b24-d79f-78241f42094b",
    "tags": []
   },
   "outputs": [
    {
     "data": {
      "image/png": "[encoded data removed]",
      "text/plain": [
       "<Figure size 400x400 with 1 Axes>"
      ]
     },
     "metadata": {},
     "output_type": "display_data"
    },
    {
     "data": {
      "image/png": "[encoded data removed]",
      "text/plain": [
       "<Figure size 400x400 with 1 Axes>"
      ]
     },
     "metadata": {},
     "output_type": "display_data"
    }
   ],
   "source": [
    "plt.figure(figsize=(4,4))\n",
    "plt.imshow(unpad_output_image)\n",
    "plt.title(\"Imagem automato\")\n",
    "\n",
    "plt.figure(figsize=(4,4))\n",
    "#plt.imshow(to_rgb(target_img))\n",
    "plt.imshow(to_rgb(targets_img[0]))\n",
    "plt.title(\"imagem original (rgb)\")\n",
    "plt.show()\n",
    "\n"
   ]
  },
  {
   "cell_type": "code",
   "execution_count": 44,
   "metadata": {
    "colab": {
     "base_uri": "https://localhost:8080/"
    },
    "executionInfo": {
     "elapsed": 461,
     "status": "ok",
     "timestamp": 1710855874401,
     "user": {
      "displayName": "FILIPE CORDEIRO",
      "userId": "06393699062473933828"
     },
     "user_tz": 180
    },
    "id": "Gxlx5Jt88kNg",
    "outputId": "36cdd311-a963-4a6d-e875-20fd634d3756"
   },
   "outputs": [
    {
     "data": {
      "text/plain": [
       "1.0"
      ]
     },
     "execution_count": 44,
     "metadata": {},
     "output_type": "execute_result"
    }
   ],
   "source": []
  },
  {
   "cell_type": "code",
   "execution_count": 47,
   "metadata": {
    "executionInfo": {
     "elapsed": 564,
     "status": "ok",
     "timestamp": 1710855945547,
     "user": {
      "displayName": "FILIPE CORDEIRO",
      "userId": "06393699062473933828"
     },
     "user_tz": 180
    },
    "id": "wS5pmVWE7rlg"
   },
   "outputs": [],
   "source": [
    "from PIL import Image\n",
    "\n",
    "unpad_output_image_ = unpad_output_image * 255\n",
    "unpad_output_image_ = unpad_output_image_.astype(np.uint8)\n",
    "im = Image.fromarray(unpad_output_image_)\n",
    "im.save(\"data/automato.png\", \"PNG\")\n",
    "\n",
    "\n",
    "temp = to_rgb(target_img)* 255\n",
    "temp_ = temp.astype(np.uint8)\n",
    "im2 = Image.fromarray(temp_)\n",
    "# im2 = Image.fromarray(target_img)\n",
    "im2.save(\"data/target.png\", \"PNG\")"
   ]
  },
  {
   "cell_type": "code",
   "execution_count": 48,
   "metadata": {
    "colab": {
     "base_uri": "https://localhost:8080/"
    },
    "executionInfo": {
     "elapsed": 547,
     "status": "ok",
     "timestamp": 1710855976970,
     "user": {
      "displayName": "FILIPE CORDEIRO",
      "userId": "06393699062473933828"
     },
     "user_tz": 180
    },
    "id": "yALNDtER74dv",
    "outputId": "42f84c0e-626c-4a8d-9382-ce479382d2f8"
   },
   "outputs": [
    {
     "name": "stdout",
     "output_type": "stream",
     "text": [
      "7142\n",
      "2396\n",
      "26369\n"
     ]
    }
   ],
   "source": [
    "import os\n",
    "print(os.stat(\"data/automato.png\").st_size)\n",
    "print(os.stat(\"data/target.png\").st_size)\n",
    "print(os.stat(\"data/caracol_png.png\").st_size)"
   ]
  },
  {
   "cell_type": "code",
   "execution_count": null,
   "metadata": {
    "id": "lCru4Qqu7f0c"
   },
   "outputs": [],
   "source": []
  },
  {
   "cell_type": "code",
   "execution_count": null,
   "metadata": {
    "id": "00Nkns7wfi4f"
   },
   "outputs": [],
   "source": [
    "from PIL import Image\n",
    "\n",
    "\n",
    "unpad_output_image_ = unpad_output_image * 255\n",
    "unpad_output_image_ = unpad_output_image_.astype(np.uint8)\n",
    "im = Image.fromarray(unpad_output_image_)\n",
    "im.save(\"img_automato_rgb_peru_R.png\", \"PNG\")\n",
    "\n",
    "\n",
    "target_image_ = to_rgb(target_img) * 255\n",
    "target_image_ = target_image_.astype(np.uint8)\n",
    "im = Image.fromarray(target_image_)\n",
    "im.save(\"img_target_rgb_peru_R.png\", \"PNG\")\n",
    "\n",
    "import shutil\n",
    "\n",
    "\n",
    "caminho_img_automato = \"img_automato_rgb_peru_R.png\"\n",
    "caminho_img_original = \"img_target_rgb_peru_R.png\"\n",
    "\n",
    "\n",
    "diretorio_destino = \"C:/Users/andre/OneDrive/Imagens/imagem automatos\"\n",
    "\n",
    "\n",
    "shutil.move(caminho_img_automato, diretorio_destino)\n",
    "shutil.move(caminho_img_original, diretorio_destino)\n"
   ]
  },
  {
   "cell_type": "code",
   "execution_count": null,
   "metadata": {
    "id": "EUDK1Enpfi6z"
   },
   "outputs": [],
   "source": [
    "from skimage.metrics import mean_squared_error, peak_signal_noise_ratio, structural_similarity\n",
    "from skimage.io import imread\n",
    "import os\n",
    "\n",
    "\n",
    "imagem_automato = imread(\"C:/Users/andre/OneDrive/Imagens/imagem automatos/img_automato_rgb_peru_R.png\")\n",
    "imagem_original = imread(\"C:/Users/andre/OneDrive/Imagens/imagem automatos/img_target_rgb_peru_R.png\")\n",
    "\n",
    "\n",
    "\n",
    "mse = mean_squared_error(imagem_original, imagem_automato)\n",
    "psnr = peak_signal_noise_ratio(imagem_original, imagem_automato)\n",
    "ssim = structural_similarity(imagem_original, imagem_automato, win_size=3, multichannel=True)\n",
    "\n",
    "\n",
    "print(\"PSNR (Peak Signal-to-Noise Ratio):\", psnr)\n",
    "print(\"MSE (Mean Squared Error):\", mse)\n",
    "print(\"SSIM (Structural Similarity Index):\", ssim)\n",
    "\n",
    "import os\n",
    "\n",
    "\n",
    "caminho_img_original = \"C:/Users/andre/OneDrive/Imagens/imagem automatos/img_target_rgb_peru_R.png\"\n",
    "caminho_img_automato = \"C:/Users/andre/OneDrive/Imagens/imagem automatos/img_automato_rgb_peru_R.png\"\n",
    "\n",
    "\n",
    "def tamanho_arquivo(caminho):\n",
    "    return os.path.getsize(caminho)\n",
    "\n",
    "\n",
    "tamanho_original = tamanho_arquivo(caminho_img_original)\n",
    "tamanho_automato = tamanho_arquivo(caminho_img_automato)\n",
    "\n",
    "\n",
    "print(\"Tamanho da imagem original:\", tamanho_original, \"bytes\")\n",
    "print(\"Tamanho da imagem gerada pelo autômato:\", tamanho_automato, \"bytes\")\n",
    "\n",
    "def calcular_bits_por_pixel(caminho_imagem, tamanho_arquivo):\n",
    "    imagem = imread(caminho_imagem)\n",
    "    largura, altura, _ = imagem.shape\n",
    "    total_pixels = largura * altura\n",
    "    bits_por_pixel = (tamanho_arquivo * 8) / total_pixels\n",
    "    return bits_por_pixel\n",
    "\n",
    "bits_por_pixel_original = calcular_bits_por_pixel(caminho_img_original, tamanho_original)\n",
    "bits_por_pixel_automato = calcular_bits_por_pixel(caminho_img_automato, tamanho_automato)\n",
    "\n",
    "print(\"Bits por Pixel da imagem original:\", bits_por_pixel_original)\n",
    "print(\"Bits por Pixel da imagem gerada pelo autômato:\", bits_por_pixel_automato)\n"
   ]
  },
  {
   "cell_type": "code",
   "execution_count": null,
   "metadata": {
    "id": "kMTF8E85fi9Y"
   },
   "outputs": [],
   "source": []
  }
 ],
 "metadata": {
  "accelerator": "GPU",
  "colab": {
   "gpuType": "T4",
   "provenance": [
    {
     "file_id": "1vqxec-elDk6yOSLu3zISHvUgb2ppauTG",
     "timestamp": 1710445599924
    }
   ]
  },
  "kernelspec": {
   "display_name": "Python 3 (ipykernel)",
   "language": "python",
   "name": "python3"
  },
  "language_info": {
   "codemirror_mode": {
    "name": "ipython",
    "version": 3
   },
   "file_extension": ".py",
   "mimetype": "text/x-python",
   "name": "python",
   "nbconvert_exporter": "python",
   "pygments_lexer": "ipython3",
   "version": "3.9.18"
  }
 },
 "nbformat": 4,
 "nbformat_minor": 4
}
